{
 "cells": [
  {
   "cell_type": "markdown",
   "metadata": {},
   "source": [
    "# Challenge 1 - Tic Tac Toe\n",
    "\n",
    "In this lab you will perform deep learning analysis on a dataset of playing [Tic Tac Toe](https://en.wikipedia.org/wiki/Tic-tac-toe).\n",
    "\n",
    "There are 9 grids in Tic Tac Toe that are coded as the following picture shows:\n",
    "\n",
    "![Tic Tac Toe Grids](tttboard.jpg)\n",
    "\n",
    "In the first 9 columns of the dataset you can find which marks (`x` or `o`) exist in the grids. If there is no mark in a certain grid, it is labeled as `b`. The last column is `class` which tells you whether Player X (who always moves first in Tic Tac Toe) wins in this configuration. Note that when `class` has the value `False`, it means either Player O wins the game or it ends up as a draw."
   ]
  },
  {
   "cell_type": "markdown",
   "metadata": {},
   "source": [
    "Follow the steps suggested below to conduct a neural network analysis using Tensorflow and Keras. You will build a deep learning model to predict whether Player X wins the game or not.\n",
    "\n",
    "## Step 1: Data Engineering\n",
    "\n",
    "This dataset is almost in the ready-to-use state so you do not need to worry about missing values and so on. Still, some simple data engineering is needed.\n",
    "\n",
    "1. Read `tic-tac-toe.csv` into a dataframe.\n",
    "1. Inspect the dataset. Determine if the dataset is reliable by eyeballing the data.\n",
    "1. Convert the categorical values to numeric in all columns.\n",
    "1. Separate the inputs and output.\n",
    "1. Normalize the input data."
   ]
  },
  {
   "cell_type": "code",
   "execution_count": 80,
   "metadata": {},
   "outputs": [],
   "source": [
    "import pandas as pd\n",
    "import numpy as np"
   ]
  },
  {
   "cell_type": "code",
   "execution_count": 59,
   "metadata": {},
   "outputs": [
    {
     "data": {
      "text/html": [
       "<div>\n",
       "<style scoped>\n",
       "    .dataframe tbody tr th:only-of-type {\n",
       "        vertical-align: middle;\n",
       "    }\n",
       "\n",
       "    .dataframe tbody tr th {\n",
       "        vertical-align: top;\n",
       "    }\n",
       "\n",
       "    .dataframe thead th {\n",
       "        text-align: right;\n",
       "    }\n",
       "</style>\n",
       "<table border=\"1\" class=\"dataframe\">\n",
       "  <thead>\n",
       "    <tr style=\"text-align: right;\">\n",
       "      <th></th>\n",
       "      <th>TL</th>\n",
       "      <th>TM</th>\n",
       "      <th>TR</th>\n",
       "      <th>ML</th>\n",
       "      <th>MM</th>\n",
       "      <th>MR</th>\n",
       "      <th>BL</th>\n",
       "      <th>BM</th>\n",
       "      <th>BR</th>\n",
       "      <th>class</th>\n",
       "    </tr>\n",
       "  </thead>\n",
       "  <tbody>\n",
       "    <tr>\n",
       "      <th>0</th>\n",
       "      <td>x</td>\n",
       "      <td>x</td>\n",
       "      <td>x</td>\n",
       "      <td>x</td>\n",
       "      <td>o</td>\n",
       "      <td>o</td>\n",
       "      <td>x</td>\n",
       "      <td>o</td>\n",
       "      <td>o</td>\n",
       "      <td>True</td>\n",
       "    </tr>\n",
       "    <tr>\n",
       "      <th>1</th>\n",
       "      <td>x</td>\n",
       "      <td>x</td>\n",
       "      <td>x</td>\n",
       "      <td>x</td>\n",
       "      <td>o</td>\n",
       "      <td>o</td>\n",
       "      <td>o</td>\n",
       "      <td>x</td>\n",
       "      <td>o</td>\n",
       "      <td>True</td>\n",
       "    </tr>\n",
       "    <tr>\n",
       "      <th>2</th>\n",
       "      <td>x</td>\n",
       "      <td>x</td>\n",
       "      <td>x</td>\n",
       "      <td>x</td>\n",
       "      <td>o</td>\n",
       "      <td>o</td>\n",
       "      <td>o</td>\n",
       "      <td>o</td>\n",
       "      <td>x</td>\n",
       "      <td>True</td>\n",
       "    </tr>\n",
       "    <tr>\n",
       "      <th>3</th>\n",
       "      <td>x</td>\n",
       "      <td>x</td>\n",
       "      <td>x</td>\n",
       "      <td>x</td>\n",
       "      <td>o</td>\n",
       "      <td>o</td>\n",
       "      <td>o</td>\n",
       "      <td>b</td>\n",
       "      <td>b</td>\n",
       "      <td>True</td>\n",
       "    </tr>\n",
       "    <tr>\n",
       "      <th>4</th>\n",
       "      <td>x</td>\n",
       "      <td>x</td>\n",
       "      <td>x</td>\n",
       "      <td>x</td>\n",
       "      <td>o</td>\n",
       "      <td>o</td>\n",
       "      <td>b</td>\n",
       "      <td>o</td>\n",
       "      <td>b</td>\n",
       "      <td>True</td>\n",
       "    </tr>\n",
       "    <tr>\n",
       "      <th>...</th>\n",
       "      <td>...</td>\n",
       "      <td>...</td>\n",
       "      <td>...</td>\n",
       "      <td>...</td>\n",
       "      <td>...</td>\n",
       "      <td>...</td>\n",
       "      <td>...</td>\n",
       "      <td>...</td>\n",
       "      <td>...</td>\n",
       "      <td>...</td>\n",
       "    </tr>\n",
       "    <tr>\n",
       "      <th>953</th>\n",
       "      <td>o</td>\n",
       "      <td>x</td>\n",
       "      <td>x</td>\n",
       "      <td>x</td>\n",
       "      <td>o</td>\n",
       "      <td>o</td>\n",
       "      <td>o</td>\n",
       "      <td>x</td>\n",
       "      <td>x</td>\n",
       "      <td>False</td>\n",
       "    </tr>\n",
       "    <tr>\n",
       "      <th>954</th>\n",
       "      <td>o</td>\n",
       "      <td>x</td>\n",
       "      <td>o</td>\n",
       "      <td>x</td>\n",
       "      <td>x</td>\n",
       "      <td>o</td>\n",
       "      <td>x</td>\n",
       "      <td>o</td>\n",
       "      <td>x</td>\n",
       "      <td>False</td>\n",
       "    </tr>\n",
       "    <tr>\n",
       "      <th>955</th>\n",
       "      <td>o</td>\n",
       "      <td>x</td>\n",
       "      <td>o</td>\n",
       "      <td>x</td>\n",
       "      <td>o</td>\n",
       "      <td>x</td>\n",
       "      <td>x</td>\n",
       "      <td>o</td>\n",
       "      <td>x</td>\n",
       "      <td>False</td>\n",
       "    </tr>\n",
       "    <tr>\n",
       "      <th>956</th>\n",
       "      <td>o</td>\n",
       "      <td>x</td>\n",
       "      <td>o</td>\n",
       "      <td>o</td>\n",
       "      <td>x</td>\n",
       "      <td>x</td>\n",
       "      <td>x</td>\n",
       "      <td>o</td>\n",
       "      <td>x</td>\n",
       "      <td>False</td>\n",
       "    </tr>\n",
       "    <tr>\n",
       "      <th>957</th>\n",
       "      <td>o</td>\n",
       "      <td>o</td>\n",
       "      <td>x</td>\n",
       "      <td>x</td>\n",
       "      <td>x</td>\n",
       "      <td>o</td>\n",
       "      <td>o</td>\n",
       "      <td>x</td>\n",
       "      <td>x</td>\n",
       "      <td>False</td>\n",
       "    </tr>\n",
       "  </tbody>\n",
       "</table>\n",
       "<p>958 rows × 10 columns</p>\n",
       "</div>"
      ],
      "text/plain": [
       "    TL TM TR ML MM MR BL BM BR  class\n",
       "0    x  x  x  x  o  o  x  o  o   True\n",
       "1    x  x  x  x  o  o  o  x  o   True\n",
       "2    x  x  x  x  o  o  o  o  x   True\n",
       "3    x  x  x  x  o  o  o  b  b   True\n",
       "4    x  x  x  x  o  o  b  o  b   True\n",
       "..  .. .. .. .. .. .. .. .. ..    ...\n",
       "953  o  x  x  x  o  o  o  x  x  False\n",
       "954  o  x  o  x  x  o  x  o  x  False\n",
       "955  o  x  o  x  o  x  x  o  x  False\n",
       "956  o  x  o  o  x  x  x  o  x  False\n",
       "957  o  o  x  x  x  o  o  x  x  False\n",
       "\n",
       "[958 rows x 10 columns]"
      ]
     },
     "execution_count": 59,
     "metadata": {},
     "output_type": "execute_result"
    }
   ],
   "source": [
    "game = pd.read_csv('tic-tac-toe.csv')\n",
    "game"
   ]
  },
  {
   "cell_type": "code",
   "execution_count": 60,
   "metadata": {},
   "outputs": [],
   "source": [
    "# Categorical to numerical: x=1, o=2, b=0. True=1, False=0\n",
    "def numer (col):\n",
    "        if col=='x':\n",
    "            return(1)\n",
    "        if col=='o':\n",
    "            return(2)\n",
    "        if col=='b':\n",
    "            return(3)\n",
    "        if col==True:\n",
    "            return(1)\n",
    "        if col==False:\n",
    "            return(0)"
   ]
  },
  {
   "cell_type": "code",
   "execution_count": 61,
   "metadata": {},
   "outputs": [],
   "source": [
    "for col in range(0,len(game.columns)):\n",
    "    game[game.columns[col]] = game[game.columns[col]].apply(numer)"
   ]
  },
  {
   "cell_type": "code",
   "execution_count": 62,
   "metadata": {},
   "outputs": [
    {
     "data": {
      "text/html": [
       "<div>\n",
       "<style scoped>\n",
       "    .dataframe tbody tr th:only-of-type {\n",
       "        vertical-align: middle;\n",
       "    }\n",
       "\n",
       "    .dataframe tbody tr th {\n",
       "        vertical-align: top;\n",
       "    }\n",
       "\n",
       "    .dataframe thead th {\n",
       "        text-align: right;\n",
       "    }\n",
       "</style>\n",
       "<table border=\"1\" class=\"dataframe\">\n",
       "  <thead>\n",
       "    <tr style=\"text-align: right;\">\n",
       "      <th></th>\n",
       "      <th>TL</th>\n",
       "      <th>TM</th>\n",
       "      <th>TR</th>\n",
       "      <th>ML</th>\n",
       "      <th>MM</th>\n",
       "      <th>MR</th>\n",
       "      <th>BL</th>\n",
       "      <th>BM</th>\n",
       "      <th>BR</th>\n",
       "      <th>class</th>\n",
       "    </tr>\n",
       "  </thead>\n",
       "  <tbody>\n",
       "    <tr>\n",
       "      <th>0</th>\n",
       "      <td>1</td>\n",
       "      <td>1</td>\n",
       "      <td>1</td>\n",
       "      <td>1</td>\n",
       "      <td>2</td>\n",
       "      <td>2</td>\n",
       "      <td>1</td>\n",
       "      <td>2</td>\n",
       "      <td>2</td>\n",
       "      <td>1</td>\n",
       "    </tr>\n",
       "    <tr>\n",
       "      <th>1</th>\n",
       "      <td>1</td>\n",
       "      <td>1</td>\n",
       "      <td>1</td>\n",
       "      <td>1</td>\n",
       "      <td>2</td>\n",
       "      <td>2</td>\n",
       "      <td>2</td>\n",
       "      <td>1</td>\n",
       "      <td>2</td>\n",
       "      <td>1</td>\n",
       "    </tr>\n",
       "    <tr>\n",
       "      <th>2</th>\n",
       "      <td>1</td>\n",
       "      <td>1</td>\n",
       "      <td>1</td>\n",
       "      <td>1</td>\n",
       "      <td>2</td>\n",
       "      <td>2</td>\n",
       "      <td>2</td>\n",
       "      <td>2</td>\n",
       "      <td>1</td>\n",
       "      <td>1</td>\n",
       "    </tr>\n",
       "    <tr>\n",
       "      <th>3</th>\n",
       "      <td>1</td>\n",
       "      <td>1</td>\n",
       "      <td>1</td>\n",
       "      <td>1</td>\n",
       "      <td>2</td>\n",
       "      <td>2</td>\n",
       "      <td>2</td>\n",
       "      <td>3</td>\n",
       "      <td>3</td>\n",
       "      <td>1</td>\n",
       "    </tr>\n",
       "    <tr>\n",
       "      <th>4</th>\n",
       "      <td>1</td>\n",
       "      <td>1</td>\n",
       "      <td>1</td>\n",
       "      <td>1</td>\n",
       "      <td>2</td>\n",
       "      <td>2</td>\n",
       "      <td>3</td>\n",
       "      <td>2</td>\n",
       "      <td>3</td>\n",
       "      <td>1</td>\n",
       "    </tr>\n",
       "    <tr>\n",
       "      <th>...</th>\n",
       "      <td>...</td>\n",
       "      <td>...</td>\n",
       "      <td>...</td>\n",
       "      <td>...</td>\n",
       "      <td>...</td>\n",
       "      <td>...</td>\n",
       "      <td>...</td>\n",
       "      <td>...</td>\n",
       "      <td>...</td>\n",
       "      <td>...</td>\n",
       "    </tr>\n",
       "    <tr>\n",
       "      <th>953</th>\n",
       "      <td>2</td>\n",
       "      <td>1</td>\n",
       "      <td>1</td>\n",
       "      <td>1</td>\n",
       "      <td>2</td>\n",
       "      <td>2</td>\n",
       "      <td>2</td>\n",
       "      <td>1</td>\n",
       "      <td>1</td>\n",
       "      <td>0</td>\n",
       "    </tr>\n",
       "    <tr>\n",
       "      <th>954</th>\n",
       "      <td>2</td>\n",
       "      <td>1</td>\n",
       "      <td>2</td>\n",
       "      <td>1</td>\n",
       "      <td>1</td>\n",
       "      <td>2</td>\n",
       "      <td>1</td>\n",
       "      <td>2</td>\n",
       "      <td>1</td>\n",
       "      <td>0</td>\n",
       "    </tr>\n",
       "    <tr>\n",
       "      <th>955</th>\n",
       "      <td>2</td>\n",
       "      <td>1</td>\n",
       "      <td>2</td>\n",
       "      <td>1</td>\n",
       "      <td>2</td>\n",
       "      <td>1</td>\n",
       "      <td>1</td>\n",
       "      <td>2</td>\n",
       "      <td>1</td>\n",
       "      <td>0</td>\n",
       "    </tr>\n",
       "    <tr>\n",
       "      <th>956</th>\n",
       "      <td>2</td>\n",
       "      <td>1</td>\n",
       "      <td>2</td>\n",
       "      <td>2</td>\n",
       "      <td>1</td>\n",
       "      <td>1</td>\n",
       "      <td>1</td>\n",
       "      <td>2</td>\n",
       "      <td>1</td>\n",
       "      <td>0</td>\n",
       "    </tr>\n",
       "    <tr>\n",
       "      <th>957</th>\n",
       "      <td>2</td>\n",
       "      <td>2</td>\n",
       "      <td>1</td>\n",
       "      <td>1</td>\n",
       "      <td>1</td>\n",
       "      <td>2</td>\n",
       "      <td>2</td>\n",
       "      <td>1</td>\n",
       "      <td>1</td>\n",
       "      <td>0</td>\n",
       "    </tr>\n",
       "  </tbody>\n",
       "</table>\n",
       "<p>958 rows × 10 columns</p>\n",
       "</div>"
      ],
      "text/plain": [
       "     TL  TM  TR  ML  MM  MR  BL  BM  BR  class\n",
       "0     1   1   1   1   2   2   1   2   2      1\n",
       "1     1   1   1   1   2   2   2   1   2      1\n",
       "2     1   1   1   1   2   2   2   2   1      1\n",
       "3     1   1   1   1   2   2   2   3   3      1\n",
       "4     1   1   1   1   2   2   3   2   3      1\n",
       "..   ..  ..  ..  ..  ..  ..  ..  ..  ..    ...\n",
       "953   2   1   1   1   2   2   2   1   1      0\n",
       "954   2   1   2   1   1   2   1   2   1      0\n",
       "955   2   1   2   1   2   1   1   2   1      0\n",
       "956   2   1   2   2   1   1   1   2   1      0\n",
       "957   2   2   1   1   1   2   2   1   1      0\n",
       "\n",
       "[958 rows x 10 columns]"
      ]
     },
     "execution_count": 62,
     "metadata": {},
     "output_type": "execute_result"
    }
   ],
   "source": [
    "game"
   ]
  },
  {
   "cell_type": "code",
   "execution_count": 63,
   "metadata": {},
   "outputs": [],
   "source": [
    "inputs = game.drop(columns='class')\n",
    "output = game['class']"
   ]
  },
  {
   "cell_type": "code",
   "execution_count": 64,
   "metadata": {},
   "outputs": [],
   "source": [
    "from sklearn import preprocessing\n",
    "scaler = preprocessing.StandardScaler()\n",
    "inputs = scaler.fit_transform(inputs)"
   ]
  },
  {
   "cell_type": "markdown",
   "metadata": {},
   "source": [
    "## Step 2: Build Neural Network\n",
    "\n",
    "To build the neural network, you can refer to your own codes you wrote while following the [Deep Learning with Python, TensorFlow, and Keras tutorial](https://www.youtube.com/watch?v=wQ8BIBpya2k) in the lesson. It's pretty similar to what you will be doing in this lab.\n",
    "\n",
    "1. Split the training and test data.\n",
    "1. Create a `Sequential` model.\n",
    "1. Add several layers to your model. Make sure you use ReLU as the activation function for the middle layers. Use Softmax for the output layer because each output has a single lable and all the label probabilities add up to 1.\n",
    "1. Compile the model using `adam` as the optimizer and `sparse_categorical_crossentropy` as the loss function. For metrics, use `accuracy` for now.\n",
    "1. Fit the training data.\n",
    "1. Evaluate your neural network model with the test data.\n",
    "1. Save your model as `tic-tac-toe.model`."
   ]
  },
  {
   "cell_type": "code",
   "execution_count": 65,
   "metadata": {},
   "outputs": [],
   "source": [
    "#Split train-test data\n",
    "\n",
    "from sklearn.model_selection import train_test_split\n",
    "x_train, x_test, y_train, y_test = train_test_split(inputs, output)"
   ]
  },
  {
   "cell_type": "code",
   "execution_count": 66,
   "metadata": {},
   "outputs": [
    {
     "data": {
      "text/plain": [
       "(718, 9)"
      ]
     },
     "execution_count": 66,
     "metadata": {},
     "output_type": "execute_result"
    }
   ],
   "source": [
    "x_train.shape"
   ]
  },
  {
   "cell_type": "code",
   "execution_count": 72,
   "metadata": {},
   "outputs": [],
   "source": [
    "from tensorflow.keras.models import Sequential\n",
    "from tensorflow.keras.layers import Dense\n",
    "from tensorflow.keras.utils import to_categorical\n",
    "\n",
    "#Create the sequential model\n",
    "model = Sequential([ # as far as we know, all networks are sequential\n",
    "  Dense(64, activation='relu', input_shape=(9,)), #784= 28*28 dense networks means all neurons in one layer are connected to all neuronsof the next layer\n",
    "  Dense(64, activation='relu'),      # choosing relu instead of sigmoid, this is somewhat common\n",
    "  Dense(10, activation='softmax'),   # the softmax actiavation is the last one to compensate for the high volume additions\n",
    "])\n",
    "# Compile the model.\n",
    "model.compile(\n",
    "  optimizer='adam', #here we could use stochastic gradient descent, but adam is a de facto standard\n",
    "  loss='sparse_categorical_crossentropy', #this is how we create the original blam to play the blame game\n",
    "  metrics=['accuracy'],\n",
    ")"
   ]
  },
  {
   "cell_type": "code",
   "execution_count": 73,
   "metadata": {},
   "outputs": [
    {
     "name": "stdout",
     "output_type": "stream",
     "text": [
      "Epoch 1/5\n",
      "23/23 [==============================] - 0s 1ms/step - loss: 1.6775 - accuracy: 0.4777\n",
      "Epoch 2/5\n",
      "23/23 [==============================] - 0s 2ms/step - loss: 0.8626 - accuracy: 0.6574\n",
      "Epoch 3/5\n",
      "23/23 [==============================] - 0s 2ms/step - loss: 0.6449 - accuracy: 0.6880\n",
      "Epoch 4/5\n",
      "23/23 [==============================] - 0s 2ms/step - loss: 0.5956 - accuracy: 0.6866\n",
      "Epoch 5/5\n",
      "23/23 [==============================] - 0s 2ms/step - loss: 0.5761 - accuracy: 0.7187\n"
     ]
    }
   ],
   "source": [
    "# Train the model\n",
    "history = model.fit(\n",
    "  x_train,\n",
    "  y_train, # just to make sure the outputs are not considered numeric (because, ya know, they are numbers...)\n",
    "  epochs=5, # go 5 times through the whole dataset\n",
    "  batch_size=32, # send 32 images at a time before you tweak the network again, to make it faster\n",
    ")"
   ]
  },
  {
   "cell_type": "code",
   "execution_count": 74,
   "metadata": {},
   "outputs": [
    {
     "name": "stdout",
     "output_type": "stream",
     "text": [
      "8/8 [==============================] - 0s 2ms/step - loss: 0.5639 - accuracy: 0.7250\n"
     ]
    },
    {
     "data": {
      "text/plain": [
       "[0.5638549327850342, 0.7250000238418579]"
      ]
     },
     "execution_count": 74,
     "metadata": {},
     "output_type": "execute_result"
    }
   ],
   "source": [
    "# Evaluate the model.\n",
    "model.evaluate(\n",
    "  x_test,\n",
    "  y_test\n",
    ")"
   ]
  },
  {
   "cell_type": "code",
   "execution_count": 75,
   "metadata": {},
   "outputs": [
    {
     "name": "stdout",
     "output_type": "stream",
     "text": [
      "Keras weights file (<HDF5 file \"variables.h5\" (mode r+)>) saving:\n",
      "...layers\\dense\n",
      "......vars\n",
      ".........0\n",
      ".........1\n",
      "...layers\\dense_1\n",
      "......vars\n",
      ".........0\n",
      ".........1\n",
      "...layers\\dense_2\n",
      "......vars\n",
      ".........0\n",
      ".........1\n",
      "...metrics\\mean\n",
      "......vars\n",
      ".........0\n",
      ".........1\n",
      "...metrics\\mean_metric_wrapper\n",
      "......vars\n",
      ".........0\n",
      ".........1\n",
      "...optimizer\n",
      "......vars\n",
      ".........0\n",
      ".........1\n",
      ".........10\n",
      ".........11\n",
      ".........12\n",
      ".........2\n",
      ".........3\n",
      ".........4\n",
      ".........5\n",
      ".........6\n",
      ".........7\n",
      ".........8\n",
      ".........9\n",
      "...vars\n",
      "Keras model archive saving:\n",
      "File Name                                             Modified             Size\n",
      "config.json                                    2023-02-07 12:07:30         1845\n",
      "metadata.json                                  2023-02-07 12:07:30           64\n",
      "variables.h5                                   2023-02-07 12:07:30        87512\n"
     ]
    }
   ],
   "source": [
    "import pickle\n",
    "\n",
    "pickle.dump(model, open('tic-tac-toe.model', 'wb'))"
   ]
  },
  {
   "cell_type": "markdown",
   "metadata": {},
   "source": [
    "## Step 3: Make Predictions\n",
    "\n",
    "Now load your saved model and use it to make predictions on a few random rows in the test dataset. Check if the predictions are correct."
   ]
  },
  {
   "cell_type": "code",
   "execution_count": 76,
   "metadata": {},
   "outputs": [
    {
     "name": "stdout",
     "output_type": "stream",
     "text": [
      "Keras model archive loading:\n",
      "File Name                                             Modified             Size\n",
      "config.json                                    2023-02-07 12:07:30         1845\n",
      "metadata.json                                  2023-02-07 12:07:30           64\n",
      "variables.h5                                   2023-02-07 12:07:30        87512\n",
      "Keras weights file (<HDF5 file \"variables.h5\" (mode r)>) loading:\n",
      "...layers\\dense\n",
      "......vars\n",
      ".........0\n",
      ".........1\n",
      "...layers\\dense_1\n",
      "......vars\n",
      ".........0\n",
      ".........1\n",
      "...layers\\dense_2\n",
      "......vars\n",
      ".........0\n",
      ".........1\n",
      "...metrics\\mean\n",
      "......vars\n",
      ".........0\n",
      ".........1\n",
      "...metrics\\mean_metric_wrapper\n",
      "......vars\n",
      ".........0\n",
      ".........1\n",
      "...optimizer\n",
      "......vars\n",
      ".........0\n",
      ".........1\n",
      ".........10\n",
      ".........11\n",
      ".........12\n",
      ".........2\n",
      ".........3\n",
      ".........4\n",
      ".........5\n",
      ".........6\n",
      ".........7\n",
      ".........8\n",
      ".........9\n",
      "...vars\n"
     ]
    }
   ],
   "source": [
    "model = pickle.load(open('tic-tac-toe.model','rb'))"
   ]
  },
  {
   "cell_type": "code",
   "execution_count": 81,
   "metadata": {},
   "outputs": [
    {
     "name": "stdout",
     "output_type": "stream",
     "text": [
      "1/1 [==============================] - 0s 16ms/step\n",
      "[1 1 1 0 1]\n"
     ]
    }
   ],
   "source": [
    "predictions = model.predict(x_test[:5])\n",
    "print(np.argmax(predictions, axis=1)) "
   ]
  },
  {
   "cell_type": "code",
   "execution_count": 82,
   "metadata": {},
   "outputs": [
    {
     "data": {
      "text/plain": [
       "442    1\n",
       "252    1\n",
       "181    1\n",
       "776    0\n",
       "15     1\n",
       "Name: class, dtype: int64"
      ]
     },
     "execution_count": 82,
     "metadata": {},
     "output_type": "execute_result"
    }
   ],
   "source": [
    "y_test[:5]"
   ]
  },
  {
   "cell_type": "code",
   "execution_count": null,
   "metadata": {},
   "outputs": [],
   "source": [
    "#It works!"
   ]
  },
  {
   "cell_type": "markdown",
   "metadata": {},
   "source": [
    "## Step 4: Improve Your Model\n",
    "\n",
    "Did your model achieve low loss (<0.1) and high accuracy (>0.95)? If not, try to improve your model.\n",
    "\n",
    "But how? There are so many things you can play with in Tensorflow and in the next challenge you'll learn about these things. But in this challenge, let's just do a few things to see if they will help.\n",
    "\n",
    "* Add more layers to your model. If the data are complex you need more layers. But don't use more layers than you need. If adding more layers does not improve the model performance you don't need additional layers.\n",
    "* Adjust the learning rate when you compile the model. This means you will create a custom `tf.keras.optimizers.Adam` instance where you specify the learning rate you want. Then pass the instance to `model.compile` as the optimizer.\n",
    "    * `tf.keras.optimizers.Adam` [reference](https://www.tensorflow.org/api_docs/python/tf/keras/optimizers/Adam).\n",
    "    * Don't worry if you don't understand what the learning rate does. You'll learn about it in the next challenge.\n",
    "* Adjust the number of epochs when you fit the training data to the model. Your model performance continues to improve as you train more epochs. But eventually it will reach the ceiling and the performance will stay the same."
   ]
  },
  {
   "cell_type": "code",
   "execution_count": 89,
   "metadata": {},
   "outputs": [],
   "source": [
    "# 1. Add more layers to your model.\n",
    "\n",
    "model = Sequential([ # as far as we know, all networks are sequential\n",
    "  Dense(64, activation='relu', input_shape=(9,)), #784= 28*28 dense networks means all neurons in one layer are connected to all neuronsof the next layer\n",
    "  Dense(64, activation='relu'),\n",
    "    Dense(64, activation='relu'),\n",
    "    Dense(64, activation='relu'),  # choosing relu instead of sigmoid, this is somewhat common\n",
    "  Dense(10, activation='softmax'),   # the softmax actiavation is the last one to compensate for the high volume additions\n",
    "])\n",
    "# Compile the model.\n",
    "model.compile(\n",
    "  optimizer='adam', #here we could use stochastic gradient descent, but adam is a de facto standard\n",
    "  loss='sparse_categorical_crossentropy', #this is how we create the original blam to play the blame game\n",
    "  metrics=['accuracy'],\n",
    ")"
   ]
  },
  {
   "cell_type": "code",
   "execution_count": 90,
   "metadata": {},
   "outputs": [
    {
     "name": "stdout",
     "output_type": "stream",
     "text": [
      "Epoch 1/5\n",
      "23/23 [==============================] - 1s 1ms/step - loss: 1.9085 - accuracy: 0.4944 \n",
      "Epoch 2/5\n",
      "23/23 [==============================] - 0s 2ms/step - loss: 0.7749 - accuracy: 0.6657\n",
      "Epoch 3/5\n",
      "23/23 [==============================] - 0s 2ms/step - loss: 0.6127 - accuracy: 0.7061\n",
      "Epoch 4/5\n",
      "23/23 [==============================] - 0s 2ms/step - loss: 0.5609 - accuracy: 0.7354\n",
      "Epoch 5/5\n",
      "23/23 [==============================] - 0s 2ms/step - loss: 0.5141 - accuracy: 0.7674\n"
     ]
    }
   ],
   "source": [
    "history = model.fit(\n",
    "  x_train,\n",
    "  y_train, # just to make sure the outputs are not considered numeric (because, ya know, they are numbers...)\n",
    "  epochs=5, # go 5 times through the whole dataset\n",
    "  batch_size=32, # send 32 images at a time before you tweak the network again, to make it faster\n",
    ")"
   ]
  },
  {
   "cell_type": "code",
   "execution_count": 91,
   "metadata": {},
   "outputs": [
    {
     "name": "stdout",
     "output_type": "stream",
     "text": [
      "8/8 [==============================] - 0s 1ms/step - loss: 0.5292 - accuracy: 0.7667\n"
     ]
    },
    {
     "data": {
      "text/plain": [
       "[0.5292465686798096, 0.7666666507720947]"
      ]
     },
     "execution_count": 91,
     "metadata": {},
     "output_type": "execute_result"
    }
   ],
   "source": [
    "model.evaluate(\n",
    "  x_test,\n",
    "  y_test\n",
    ")"
   ]
  },
  {
   "cell_type": "code",
   "execution_count": 92,
   "metadata": {},
   "outputs": [],
   "source": [
    "#Original:[0.5638549327850342, 0.7250000238418579]\n",
    "# Better accuracy with two more layers"
   ]
  },
  {
   "cell_type": "code",
   "execution_count": null,
   "metadata": {},
   "outputs": [],
   "source": [
    "# 2.Adjust the learning rate when you compile the model"
   ]
  },
  {
   "cell_type": "code",
   "execution_count": 99,
   "metadata": {},
   "outputs": [],
   "source": [
    "import tensorflow as tf"
   ]
  },
  {
   "cell_type": "code",
   "execution_count": 106,
   "metadata": {},
   "outputs": [
    {
     "data": {
      "text/plain": [
       "<keras.optimizers.optimizer_experimental.adam.Adam at 0x19899e36dc0>"
      ]
     },
     "execution_count": 106,
     "metadata": {},
     "output_type": "execute_result"
    }
   ],
   "source": [
    "tf.keras.optimizers.Adam(\n",
    "    learning_rate=0.01,\n",
    "    beta_1=0.9,\n",
    "    beta_2=0.999,\n",
    "    epsilon=1e-07,\n",
    "    amsgrad=False,\n",
    "    weight_decay=None,\n",
    "    clipnorm=None,\n",
    "    clipvalue=None,\n",
    "    global_clipnorm=None,\n",
    "    use_ema=False,\n",
    "    ema_momentum=0.99,\n",
    "    ema_overwrite_frequency=None,\n",
    "    jit_compile=True,\n",
    "    name='Adam',\n",
    ")"
   ]
  },
  {
   "cell_type": "code",
   "execution_count": 107,
   "metadata": {},
   "outputs": [],
   "source": [
    "model = Sequential([ # as far as we know, all networks are sequential\n",
    "  Dense(64, activation='relu', input_shape=(9,)), #784= 28*28 dense networks means all neurons in one layer are connected to all neuronsof the next layer\n",
    "    Dense(64, activation='relu'),  # choosing relu instead of sigmoid, this is somewhat common\n",
    "  Dense(10, activation='softmax'),   # the softmax actiavation is the last one to compensate for the high volume additions\n",
    "])\n",
    "\n",
    "\n",
    "# Compile the model.\n",
    "model.compile(\n",
    "  optimizer='Adam', #here we could use stochastic gradient descent, but adam is a de facto standard\n",
    "  loss='sparse_categorical_crossentropy', #this is how we create the original blam to play the blame game\n",
    "  metrics=['accuracy'],\n",
    ")"
   ]
  },
  {
   "cell_type": "code",
   "execution_count": 108,
   "metadata": {},
   "outputs": [
    {
     "name": "stdout",
     "output_type": "stream",
     "text": [
      "Epoch 1/5\n",
      "23/23 [==============================] - 4s 3ms/step - loss: 1.8475 - accuracy: 0.5557\n",
      "Epoch 2/5\n",
      "23/23 [==============================] - 0s 4ms/step - loss: 1.0693 - accuracy: 0.6462\n",
      "Epoch 3/5\n",
      "23/23 [==============================] - 0s 3ms/step - loss: 0.7012 - accuracy: 0.6908\n",
      "Epoch 4/5\n",
      "23/23 [==============================] - 0s 3ms/step - loss: 0.6018 - accuracy: 0.7214\n",
      "Epoch 5/5\n",
      "23/23 [==============================] - 0s 2ms/step - loss: 0.5638 - accuracy: 0.7340\n"
     ]
    }
   ],
   "source": [
    "history = model.fit(\n",
    "  x_train,\n",
    "  y_train, # just to make sure the outputs are not considered numeric (because, ya know, they are numbers...)\n",
    "  epochs=5, # go 5 times through the whole dataset\n",
    "  batch_size=32, # send 32 images at a time before you tweak the network again, to make it faster\n",
    ")"
   ]
  },
  {
   "cell_type": "code",
   "execution_count": 109,
   "metadata": {},
   "outputs": [
    {
     "name": "stdout",
     "output_type": "stream",
     "text": [
      "8/8 [==============================] - 0s 1ms/step - loss: 0.5841 - accuracy: 0.7500\n"
     ]
    },
    {
     "data": {
      "text/plain": [
       "[0.5840932130813599, 0.75]"
      ]
     },
     "execution_count": 109,
     "metadata": {},
     "output_type": "execute_result"
    }
   ],
   "source": [
    "model.evaluate(\n",
    "  x_test,\n",
    "  y_test\n",
    ")"
   ]
  },
  {
   "cell_type": "code",
   "execution_count": 110,
   "metadata": {},
   "outputs": [],
   "source": [
    "# Original:[0.5638549327850342, 0.7250000238418579]\n",
    "# Adding 2 layers: [0.5292465686798096, 0.7666666507720947]"
   ]
  },
  {
   "cell_type": "code",
   "execution_count": 117,
   "metadata": {},
   "outputs": [
    {
     "data": {
      "text/plain": [
       "<keras.optimizers.optimizer_experimental.adam.Adam at 0x1989206c910>"
      ]
     },
     "execution_count": 117,
     "metadata": {},
     "output_type": "execute_result"
    }
   ],
   "source": [
    "tf.keras.optimizers.Adam(\n",
    "    learning_rate=0.05,\n",
    "    beta_1=0.9,\n",
    "    beta_2=0.999,\n",
    "    epsilon=1e-07,\n",
    "    amsgrad=False,\n",
    "    weight_decay=None,\n",
    "    clipnorm=None,\n",
    "    clipvalue=None,\n",
    "    global_clipnorm=None,\n",
    "    use_ema=False,\n",
    "    ema_momentum=0.99,\n",
    "    ema_overwrite_frequency=None,\n",
    "    jit_compile=True,\n",
    "    name='Adam',\n",
    ")"
   ]
  },
  {
   "cell_type": "code",
   "execution_count": 118,
   "metadata": {},
   "outputs": [
    {
     "name": "stdout",
     "output_type": "stream",
     "text": [
      "Epoch 1/5\n",
      "23/23 [==============================] - 0s 1ms/step - loss: 1.7100 - accuracy: 0.5780\n",
      "Epoch 2/5\n",
      "23/23 [==============================] - 0s 2ms/step - loss: 0.9384 - accuracy: 0.6504\n",
      "Epoch 3/5\n",
      "23/23 [==============================] - 0s 2ms/step - loss: 0.6646 - accuracy: 0.6852\n",
      "Epoch 4/5\n",
      "23/23 [==============================] - 0s 2ms/step - loss: 0.5935 - accuracy: 0.7103\n",
      "Epoch 5/5\n",
      "23/23 [==============================] - 0s 2ms/step - loss: 0.5605 - accuracy: 0.7396\n"
     ]
    }
   ],
   "source": [
    "model = Sequential([ # as far as we know, all networks are sequential\n",
    "  Dense(64, activation='relu', input_shape=(9,)), #784= 28*28 dense networks means all neurons in one layer are connected to all neuronsof the next layer\n",
    "    Dense(64, activation='relu'),  # choosing relu instead of sigmoid, this is somewhat common\n",
    "  Dense(10, activation='softmax'),   # the softmax actiavation is the last one to compensate for the high volume additions\n",
    "])\n",
    "\n",
    "\n",
    "# Compile the model.\n",
    "model.compile(\n",
    "  optimizer='Adam', #here we could use stochastic gradient descent, but adam is a de facto standard\n",
    "  loss='sparse_categorical_crossentropy', #this is how we create the original blam to play the blame game\n",
    "  metrics=['accuracy'],\n",
    ")\n",
    "history = model.fit(\n",
    "  x_train,\n",
    "  y_train, # just to make sure the outputs are not considered numeric (because, ya know, they are numbers...)\n",
    "  epochs=5, # go 5 times through the whole dataset\n",
    "  batch_size=32, # send 32 images at a time before you tweak the network again, to make it faster\n",
    ")"
   ]
  },
  {
   "cell_type": "code",
   "execution_count": 119,
   "metadata": {},
   "outputs": [
    {
     "name": "stdout",
     "output_type": "stream",
     "text": [
      "8/8 [==============================] - 0s 1ms/step - loss: 0.5698 - accuracy: 0.7125\n"
     ]
    },
    {
     "data": {
      "text/plain": [
       "[0.5698439478874207, 0.7124999761581421]"
      ]
     },
     "execution_count": 119,
     "metadata": {},
     "output_type": "execute_result"
    }
   ],
   "source": [
    "model.evaluate(\n",
    "  x_test,\n",
    "  y_test\n",
    ")"
   ]
  },
  {
   "cell_type": "code",
   "execution_count": null,
   "metadata": {},
   "outputs": [],
   "source": [
    "# Original:[0.5638549327850342, 0.7250000238418579]\n",
    "# Adding 2 layers: [0.5292465686798096, 0.7666666507720947]\n",
    "\n",
    "#We don't have better results by adjusting the learning rate"
   ]
  },
  {
   "cell_type": "code",
   "execution_count": 134,
   "metadata": {},
   "outputs": [
    {
     "name": "stdout",
     "output_type": "stream",
     "text": [
      "Epoch 1/25\n",
      "23/23 [==============================] - 0s 2ms/step - loss: 2.1485 - accuracy: 0.2716\n",
      "Epoch 2/25\n",
      "23/23 [==============================] - 0s 2ms/step - loss: 1.1659 - accuracy: 0.5390\n",
      "Epoch 3/25\n",
      "23/23 [==============================] - 0s 2ms/step - loss: 0.7263 - accuracy: 0.6588\n",
      "Epoch 4/25\n",
      "23/23 [==============================] - 0s 2ms/step - loss: 0.6167 - accuracy: 0.7103\n",
      "Epoch 5/25\n",
      "23/23 [==============================] - 0s 2ms/step - loss: 0.5731 - accuracy: 0.7159\n",
      "Epoch 6/25\n",
      "23/23 [==============================] - 0s 2ms/step - loss: 0.5456 - accuracy: 0.7604\n",
      "Epoch 7/25\n",
      "23/23 [==============================] - 0s 2ms/step - loss: 0.5209 - accuracy: 0.7604\n",
      "Epoch 8/25\n",
      "23/23 [==============================] - 0s 2ms/step - loss: 0.4976 - accuracy: 0.7953\n",
      "Epoch 9/25\n",
      "23/23 [==============================] - 0s 2ms/step - loss: 0.4754 - accuracy: 0.7813\n",
      "Epoch 10/25\n",
      "23/23 [==============================] - 0s 2ms/step - loss: 0.4565 - accuracy: 0.8120\n",
      "Epoch 11/25\n",
      "23/23 [==============================] - 0s 2ms/step - loss: 0.4371 - accuracy: 0.8175\n",
      "Epoch 12/25\n",
      "23/23 [==============================] - 0s 2ms/step - loss: 0.4204 - accuracy: 0.8273\n",
      "Epoch 13/25\n",
      "23/23 [==============================] - 0s 2ms/step - loss: 0.4029 - accuracy: 0.8315\n",
      "Epoch 14/25\n",
      "23/23 [==============================] - 0s 2ms/step - loss: 0.3853 - accuracy: 0.8510\n",
      "Epoch 15/25\n",
      "23/23 [==============================] - 0s 2ms/step - loss: 0.3666 - accuracy: 0.8621\n",
      "Epoch 16/25\n",
      "23/23 [==============================] - 0s 2ms/step - loss: 0.3531 - accuracy: 0.8691\n",
      "Epoch 17/25\n",
      "23/23 [==============================] - 0s 3ms/step - loss: 0.3398 - accuracy: 0.8663\n",
      "Epoch 18/25\n",
      "23/23 [==============================] - 0s 2ms/step - loss: 0.3293 - accuracy: 0.8733\n",
      "Epoch 19/25\n",
      "23/23 [==============================] - 0s 2ms/step - loss: 0.3157 - accuracy: 0.8802\n",
      "Epoch 20/25\n",
      "23/23 [==============================] - 0s 2ms/step - loss: 0.3055 - accuracy: 0.8900\n",
      "Epoch 21/25\n",
      "23/23 [==============================] - 0s 2ms/step - loss: 0.2961 - accuracy: 0.8886\n",
      "Epoch 22/25\n",
      "23/23 [==============================] - 0s 2ms/step - loss: 0.2858 - accuracy: 0.8997\n",
      "Epoch 23/25\n",
      "23/23 [==============================] - 0s 2ms/step - loss: 0.2792 - accuracy: 0.8969\n",
      "Epoch 24/25\n",
      "23/23 [==============================] - 0s 1ms/step - loss: 0.2700 - accuracy: 0.9095\n",
      "Epoch 25/25\n",
      "23/23 [==============================] - 0s 1ms/step - loss: 0.2569 - accuracy: 0.9067\n"
     ]
    }
   ],
   "source": [
    "# 3. Adjust the number of epochs when you fit the training data to the model\n",
    "model = Sequential([ # as far as we know, all networks are sequential\n",
    "  Dense(64, activation='relu', input_shape=(9,)), #784= 28*28 dense networks means all neurons in one layer are connected to all neuronsof the next layer\n",
    "    Dense(64, activation='relu'),  # choosing relu instead of sigmoid, this is somewhat common\n",
    "  Dense(10, activation='softmax'),   # the softmax actiavation is the last one to compensate for the high volume additions\n",
    "])\n",
    "\n",
    "\n",
    "# Compile the model.\n",
    "model.compile(\n",
    "  optimizer='Adam', #here we could use stochastic gradient descent, but adam is a de facto standard\n",
    "  loss='sparse_categorical_crossentropy', #this is how we create the original blam to play the blame game\n",
    "  metrics=['accuracy'],\n",
    ")\n",
    "history = model.fit(\n",
    "  x_train,\n",
    "  y_train, # just to make sure the outputs are not considered numeric (because, ya know, they are numbers...)\n",
    "  epochs=25, # go 5 times through the whole dataset\n",
    "  batch_size=32, # send 32 images at a time before you tweak the network again, to make it faster\n",
    ")\n"
   ]
  },
  {
   "cell_type": "code",
   "execution_count": 135,
   "metadata": {},
   "outputs": [
    {
     "name": "stdout",
     "output_type": "stream",
     "text": [
      "8/8 [==============================] - 0s 1ms/step - loss: 0.4407 - accuracy: 0.8250\n"
     ]
    },
    {
     "data": {
      "text/plain": [
       "[0.44067782163619995, 0.824999988079071]"
      ]
     },
     "execution_count": 135,
     "metadata": {},
     "output_type": "execute_result"
    }
   ],
   "source": [
    "model.evaluate(\n",
    "  x_test,\n",
    "  y_test\n",
    ")"
   ]
  },
  {
   "cell_type": "code",
   "execution_count": null,
   "metadata": {},
   "outputs": [],
   "source": [
    "#Epoch=40 : [0.35424914956092834, 0.862500011920929]\n",
    "#Epoch=30 : [0.35701417922973633, 0.862500011920929]\n",
    "#Epoch=25 : [0.44067782163619995, 0.824999988079071]]"
   ]
  },
  {
   "cell_type": "markdown",
   "metadata": {},
   "source": [
    "**Which approach(es) did you find helpful to improve your model performance?**"
   ]
  },
  {
   "cell_type": "code",
   "execution_count": 47,
   "metadata": {},
   "outputs": [],
   "source": [
    "# The last one is the one which improves more the result."
   ]
  }
 ],
 "metadata": {
  "kernelspec": {
   "display_name": "Python 3 (ipykernel)",
   "language": "python",
   "name": "python3"
  },
  "language_info": {
   "codemirror_mode": {
    "name": "ipython",
    "version": 3
   },
   "file_extension": ".py",
   "mimetype": "text/x-python",
   "name": "python",
   "nbconvert_exporter": "python",
   "pygments_lexer": "ipython3",
   "version": "3.9.12"
  }
 },
 "nbformat": 4,
 "nbformat_minor": 2
}
