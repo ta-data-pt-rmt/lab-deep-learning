{
 "cells": [
  {
   "cell_type": "markdown",
   "metadata": {},
   "source": [
    "# Challenge 1 - Tic Tac Toe\n",
    "\n",
    "In this lab you will perform deep learning analysis on a dataset of playing [Tic Tac Toe](https://en.wikipedia.org/wiki/Tic-tac-toe).\n",
    "\n",
    "There are 9 grids in Tic Tac Toe that are coded as the following picture shows:\n",
    "\n",
    "![Tic Tac Toe Grids](tttboard.jpg)\n",
    "\n",
    "In the first 9 columns of the dataset you can find which marks (`x` or `o`) exist in the grids. If there is no mark in a certain grid, it is labeled as `b`. The last column is `class` which tells you whether Player X (who always moves first in Tic Tac Toe) wins in this configuration. Note that when `class` has the value `False`, it means either Player O wins the game or it ends up as a draw."
   ]
  },
  {
   "cell_type": "markdown",
   "metadata": {},
   "source": [
    "Follow the steps suggested below to conduct a neural network analysis using Tensorflow and Keras. You will build a deep learning model to predict whether Player X wins the game or not.\n",
    "\n",
    "## Step 1: Data Engineering\n",
    "\n",
    "This dataset is almost in the ready-to-use state so you do not need to worry about missing values and so on. Still, some simple data engineering is needed.\n",
    "\n",
    "1. Read `tic-tac-toe.csv` into a dataframe.\n",
    "1. Inspect the dataset. Determine if the dataset is reliable by eyeballing the data.\n",
    "1. Convert the categorical values to numeric in all columns.\n",
    "1. Separate the inputs and output.\n",
    "1. Normalize the input data."
   ]
  },
  {
   "cell_type": "code",
   "execution_count": 26,
   "metadata": {},
   "outputs": [],
   "source": [
    "import pandas as pd\n",
    "import numpy as np\n",
    "import matplotlib.pyplot as plt\n",
    "\n",
    "from sklearn.preprocessing import LabelEncoder, StandardScaler\n",
    "from sklearn.model_selection import train_test_split\n",
    "from sklearn.preprocessing import OneHotEncoder\n",
    "from sklearn.compose import ColumnTransformer\n",
    "from sklearn.pipeline import Pipeline\n",
    "from tensorflow.keras.models import Sequential\n",
    "from tensorflow.keras.layers import Dense\n",
    "from tensorflow.keras.callbacks import ModelCheckpoint\n",
    "from tensorflow.keras.models import load_model"
   ]
  },
  {
   "cell_type": "code",
   "execution_count": 3,
   "metadata": {},
   "outputs": [
    {
     "data": {
      "text/html": [
       "<div>\n",
       "<style scoped>\n",
       "    .dataframe tbody tr th:only-of-type {\n",
       "        vertical-align: middle;\n",
       "    }\n",
       "\n",
       "    .dataframe tbody tr th {\n",
       "        vertical-align: top;\n",
       "    }\n",
       "\n",
       "    .dataframe thead th {\n",
       "        text-align: right;\n",
       "    }\n",
       "</style>\n",
       "<table border=\"1\" class=\"dataframe\">\n",
       "  <thead>\n",
       "    <tr style=\"text-align: right;\">\n",
       "      <th></th>\n",
       "      <th>TL</th>\n",
       "      <th>TM</th>\n",
       "      <th>TR</th>\n",
       "      <th>ML</th>\n",
       "      <th>MM</th>\n",
       "      <th>MR</th>\n",
       "      <th>BL</th>\n",
       "      <th>BM</th>\n",
       "      <th>BR</th>\n",
       "      <th>class</th>\n",
       "    </tr>\n",
       "  </thead>\n",
       "  <tbody>\n",
       "    <tr>\n",
       "      <th>0</th>\n",
       "      <td>x</td>\n",
       "      <td>x</td>\n",
       "      <td>x</td>\n",
       "      <td>x</td>\n",
       "      <td>o</td>\n",
       "      <td>o</td>\n",
       "      <td>x</td>\n",
       "      <td>o</td>\n",
       "      <td>o</td>\n",
       "      <td>True</td>\n",
       "    </tr>\n",
       "    <tr>\n",
       "      <th>1</th>\n",
       "      <td>x</td>\n",
       "      <td>x</td>\n",
       "      <td>x</td>\n",
       "      <td>x</td>\n",
       "      <td>o</td>\n",
       "      <td>o</td>\n",
       "      <td>o</td>\n",
       "      <td>x</td>\n",
       "      <td>o</td>\n",
       "      <td>True</td>\n",
       "    </tr>\n",
       "    <tr>\n",
       "      <th>2</th>\n",
       "      <td>x</td>\n",
       "      <td>x</td>\n",
       "      <td>x</td>\n",
       "      <td>x</td>\n",
       "      <td>o</td>\n",
       "      <td>o</td>\n",
       "      <td>o</td>\n",
       "      <td>o</td>\n",
       "      <td>x</td>\n",
       "      <td>True</td>\n",
       "    </tr>\n",
       "    <tr>\n",
       "      <th>3</th>\n",
       "      <td>x</td>\n",
       "      <td>x</td>\n",
       "      <td>x</td>\n",
       "      <td>x</td>\n",
       "      <td>o</td>\n",
       "      <td>o</td>\n",
       "      <td>o</td>\n",
       "      <td>b</td>\n",
       "      <td>b</td>\n",
       "      <td>True</td>\n",
       "    </tr>\n",
       "    <tr>\n",
       "      <th>4</th>\n",
       "      <td>x</td>\n",
       "      <td>x</td>\n",
       "      <td>x</td>\n",
       "      <td>x</td>\n",
       "      <td>o</td>\n",
       "      <td>o</td>\n",
       "      <td>b</td>\n",
       "      <td>o</td>\n",
       "      <td>b</td>\n",
       "      <td>True</td>\n",
       "    </tr>\n",
       "  </tbody>\n",
       "</table>\n",
       "</div>"
      ],
      "text/plain": [
       "  TL TM TR ML MM MR BL BM BR  class\n",
       "0  x  x  x  x  o  o  x  o  o   True\n",
       "1  x  x  x  x  o  o  o  x  o   True\n",
       "2  x  x  x  x  o  o  o  o  x   True\n",
       "3  x  x  x  x  o  o  o  b  b   True\n",
       "4  x  x  x  x  o  o  b  o  b   True"
      ]
     },
     "execution_count": 3,
     "metadata": {},
     "output_type": "execute_result"
    }
   ],
   "source": [
    "# your code here\n",
    "\n",
    "df = pd.read_csv(\"../your-code/tic-tac-toe.csv\")\n",
    "\n",
    "df.head()"
   ]
  },
  {
   "cell_type": "code",
   "execution_count": 4,
   "metadata": {},
   "outputs": [
    {
     "data": {
      "text/plain": [
       "TL       object\n",
       "TM       object\n",
       "TR       object\n",
       "ML       object\n",
       "MM       object\n",
       "MR       object\n",
       "BL       object\n",
       "BM       object\n",
       "BR       object\n",
       "class      bool\n",
       "dtype: object"
      ]
     },
     "execution_count": 4,
     "metadata": {},
     "output_type": "execute_result"
    }
   ],
   "source": [
    "df.dtypes"
   ]
  },
  {
   "cell_type": "code",
   "execution_count": 5,
   "metadata": {},
   "outputs": [
    {
     "data": {
      "text/plain": [
       "TL       0\n",
       "TM       0\n",
       "TR       0\n",
       "ML       0\n",
       "MM       0\n",
       "MR       0\n",
       "BL       0\n",
       "BM       0\n",
       "BR       0\n",
       "class    0\n",
       "dtype: int64"
      ]
     },
     "execution_count": 5,
     "metadata": {},
     "output_type": "execute_result"
    }
   ],
   "source": [
    "df.isna().sum()"
   ]
  },
  {
   "cell_type": "code",
   "execution_count": 8,
   "metadata": {},
   "outputs": [],
   "source": [
    "# Convert object to numerical values \n",
    "\n",
    "label_encoder = LabelEncoder()\n",
    "df_encoded = df.apply(label_encoder.fit_transform)\n",
    "\n",
    "#postions in the board have an ordinal relationship; they are just categorical labels. \n",
    "#Therefore, using One-Hot Encoding to create dummy variables would be more appropriate here."
   ]
  },
  {
   "cell_type": "code",
   "execution_count": 9,
   "metadata": {},
   "outputs": [],
   "source": [
    "# Separate input and output\n",
    "\n",
    "X = df_encoded.drop('class', axis=1)  # Input = features\n",
    "y = df_encoded['class']               # Output = variable"
   ]
  },
  {
   "cell_type": "code",
   "execution_count": 10,
   "metadata": {},
   "outputs": [
    {
     "name": "stdout",
     "output_type": "stream",
     "text": [
      "[[ 1.00322257  1.08495342  1.00322257 ...  1.00322257 -0.16731812\n",
      "  -0.28682739]\n",
      " [ 1.00322257  1.08495342  1.00322257 ... -0.28682739  1.08495342\n",
      "  -0.28682739]\n",
      " [ 1.00322257  1.08495342  1.00322257 ... -0.28682739 -0.16731812\n",
      "   1.00322257]\n",
      " ...\n",
      " [-0.28682739  1.08495342 -0.28682739 ...  1.00322257 -0.16731812\n",
      "   1.00322257]\n",
      " [-0.28682739  1.08495342 -0.28682739 ...  1.00322257 -0.16731812\n",
      "   1.00322257]\n",
      " [-0.28682739 -0.16731812  1.00322257 ... -0.28682739  1.08495342\n",
      "   1.00322257]]\n"
     ]
    }
   ],
   "source": [
    "# Normalize the input data\n",
    "scaler = StandardScaler()\n",
    "X_normalized = scaler.fit_transform(X)\n",
    "\n",
    "print(X_normalized)"
   ]
  },
  {
   "cell_type": "markdown",
   "metadata": {},
   "source": [
    "## Step 2: Build Neural Network\n",
    "\n",
    "To build the neural network, you can refer to your own codes you wrote while following the [Deep Learning with Python, TensorFlow, and Keras tutorial](https://www.youtube.com/watch?v=wQ8BIBpya2k) in the lesson. It's pretty similar to what you will be doing in this lab.\n",
    "\n",
    "1. Split the training and test data.\n",
    "1. Create a `Sequential` model.\n",
    "1. Add several layers to your model. Make sure you use ReLU as the activation function for the middle layers. Use Softmax for the output layer because each output has a single lable and all the label probabilities add up to 1.\n",
    "1. Compile the model using `adam` as the optimizer and `sparse_categorical_crossentropy` as the loss function. For metrics, use `accuracy` for now.\n",
    "1. Fit the training data.\n",
    "1. Evaluate your neural network model with the test data.\n",
    "1. Save your model as `tic-tac-toe.model`."
   ]
  },
  {
   "cell_type": "code",
   "execution_count": 15,
   "metadata": {},
   "outputs": [],
   "source": [
    "# your code here\n",
    "\n",
    "#1. Split training and test data\n",
    "\n",
    "# Split the data into training and testing sets\n",
    "X_train, X_test, y_train, y_test = train_test_split(X_normalized, y, test_size=0.2, random_state=42)"
   ]
  },
  {
   "cell_type": "code",
   "execution_count": 16,
   "metadata": {},
   "outputs": [],
   "source": [
    "#2. Create sequential model \n",
    "\n",
    "# 3. Define the neural network model with layers\n",
    "model = Sequential([\n",
    "    Dense(64, activation='relu', input_shape=(X_train.shape[1],)),\n",
    "    Dense(64, activation='relu'),\n",
    "    Dense(2, activation='softmax')\n",
    "])\n"
   ]
  },
  {
   "cell_type": "code",
   "execution_count": 17,
   "metadata": {},
   "outputs": [],
   "source": [
    "# 4. Compile the model\n",
    "model.compile(optimizer='adam',\n",
    "              loss='sparse_categorical_crossentropy',\n",
    "              metrics=['accuracy'])\n"
   ]
  },
  {
   "cell_type": "code",
   "execution_count": 18,
   "metadata": {},
   "outputs": [
    {
     "name": "stdout",
     "output_type": "stream",
     "text": [
      "Epoch 1/50\n",
      "20/20 [==============================] - 1s 16ms/step - loss: 0.6528 - accuracy: 0.6258 - val_loss: 0.6139 - val_accuracy: 0.6883\n",
      "Epoch 2/50\n",
      "20/20 [==============================] - 0s 6ms/step - loss: 0.6009 - accuracy: 0.6650 - val_loss: 0.6094 - val_accuracy: 0.7403\n",
      "Epoch 3/50\n",
      "20/20 [==============================] - 0s 5ms/step - loss: 0.5670 - accuracy: 0.6944 - val_loss: 0.6051 - val_accuracy: 0.7208\n",
      "Epoch 4/50\n",
      "20/20 [==============================] - 0s 4ms/step - loss: 0.5438 - accuracy: 0.7222 - val_loss: 0.6002 - val_accuracy: 0.7338\n",
      "Epoch 5/50\n",
      "20/20 [==============================] - 0s 5ms/step - loss: 0.5199 - accuracy: 0.7451 - val_loss: 0.5896 - val_accuracy: 0.7338\n",
      "Epoch 6/50\n",
      "20/20 [==============================] - 0s 5ms/step - loss: 0.5010 - accuracy: 0.7827 - val_loss: 0.5697 - val_accuracy: 0.7273\n",
      "Epoch 7/50\n",
      "20/20 [==============================] - 0s 4ms/step - loss: 0.4773 - accuracy: 0.7859 - val_loss: 0.5517 - val_accuracy: 0.7597\n",
      "Epoch 8/50\n",
      "20/20 [==============================] - 0s 5ms/step - loss: 0.4572 - accuracy: 0.8219 - val_loss: 0.5376 - val_accuracy: 0.7662\n",
      "Epoch 9/50\n",
      "20/20 [==============================] - 0s 4ms/step - loss: 0.4349 - accuracy: 0.8056 - val_loss: 0.5203 - val_accuracy: 0.7468\n",
      "Epoch 10/50\n",
      "20/20 [==============================] - 0s 7ms/step - loss: 0.4219 - accuracy: 0.8317 - val_loss: 0.5044 - val_accuracy: 0.7792\n",
      "Epoch 11/50\n",
      "20/20 [==============================] - 0s 6ms/step - loss: 0.4039 - accuracy: 0.8252 - val_loss: 0.4962 - val_accuracy: 0.7662\n",
      "Epoch 12/50\n",
      "20/20 [==============================] - 0s 4ms/step - loss: 0.3820 - accuracy: 0.8480 - val_loss: 0.4707 - val_accuracy: 0.7922\n",
      "Epoch 13/50\n",
      "20/20 [==============================] - 0s 5ms/step - loss: 0.3631 - accuracy: 0.8464 - val_loss: 0.4604 - val_accuracy: 0.7922\n",
      "Epoch 14/50\n",
      "20/20 [==============================] - 0s 6ms/step - loss: 0.3502 - accuracy: 0.8644 - val_loss: 0.4434 - val_accuracy: 0.8117\n",
      "Epoch 15/50\n",
      "20/20 [==============================] - 0s 4ms/step - loss: 0.3488 - accuracy: 0.8725 - val_loss: 0.4297 - val_accuracy: 0.7922\n",
      "Epoch 16/50\n",
      "20/20 [==============================] - 0s 6ms/step - loss: 0.3286 - accuracy: 0.8693 - val_loss: 0.4265 - val_accuracy: 0.7922\n",
      "Epoch 17/50\n",
      "20/20 [==============================] - 0s 6ms/step - loss: 0.3079 - accuracy: 0.9003 - val_loss: 0.3963 - val_accuracy: 0.8247\n",
      "Epoch 18/50\n",
      "20/20 [==============================] - 0s 6ms/step - loss: 0.2953 - accuracy: 0.8954 - val_loss: 0.4027 - val_accuracy: 0.8182\n",
      "Epoch 19/50\n",
      "20/20 [==============================] - 0s 6ms/step - loss: 0.2802 - accuracy: 0.9020 - val_loss: 0.3942 - val_accuracy: 0.8442\n",
      "Epoch 20/50\n",
      "20/20 [==============================] - 0s 7ms/step - loss: 0.2738 - accuracy: 0.9003 - val_loss: 0.3780 - val_accuracy: 0.8442\n",
      "Epoch 21/50\n",
      "20/20 [==============================] - 0s 6ms/step - loss: 0.2586 - accuracy: 0.9183 - val_loss: 0.3793 - val_accuracy: 0.8312\n",
      "Epoch 22/50\n",
      "20/20 [==============================] - 0s 6ms/step - loss: 0.2472 - accuracy: 0.9183 - val_loss: 0.3712 - val_accuracy: 0.8506\n",
      "Epoch 23/50\n",
      "20/20 [==============================] - 0s 6ms/step - loss: 0.2397 - accuracy: 0.9167 - val_loss: 0.3632 - val_accuracy: 0.8442\n",
      "Epoch 24/50\n",
      "20/20 [==============================] - 0s 6ms/step - loss: 0.2278 - accuracy: 0.9265 - val_loss: 0.3557 - val_accuracy: 0.8506\n",
      "Epoch 25/50\n",
      "20/20 [==============================] - 0s 6ms/step - loss: 0.2160 - accuracy: 0.9297 - val_loss: 0.3435 - val_accuracy: 0.8701\n",
      "Epoch 26/50\n",
      "20/20 [==============================] - 0s 6ms/step - loss: 0.2106 - accuracy: 0.9314 - val_loss: 0.3549 - val_accuracy: 0.8377\n",
      "Epoch 27/50\n",
      "20/20 [==============================] - 0s 6ms/step - loss: 0.2007 - accuracy: 0.9248 - val_loss: 0.3385 - val_accuracy: 0.8506\n",
      "Epoch 28/50\n",
      "20/20 [==============================] - 0s 5ms/step - loss: 0.1887 - accuracy: 0.9395 - val_loss: 0.3322 - val_accuracy: 0.8571\n",
      "Epoch 29/50\n",
      "20/20 [==============================] - 0s 6ms/step - loss: 0.1832 - accuracy: 0.9461 - val_loss: 0.3383 - val_accuracy: 0.8701\n",
      "Epoch 30/50\n",
      "20/20 [==============================] - 0s 7ms/step - loss: 0.1758 - accuracy: 0.9477 - val_loss: 0.3274 - val_accuracy: 0.8636\n",
      "Epoch 31/50\n",
      "20/20 [==============================] - 0s 6ms/step - loss: 0.1654 - accuracy: 0.9526 - val_loss: 0.3183 - val_accuracy: 0.8442\n",
      "Epoch 32/50\n",
      "20/20 [==============================] - 0s 5ms/step - loss: 0.1587 - accuracy: 0.9510 - val_loss: 0.3107 - val_accuracy: 0.8636\n",
      "Epoch 33/50\n",
      "20/20 [==============================] - 0s 5ms/step - loss: 0.1486 - accuracy: 0.9608 - val_loss: 0.3021 - val_accuracy: 0.8701\n",
      "Epoch 34/50\n",
      "20/20 [==============================] - 0s 5ms/step - loss: 0.1443 - accuracy: 0.9673 - val_loss: 0.3099 - val_accuracy: 0.8571\n",
      "Epoch 35/50\n",
      "20/20 [==============================] - 0s 4ms/step - loss: 0.1362 - accuracy: 0.9657 - val_loss: 0.3010 - val_accuracy: 0.8636\n",
      "Epoch 36/50\n",
      "20/20 [==============================] - 0s 9ms/step - loss: 0.1271 - accuracy: 0.9771 - val_loss: 0.3088 - val_accuracy: 0.8701\n",
      "Epoch 37/50\n",
      "20/20 [==============================] - 0s 6ms/step - loss: 0.1203 - accuracy: 0.9739 - val_loss: 0.2917 - val_accuracy: 0.8636\n",
      "Epoch 38/50\n",
      "20/20 [==============================] - 0s 5ms/step - loss: 0.1152 - accuracy: 0.9788 - val_loss: 0.2834 - val_accuracy: 0.8636\n",
      "Epoch 39/50\n",
      "20/20 [==============================] - 0s 7ms/step - loss: 0.1071 - accuracy: 0.9788 - val_loss: 0.2813 - val_accuracy: 0.8831\n",
      "Epoch 40/50\n",
      "20/20 [==============================] - 0s 6ms/step - loss: 0.1054 - accuracy: 0.9755 - val_loss: 0.2881 - val_accuracy: 0.8701\n",
      "Epoch 41/50\n",
      "20/20 [==============================] - 0s 5ms/step - loss: 0.0976 - accuracy: 0.9837 - val_loss: 0.2868 - val_accuracy: 0.8766\n",
      "Epoch 42/50\n",
      "20/20 [==============================] - 0s 4ms/step - loss: 0.0933 - accuracy: 0.9804 - val_loss: 0.2824 - val_accuracy: 0.8701\n",
      "Epoch 43/50\n",
      "20/20 [==============================] - 0s 6ms/step - loss: 0.0888 - accuracy: 0.9886 - val_loss: 0.2918 - val_accuracy: 0.8766\n",
      "Epoch 44/50\n",
      "20/20 [==============================] - 0s 6ms/step - loss: 0.0840 - accuracy: 0.9869 - val_loss: 0.2707 - val_accuracy: 0.8896\n",
      "Epoch 45/50\n",
      "20/20 [==============================] - 0s 6ms/step - loss: 0.0781 - accuracy: 0.9902 - val_loss: 0.2557 - val_accuracy: 0.8831\n",
      "Epoch 46/50\n",
      "20/20 [==============================] - 0s 4ms/step - loss: 0.0752 - accuracy: 0.9935 - val_loss: 0.2710 - val_accuracy: 0.8831\n",
      "Epoch 47/50\n",
      "20/20 [==============================] - 0s 4ms/step - loss: 0.0731 - accuracy: 0.9902 - val_loss: 0.2867 - val_accuracy: 0.8896\n",
      "Epoch 48/50\n",
      "20/20 [==============================] - 0s 7ms/step - loss: 0.0637 - accuracy: 0.9967 - val_loss: 0.2674 - val_accuracy: 0.8961\n",
      "Epoch 49/50\n",
      "20/20 [==============================] - 0s 6ms/step - loss: 0.0613 - accuracy: 0.9935 - val_loss: 0.2454 - val_accuracy: 0.8831\n",
      "Epoch 50/50\n",
      "20/20 [==============================] - 0s 6ms/step - loss: 0.0600 - accuracy: 0.9984 - val_loss: 0.2575 - val_accuracy: 0.8831\n"
     ]
    }
   ],
   "source": [
    "# 5. Fit the training data\n",
    "\n",
    "history = model.fit(X_train, y_train, epochs=50, validation_split=0.2)"
   ]
  },
  {
   "cell_type": "code",
   "execution_count": 19,
   "metadata": {},
   "outputs": [
    {
     "name": "stdout",
     "output_type": "stream",
     "text": [
      "6/6 - 0s - loss: 0.2864 - accuracy: 0.8750 - 31ms/epoch - 5ms/step\n",
      "Test accuracy: 0.875\n"
     ]
    }
   ],
   "source": [
    "# 6. Evaluate the model\n",
    "\n",
    "test_loss, test_acc = model.evaluate(X_test, y_test, verbose=2)\n",
    "print('Test accuracy:', test_acc)"
   ]
  },
  {
   "cell_type": "code",
   "execution_count": 20,
   "metadata": {},
   "outputs": [
    {
     "name": "stdout",
     "output_type": "stream",
     "text": [
      "INFO:tensorflow:Assets written to: tic-tac-toe.model/assets\n"
     ]
    },
    {
     "name": "stderr",
     "output_type": "stream",
     "text": [
      "INFO:tensorflow:Assets written to: tic-tac-toe.model/assets\n"
     ]
    }
   ],
   "source": [
    "# 7. Save the model\n",
    "model.save('tic-tac-toe.model')"
   ]
  },
  {
   "cell_type": "markdown",
   "metadata": {},
   "source": [
    "## Step 3: Make Predictions\n",
    "\n",
    "Now load your saved model and use it to make predictions on a few random rows in the test dataset. Check if the predictions are correct."
   ]
  },
  {
   "cell_type": "code",
   "execution_count": 24,
   "metadata": {},
   "outputs": [],
   "source": [
    "# your code here\n",
    "\n",
    "#1. Load the model \n",
    "\n",
    "model = load_model('tic-tac-toe.model')"
   ]
  },
  {
   "cell_type": "code",
   "execution_count": 27,
   "metadata": {},
   "outputs": [],
   "source": [
    "# 2. Take random rows from the test dataset\n",
    "\n",
    "random_indices = np.random.choice(X_test.shape[0], size=5, replace=False)\n",
    "random_samples = X_test[random_indices]"
   ]
  },
  {
   "cell_type": "code",
   "execution_count": 28,
   "metadata": {},
   "outputs": [
    {
     "name": "stdout",
     "output_type": "stream",
     "text": [
      "1/1 [==============================] - 0s 96ms/step\n"
     ]
    }
   ],
   "source": [
    "# 3. Make predictions on the sample\n",
    "\n",
    "predictions = model.predict(random_samples)"
   ]
  },
  {
   "cell_type": "code",
   "execution_count": 29,
   "metadata": {},
   "outputs": [],
   "source": [
    "# 4. Convert predictions to class labels (0 or 1)\n",
    "predicted_labels = np.argmax(predictions, axis=1)"
   ]
  },
  {
   "cell_type": "code",
   "execution_count": 30,
   "metadata": {},
   "outputs": [
    {
     "name": "stdout",
     "output_type": "stream",
     "text": [
      "Sample 1: Predicted label = 0, Actual label = 0\n",
      "Sample 2: Predicted label = 1, Actual label = 1\n",
      "Sample 3: Predicted label = 1, Actual label = 1\n",
      "Sample 4: Predicted label = 1, Actual label = 1\n",
      "Sample 5: Predicted label = 1, Actual label = 1\n"
     ]
    }
   ],
   "source": [
    "# 5. Get the actual labels for the random samples\n",
    "actual_labels = y_test.values[random_indices]\n",
    "\n",
    "# 6. Compare the predicted labels with the actual labels\n",
    "for i in range(len(random_indices)):\n",
    "    print(f\"Sample {i+1}: Predicted label = {predicted_labels[i]}, Actual label = {actual_labels[i]}\")"
   ]
  },
  {
   "cell_type": "code",
   "execution_count": 31,
   "metadata": {},
   "outputs": [
    {
     "data": {
      "image/png": "[encoded data removed]",
      "text/plain": [
       "<Figure size 640x480 with 1 Axes>"
      ]
     },
     "metadata": {},
     "output_type": "display_data"
    },
    {
     "data": {
      "image/png": "[encoded data removed]",
      "text/plain": [
       "<Figure size 640x480 with 1 Axes>"
      ]
     },
     "metadata": {},
     "output_type": "display_data"
    }
   ],
   "source": [
    "# Plot training loss\n",
    "plt.plot(history.history['loss'], label='Training Loss')\n",
    "# Plot validation loss\n",
    "plt.plot(history.history['val_loss'], label='Validation Loss')\n",
    "plt.xlabel('Epoch')\n",
    "plt.ylabel('Loss')\n",
    "plt.legend()\n",
    "plt.show()\n",
    "\n",
    "# Plot training accuracy\n",
    "plt.plot(history.history['accuracy'], label='Training Accuracy')\n",
    "# Plot validation accuracy\n",
    "plt.plot(history.history['val_accuracy'], label='Validation Accuracy')\n",
    "plt.xlabel('Epoch')\n",
    "plt.ylabel('Accuracy')\n",
    "plt.legend()\n",
    "plt.show()\n"
   ]
  },
  {
   "cell_type": "code",
   "execution_count": 32,
   "metadata": {},
   "outputs": [
    {
     "name": "stdout",
     "output_type": "stream",
     "text": [
      "0.05999753996729851 0.9983659982681274\n"
     ]
    }
   ],
   "source": [
    "# Final loss and accuracy values\n",
    "final_loss = history.history['loss'][-1]\n",
    "final_accuracy = history.history['accuracy'][-1]\n",
    "\n",
    "print(final_loss, final_accuracy)"
   ]
  },
  {
   "cell_type": "markdown",
   "metadata": {},
   "source": [
    "## Step 4: Improve Your Model\n",
    "\n",
    "Did your model achieve low loss (<0.1) and high accuracy (>0.95)? If not, try to improve your model.\n",
    "\n",
    "But how? There are so many things you can play with in Tensorflow and in the next challenge you'll learn about these things. But in this challenge, let's just do a few things to see if they will help.\n",
    "\n",
    "* Add more layers to your model. If the data are complex you need more layers. But don't use more layers than you need. If adding more layers does not improve the model performance you don't need additional layers.\n",
    "* Adjust the learning rate when you compile the model. This means you will create a custom `tf.keras.optimizers.Adam` instance where you specify the learning rate you want. Then pass the instance to `model.compile` as the optimizer.\n",
    "    * `tf.keras.optimizers.Adam` [reference](https://www.tensorflow.org/api_docs/python/tf/keras/optimizers/Adam).\n",
    "    * Don't worry if you don't understand what the learning rate does. You'll learn about it in the next challenge.\n",
    "* Adjust the number of epochs when you fit the training data to the model. Your model performance continues to improve as you train more epochs. But eventually it will reach the ceiling and the performance will stay the same."
   ]
  },
  {
   "cell_type": "code",
   "execution_count": 33,
   "metadata": {},
   "outputs": [
    {
     "name": "stdout",
     "output_type": "stream",
     "text": [
      "Epoch 1/100\n",
      "20/20 [==============================] - 2s 16ms/step - loss: 0.6219 - accuracy: 0.6585 - val_loss: 0.5850 - val_accuracy: 0.6948\n",
      "Epoch 2/100\n",
      "20/20 [==============================] - 0s 7ms/step - loss: 0.5395 - accuracy: 0.7467 - val_loss: 0.5623 - val_accuracy: 0.7143\n",
      "Epoch 3/100\n",
      "20/20 [==============================] - 0s 6ms/step - loss: 0.4918 - accuracy: 0.7810 - val_loss: 0.5166 - val_accuracy: 0.7532\n",
      "Epoch 4/100\n",
      "20/20 [==============================] - 0s 6ms/step - loss: 0.4503 - accuracy: 0.7908 - val_loss: 0.4932 - val_accuracy: 0.7727\n",
      "Epoch 5/100\n",
      "20/20 [==============================] - 0s 5ms/step - loss: 0.3859 - accuracy: 0.8497 - val_loss: 0.4736 - val_accuracy: 0.8117\n",
      "Epoch 6/100\n",
      "20/20 [==============================] - 0s 6ms/step - loss: 0.3237 - accuracy: 0.8791 - val_loss: 0.4257 - val_accuracy: 0.7987\n",
      "Epoch 7/100\n",
      "20/20 [==============================] - 0s 7ms/step - loss: 0.2821 - accuracy: 0.8889 - val_loss: 0.4100 - val_accuracy: 0.8377\n",
      "Epoch 8/100\n",
      "20/20 [==============================] - 0s 7ms/step - loss: 0.2435 - accuracy: 0.9052 - val_loss: 0.3858 - val_accuracy: 0.8312\n",
      "Epoch 9/100\n",
      "20/20 [==============================] - 0s 6ms/step - loss: 0.1867 - accuracy: 0.9314 - val_loss: 0.3617 - val_accuracy: 0.8312\n",
      "Epoch 10/100\n",
      "20/20 [==============================] - 0s 6ms/step - loss: 0.1588 - accuracy: 0.9461 - val_loss: 0.3355 - val_accuracy: 0.8571\n",
      "Epoch 11/100\n",
      "20/20 [==============================] - 0s 7ms/step - loss: 0.1209 - accuracy: 0.9575 - val_loss: 0.3541 - val_accuracy: 0.8506\n",
      "Epoch 12/100\n",
      "20/20 [==============================] - 0s 6ms/step - loss: 0.0931 - accuracy: 0.9804 - val_loss: 0.2742 - val_accuracy: 0.8636\n",
      "Epoch 13/100\n",
      "20/20 [==============================] - 0s 6ms/step - loss: 0.0667 - accuracy: 0.9869 - val_loss: 0.3165 - val_accuracy: 0.8701\n",
      "Epoch 14/100\n",
      "20/20 [==============================] - 0s 6ms/step - loss: 0.0634 - accuracy: 0.9820 - val_loss: 0.3003 - val_accuracy: 0.8442\n",
      "Epoch 15/100\n",
      "20/20 [==============================] - 0s 6ms/step - loss: 0.0638 - accuracy: 0.9820 - val_loss: 0.2999 - val_accuracy: 0.8766\n",
      "Epoch 16/100\n",
      "20/20 [==============================] - 0s 6ms/step - loss: 0.0361 - accuracy: 0.9902 - val_loss: 0.3150 - val_accuracy: 0.8571\n",
      "Epoch 17/100\n",
      "20/20 [==============================] - 0s 6ms/step - loss: 0.0218 - accuracy: 0.9984 - val_loss: 0.2879 - val_accuracy: 0.8766\n",
      "Epoch 18/100\n",
      "20/20 [==============================] - 0s 6ms/step - loss: 0.0096 - accuracy: 1.0000 - val_loss: 0.2324 - val_accuracy: 0.9091\n",
      "Epoch 19/100\n",
      "20/20 [==============================] - 0s 6ms/step - loss: 0.0066 - accuracy: 1.0000 - val_loss: 0.2188 - val_accuracy: 0.9026\n",
      "Epoch 20/100\n",
      "20/20 [==============================] - 0s 6ms/step - loss: 0.0050 - accuracy: 1.0000 - val_loss: 0.2455 - val_accuracy: 0.8961\n",
      "Epoch 21/100\n",
      "20/20 [==============================] - 0s 7ms/step - loss: 0.0036 - accuracy: 1.0000 - val_loss: 0.2549 - val_accuracy: 0.8961\n",
      "Epoch 22/100\n",
      "20/20 [==============================] - 0s 9ms/step - loss: 0.0029 - accuracy: 1.0000 - val_loss: 0.2482 - val_accuracy: 0.8961\n",
      "Epoch 23/100\n",
      "20/20 [==============================] - 0s 7ms/step - loss: 0.0024 - accuracy: 1.0000 - val_loss: 0.2394 - val_accuracy: 0.9026\n",
      "Epoch 24/100\n",
      "20/20 [==============================] - 0s 6ms/step - loss: 0.0021 - accuracy: 1.0000 - val_loss: 0.2458 - val_accuracy: 0.8961\n",
      "Epoch 25/100\n",
      "20/20 [==============================] - 0s 7ms/step - loss: 0.0018 - accuracy: 1.0000 - val_loss: 0.2416 - val_accuracy: 0.9026\n",
      "Epoch 26/100\n",
      "20/20 [==============================] - 0s 6ms/step - loss: 0.0016 - accuracy: 1.0000 - val_loss: 0.2401 - val_accuracy: 0.9026\n",
      "Epoch 27/100\n",
      "20/20 [==============================] - 0s 6ms/step - loss: 0.0014 - accuracy: 1.0000 - val_loss: 0.2547 - val_accuracy: 0.8961\n",
      "Epoch 28/100\n",
      "20/20 [==============================] - 0s 6ms/step - loss: 0.0012 - accuracy: 1.0000 - val_loss: 0.2599 - val_accuracy: 0.9026\n",
      "Epoch 29/100\n",
      "20/20 [==============================] - 0s 6ms/step - loss: 0.0011 - accuracy: 1.0000 - val_loss: 0.2497 - val_accuracy: 0.9026\n",
      "Epoch 30/100\n",
      "20/20 [==============================] - 0s 5ms/step - loss: 9.2380e-04 - accuracy: 1.0000 - val_loss: 0.2600 - val_accuracy: 0.9026\n",
      "Epoch 31/100\n",
      "20/20 [==============================] - 0s 5ms/step - loss: 8.1935e-04 - accuracy: 1.0000 - val_loss: 0.2512 - val_accuracy: 0.9026\n",
      "Epoch 32/100\n",
      "20/20 [==============================] - 0s 6ms/step - loss: 7.7526e-04 - accuracy: 1.0000 - val_loss: 0.2556 - val_accuracy: 0.9026\n",
      "Epoch 33/100\n",
      "20/20 [==============================] - 0s 6ms/step - loss: 6.7550e-04 - accuracy: 1.0000 - val_loss: 0.2568 - val_accuracy: 0.9026\n",
      "Epoch 34/100\n",
      "20/20 [==============================] - 0s 6ms/step - loss: 5.9779e-04 - accuracy: 1.0000 - val_loss: 0.2585 - val_accuracy: 0.9026\n",
      "Epoch 35/100\n",
      "20/20 [==============================] - 0s 6ms/step - loss: 5.4433e-04 - accuracy: 1.0000 - val_loss: 0.2621 - val_accuracy: 0.9026\n",
      "Epoch 36/100\n",
      "20/20 [==============================] - 0s 6ms/step - loss: 4.9631e-04 - accuracy: 1.0000 - val_loss: 0.2657 - val_accuracy: 0.9026\n",
      "Epoch 37/100\n",
      "20/20 [==============================] - 0s 5ms/step - loss: 4.4916e-04 - accuracy: 1.0000 - val_loss: 0.2657 - val_accuracy: 0.9026\n",
      "Epoch 38/100\n",
      "20/20 [==============================] - 0s 5ms/step - loss: 4.1788e-04 - accuracy: 1.0000 - val_loss: 0.2661 - val_accuracy: 0.9026\n",
      "Epoch 39/100\n",
      "20/20 [==============================] - 0s 4ms/step - loss: 3.7857e-04 - accuracy: 1.0000 - val_loss: 0.2650 - val_accuracy: 0.9026\n",
      "Epoch 40/100\n",
      "20/20 [==============================] - 0s 6ms/step - loss: 3.4406e-04 - accuracy: 1.0000 - val_loss: 0.2728 - val_accuracy: 0.9026\n",
      "Epoch 41/100\n",
      "20/20 [==============================] - 0s 6ms/step - loss: 3.1824e-04 - accuracy: 1.0000 - val_loss: 0.2738 - val_accuracy: 0.9026\n",
      "Epoch 42/100\n",
      "20/20 [==============================] - 0s 6ms/step - loss: 2.9841e-04 - accuracy: 1.0000 - val_loss: 0.2775 - val_accuracy: 0.9026\n",
      "Epoch 43/100\n",
      "20/20 [==============================] - 0s 5ms/step - loss: 2.7129e-04 - accuracy: 1.0000 - val_loss: 0.2690 - val_accuracy: 0.9026\n",
      "Epoch 44/100\n",
      "20/20 [==============================] - 0s 4ms/step - loss: 2.5253e-04 - accuracy: 1.0000 - val_loss: 0.2801 - val_accuracy: 0.9026\n",
      "Epoch 45/100\n",
      "20/20 [==============================] - 0s 5ms/step - loss: 2.3714e-04 - accuracy: 1.0000 - val_loss: 0.2781 - val_accuracy: 0.9026\n",
      "Epoch 46/100\n",
      "20/20 [==============================] - 0s 5ms/step - loss: 2.1853e-04 - accuracy: 1.0000 - val_loss: 0.2816 - val_accuracy: 0.9026\n",
      "Epoch 47/100\n",
      "20/20 [==============================] - 0s 5ms/step - loss: 2.0336e-04 - accuracy: 1.0000 - val_loss: 0.2766 - val_accuracy: 0.9026\n",
      "Epoch 48/100\n",
      "20/20 [==============================] - 0s 4ms/step - loss: 1.8981e-04 - accuracy: 1.0000 - val_loss: 0.2870 - val_accuracy: 0.9026\n",
      "Epoch 49/100\n",
      "20/20 [==============================] - 0s 5ms/step - loss: 1.7773e-04 - accuracy: 1.0000 - val_loss: 0.2841 - val_accuracy: 0.9026\n",
      "Epoch 50/100\n",
      "20/20 [==============================] - 0s 4ms/step - loss: 1.6500e-04 - accuracy: 1.0000 - val_loss: 0.2825 - val_accuracy: 0.9026\n",
      "Epoch 51/100\n",
      "20/20 [==============================] - 0s 5ms/step - loss: 1.5439e-04 - accuracy: 1.0000 - val_loss: 0.2882 - val_accuracy: 0.9026\n",
      "Epoch 52/100\n",
      "20/20 [==============================] - 0s 7ms/step - loss: 1.4528e-04 - accuracy: 1.0000 - val_loss: 0.2926 - val_accuracy: 0.9026\n",
      "Epoch 53/100\n",
      "20/20 [==============================] - 0s 7ms/step - loss: 1.3627e-04 - accuracy: 1.0000 - val_loss: 0.2914 - val_accuracy: 0.9026\n",
      "Epoch 54/100\n",
      "20/20 [==============================] - 0s 5ms/step - loss: 1.2818e-04 - accuracy: 1.0000 - val_loss: 0.2845 - val_accuracy: 0.9026\n",
      "Epoch 55/100\n",
      "20/20 [==============================] - 0s 5ms/step - loss: 1.2181e-04 - accuracy: 1.0000 - val_loss: 0.2893 - val_accuracy: 0.9026\n",
      "Epoch 56/100\n",
      "20/20 [==============================] - 0s 4ms/step - loss: 1.1431e-04 - accuracy: 1.0000 - val_loss: 0.2913 - val_accuracy: 0.9026\n",
      "Epoch 57/100\n",
      "20/20 [==============================] - 0s 6ms/step - loss: 1.0808e-04 - accuracy: 1.0000 - val_loss: 0.2901 - val_accuracy: 0.9026\n"
     ]
    },
    {
     "name": "stdout",
     "output_type": "stream",
     "text": [
      "Epoch 58/100\n",
      "20/20 [==============================] - 0s 6ms/step - loss: 1.0228e-04 - accuracy: 1.0000 - val_loss: 0.2918 - val_accuracy: 0.9026\n",
      "Epoch 59/100\n",
      "20/20 [==============================] - 0s 5ms/step - loss: 9.6919e-05 - accuracy: 1.0000 - val_loss: 0.2937 - val_accuracy: 0.9026\n",
      "Epoch 60/100\n",
      "20/20 [==============================] - 0s 5ms/step - loss: 9.1872e-05 - accuracy: 1.0000 - val_loss: 0.2948 - val_accuracy: 0.9026\n",
      "Epoch 61/100\n",
      "20/20 [==============================] - 0s 7ms/step - loss: 8.7941e-05 - accuracy: 1.0000 - val_loss: 0.2946 - val_accuracy: 0.9026\n",
      "Epoch 62/100\n",
      "20/20 [==============================] - 0s 6ms/step - loss: 8.3514e-05 - accuracy: 1.0000 - val_loss: 0.2972 - val_accuracy: 0.9026\n",
      "Epoch 63/100\n",
      "20/20 [==============================] - 0s 5ms/step - loss: 7.9538e-05 - accuracy: 1.0000 - val_loss: 0.2953 - val_accuracy: 0.9026\n",
      "Epoch 64/100\n",
      "20/20 [==============================] - 0s 6ms/step - loss: 7.5539e-05 - accuracy: 1.0000 - val_loss: 0.2995 - val_accuracy: 0.9026\n",
      "Epoch 65/100\n",
      "20/20 [==============================] - 0s 5ms/step - loss: 7.2157e-05 - accuracy: 1.0000 - val_loss: 0.2993 - val_accuracy: 0.9026\n",
      "Epoch 66/100\n",
      "20/20 [==============================] - 0s 7ms/step - loss: 6.8667e-05 - accuracy: 1.0000 - val_loss: 0.2954 - val_accuracy: 0.9026\n",
      "Epoch 67/100\n",
      "20/20 [==============================] - 0s 7ms/step - loss: 6.5878e-05 - accuracy: 1.0000 - val_loss: 0.2999 - val_accuracy: 0.9026\n",
      "Epoch 68/100\n",
      "20/20 [==============================] - 0s 7ms/step - loss: 6.3046e-05 - accuracy: 1.0000 - val_loss: 0.3054 - val_accuracy: 0.9026\n",
      "Epoch 69/100\n",
      "20/20 [==============================] - 0s 7ms/step - loss: 6.0236e-05 - accuracy: 1.0000 - val_loss: 0.3018 - val_accuracy: 0.9026\n",
      "Epoch 70/100\n",
      "20/20 [==============================] - 0s 7ms/step - loss: 5.7994e-05 - accuracy: 1.0000 - val_loss: 0.3002 - val_accuracy: 0.9026\n",
      "Epoch 71/100\n",
      "20/20 [==============================] - 0s 9ms/step - loss: 5.5171e-05 - accuracy: 1.0000 - val_loss: 0.3114 - val_accuracy: 0.9026\n",
      "Epoch 72/100\n",
      "20/20 [==============================] - 0s 7ms/step - loss: 5.2556e-05 - accuracy: 1.0000 - val_loss: 0.3072 - val_accuracy: 0.9026\n",
      "Epoch 73/100\n",
      "20/20 [==============================] - 0s 6ms/step - loss: 5.0409e-05 - accuracy: 1.0000 - val_loss: 0.3036 - val_accuracy: 0.9026\n",
      "Epoch 74/100\n",
      "20/20 [==============================] - 0s 5ms/step - loss: 4.8648e-05 - accuracy: 1.0000 - val_loss: 0.2980 - val_accuracy: 0.9026\n",
      "Epoch 75/100\n",
      "20/20 [==============================] - 0s 10ms/step - loss: 4.6271e-05 - accuracy: 1.0000 - val_loss: 0.3093 - val_accuracy: 0.9026\n",
      "Epoch 76/100\n",
      "20/20 [==============================] - 0s 5ms/step - loss: 4.4566e-05 - accuracy: 1.0000 - val_loss: 0.3109 - val_accuracy: 0.9026\n",
      "Epoch 77/100\n",
      "20/20 [==============================] - 0s 7ms/step - loss: 4.2583e-05 - accuracy: 1.0000 - val_loss: 0.3113 - val_accuracy: 0.9026\n",
      "Epoch 78/100\n",
      "20/20 [==============================] - 0s 10ms/step - loss: 4.1101e-05 - accuracy: 1.0000 - val_loss: 0.3099 - val_accuracy: 0.9026\n",
      "Epoch 79/100\n",
      "20/20 [==============================] - 0s 8ms/step - loss: 3.9584e-05 - accuracy: 1.0000 - val_loss: 0.3050 - val_accuracy: 0.9026\n",
      "Epoch 80/100\n",
      "20/20 [==============================] - 0s 8ms/step - loss: 3.7910e-05 - accuracy: 1.0000 - val_loss: 0.3087 - val_accuracy: 0.9026\n",
      "Epoch 81/100\n",
      "20/20 [==============================] - 0s 6ms/step - loss: 3.6620e-05 - accuracy: 1.0000 - val_loss: 0.3101 - val_accuracy: 0.9026\n",
      "Epoch 82/100\n",
      "20/20 [==============================] - 0s 9ms/step - loss: 3.5213e-05 - accuracy: 1.0000 - val_loss: 0.3087 - val_accuracy: 0.9026\n",
      "Epoch 83/100\n",
      "20/20 [==============================] - 0s 11ms/step - loss: 3.3928e-05 - accuracy: 1.0000 - val_loss: 0.3116 - val_accuracy: 0.9026\n",
      "Epoch 84/100\n",
      "20/20 [==============================] - 0s 9ms/step - loss: 3.2824e-05 - accuracy: 1.0000 - val_loss: 0.3143 - val_accuracy: 0.9026\n",
      "Epoch 85/100\n",
      "20/20 [==============================] - 0s 11ms/step - loss: 3.1808e-05 - accuracy: 1.0000 - val_loss: 0.3117 - val_accuracy: 0.9026\n",
      "Epoch 86/100\n",
      "20/20 [==============================] - 0s 8ms/step - loss: 3.0704e-05 - accuracy: 1.0000 - val_loss: 0.3130 - val_accuracy: 0.9026\n",
      "Epoch 87/100\n",
      "20/20 [==============================] - 0s 7ms/step - loss: 2.9729e-05 - accuracy: 1.0000 - val_loss: 0.3137 - val_accuracy: 0.9026\n",
      "Epoch 88/100\n",
      "20/20 [==============================] - 0s 5ms/step - loss: 2.8865e-05 - accuracy: 1.0000 - val_loss: 0.3100 - val_accuracy: 0.9026\n",
      "Epoch 89/100\n",
      "20/20 [==============================] - 0s 5ms/step - loss: 2.7952e-05 - accuracy: 1.0000 - val_loss: 0.3154 - val_accuracy: 0.9026\n",
      "Epoch 90/100\n",
      "20/20 [==============================] - 0s 7ms/step - loss: 2.7002e-05 - accuracy: 1.0000 - val_loss: 0.3114 - val_accuracy: 0.9026\n",
      "Epoch 91/100\n",
      "20/20 [==============================] - 0s 6ms/step - loss: 2.6106e-05 - accuracy: 1.0000 - val_loss: 0.3109 - val_accuracy: 0.9026\n",
      "Epoch 92/100\n",
      "20/20 [==============================] - 0s 6ms/step - loss: 2.5229e-05 - accuracy: 1.0000 - val_loss: 0.3126 - val_accuracy: 0.9026\n",
      "Epoch 93/100\n",
      "20/20 [==============================] - 0s 12ms/step - loss: 2.4414e-05 - accuracy: 1.0000 - val_loss: 0.3157 - val_accuracy: 0.9026\n",
      "Epoch 94/100\n",
      "20/20 [==============================] - 0s 8ms/step - loss: 2.3683e-05 - accuracy: 1.0000 - val_loss: 0.3154 - val_accuracy: 0.9026\n",
      "Epoch 95/100\n",
      "20/20 [==============================] - 0s 5ms/step - loss: 2.3052e-05 - accuracy: 1.0000 - val_loss: 0.3201 - val_accuracy: 0.9026\n",
      "Epoch 96/100\n",
      "20/20 [==============================] - 0s 5ms/step - loss: 2.2292e-05 - accuracy: 1.0000 - val_loss: 0.3215 - val_accuracy: 0.9026\n",
      "Epoch 97/100\n",
      "20/20 [==============================] - 0s 5ms/step - loss: 2.1610e-05 - accuracy: 1.0000 - val_loss: 0.3185 - val_accuracy: 0.9026\n",
      "Epoch 98/100\n",
      "20/20 [==============================] - 0s 6ms/step - loss: 2.0949e-05 - accuracy: 1.0000 - val_loss: 0.3181 - val_accuracy: 0.9026\n",
      "Epoch 99/100\n",
      "20/20 [==============================] - 0s 5ms/step - loss: 2.0344e-05 - accuracy: 1.0000 - val_loss: 0.3157 - val_accuracy: 0.9026\n",
      "Epoch 100/100\n",
      "20/20 [==============================] - 0s 5ms/step - loss: 1.9817e-05 - accuracy: 1.0000 - val_loss: 0.3182 - val_accuracy: 0.9026\n"
     ]
    }
   ],
   "source": [
    "# your code here\n",
    "\n",
    "from tensorflow.keras.optimizers import Adam\n",
    "\n",
    "# Define the neural network model with more layers\n",
    "model = Sequential([\n",
    "    Dense(128, activation='relu', input_shape=(X_train.shape[1],)),\n",
    "    Dense(128, activation='relu'),\n",
    "    Dense(64, activation='relu'),\n",
    "    Dense(64, activation='relu'),\n",
    "    Dense(2, activation='softmax')\n",
    "])\n",
    "\n",
    "# Adjust the learning rate\n",
    "custom_optimizer = Adam(learning_rate=0.001)\n",
    "\n",
    "# Compile the model with the custom optimizer\n",
    "model.compile(optimizer=custom_optimizer,\n",
    "              loss='sparse_categorical_crossentropy',\n",
    "              metrics=['accuracy'])\n",
    "\n",
    "# Adjust the number of epochs\n",
    "history = model.fit(X_train, y_train, epochs=100, validation_split=0.2)"
   ]
  },
  {
   "cell_type": "markdown",
   "metadata": {},
   "source": [
    "**Which approach(es) did you find helpful to improve your model performance?**"
   ]
  },
  {
   "cell_type": "code",
   "execution_count": null,
   "metadata": {},
   "outputs": [],
   "source": [
    "# your answer here\n",
    "\n",
    "# Adding more layers: useful make it more complex and potentially better able to capture patterns in the data.\n",
    "\n",
    "# Adjusting the number of epochs: more opportunities for the model to learn from the training data and potentially improve its performance."
   ]
  }
 ],
 "metadata": {
  "kernelspec": {
   "display_name": "Python 3 (ipykernel)",
   "language": "python",
   "name": "python3"
  },
  "language_info": {
   "codemirror_mode": {
    "name": "ipython",
    "version": 3
   },
   "file_extension": ".py",
   "mimetype": "text/x-python",
   "name": "python",
   "nbconvert_exporter": "python",
   "pygments_lexer": "ipython3",
   "version": "3.10.9"
  }
 },
 "nbformat": 4,
 "nbformat_minor": 2
}
