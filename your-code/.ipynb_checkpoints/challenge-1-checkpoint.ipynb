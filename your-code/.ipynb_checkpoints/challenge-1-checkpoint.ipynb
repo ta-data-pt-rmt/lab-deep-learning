{
 "cells": [
  {
   "cell_type": "markdown",
   "metadata": {},
   "source": [
    "# Challenge 1 - Tic Tac Toe\n",
    "\n",
    "In this lab you will perform deep learning analysis on a dataset of playing [Tic Tac Toe](https://en.wikipedia.org/wiki/Tic-tac-toe).\n",
    "\n",
    "There are 9 grids in Tic Tac Toe that are coded as the following picture shows:\n",
    "\n",
    "![Tic Tac Toe Grids](tttboard.jpg)\n",
    "\n",
    "In the first 9 columns of the dataset you can find which marks (`x` or `o`) exist in the grids. If there is no mark in a certain grid, it is labeled as `b`. The last column is `class` which tells you whether Player X (who always moves first in Tic Tac Toe) wins in this configuration. Note that when `class` has the value `False`, it means either Player O wins the game or it ends up as a draw."
   ]
  },
  {
   "cell_type": "markdown",
   "metadata": {},
   "source": [
    "Follow the steps suggested below to conduct a neural network analysis using Tensorflow and Keras. You will build a deep learning model to predict whether Player X wins the game or not.\n",
    "\n",
    "## Step 1: Data Engineering\n",
    "\n",
    "This dataset is almost in the ready-to-use state so you do not need to worry about missing values and so on. Still, some simple data engineering is needed.\n",
    "\n",
    "1. Read `tic-tac-toe.csv` into a dataframe.\n",
    "1. Inspect the dataset. Determine if the dataset is reliable by eyeballing the data.\n",
    "1. Convert the categorical values to numeric in all columns.\n",
    "1. Separate the inputs and output.\n",
    "1. Normalize the input data."
   ]
  },
  {
   "cell_type": "code",
   "execution_count": 1,
   "metadata": {},
   "outputs": [],
   "source": [
    "# import packages\n",
    "import pandas as pd\n",
    "import numpy as np"
   ]
  },
  {
   "cell_type": "code",
   "execution_count": 2,
   "metadata": {},
   "outputs": [
    {
     "data": {
      "text/html": [
       "<div>\n",
       "<style scoped>\n",
       "    .dataframe tbody tr th:only-of-type {\n",
       "        vertical-align: middle;\n",
       "    }\n",
       "\n",
       "    .dataframe tbody tr th {\n",
       "        vertical-align: top;\n",
       "    }\n",
       "\n",
       "    .dataframe thead th {\n",
       "        text-align: right;\n",
       "    }\n",
       "</style>\n",
       "<table border=\"1\" class=\"dataframe\">\n",
       "  <thead>\n",
       "    <tr style=\"text-align: right;\">\n",
       "      <th></th>\n",
       "      <th>TL</th>\n",
       "      <th>TM</th>\n",
       "      <th>TR</th>\n",
       "      <th>ML</th>\n",
       "      <th>MM</th>\n",
       "      <th>MR</th>\n",
       "      <th>BL</th>\n",
       "      <th>BM</th>\n",
       "      <th>BR</th>\n",
       "      <th>class</th>\n",
       "    </tr>\n",
       "  </thead>\n",
       "  <tbody>\n",
       "    <tr>\n",
       "      <th>0</th>\n",
       "      <td>x</td>\n",
       "      <td>x</td>\n",
       "      <td>x</td>\n",
       "      <td>x</td>\n",
       "      <td>o</td>\n",
       "      <td>o</td>\n",
       "      <td>x</td>\n",
       "      <td>o</td>\n",
       "      <td>o</td>\n",
       "      <td>True</td>\n",
       "    </tr>\n",
       "    <tr>\n",
       "      <th>1</th>\n",
       "      <td>x</td>\n",
       "      <td>x</td>\n",
       "      <td>x</td>\n",
       "      <td>x</td>\n",
       "      <td>o</td>\n",
       "      <td>o</td>\n",
       "      <td>o</td>\n",
       "      <td>x</td>\n",
       "      <td>o</td>\n",
       "      <td>True</td>\n",
       "    </tr>\n",
       "    <tr>\n",
       "      <th>2</th>\n",
       "      <td>x</td>\n",
       "      <td>x</td>\n",
       "      <td>x</td>\n",
       "      <td>x</td>\n",
       "      <td>o</td>\n",
       "      <td>o</td>\n",
       "      <td>o</td>\n",
       "      <td>o</td>\n",
       "      <td>x</td>\n",
       "      <td>True</td>\n",
       "    </tr>\n",
       "    <tr>\n",
       "      <th>3</th>\n",
       "      <td>x</td>\n",
       "      <td>x</td>\n",
       "      <td>x</td>\n",
       "      <td>x</td>\n",
       "      <td>o</td>\n",
       "      <td>o</td>\n",
       "      <td>o</td>\n",
       "      <td>b</td>\n",
       "      <td>b</td>\n",
       "      <td>True</td>\n",
       "    </tr>\n",
       "    <tr>\n",
       "      <th>4</th>\n",
       "      <td>x</td>\n",
       "      <td>x</td>\n",
       "      <td>x</td>\n",
       "      <td>x</td>\n",
       "      <td>o</td>\n",
       "      <td>o</td>\n",
       "      <td>b</td>\n",
       "      <td>o</td>\n",
       "      <td>b</td>\n",
       "      <td>True</td>\n",
       "    </tr>\n",
       "  </tbody>\n",
       "</table>\n",
       "</div>"
      ],
      "text/plain": [
       "  TL TM TR ML MM MR BL BM BR  class\n",
       "0  x  x  x  x  o  o  x  o  o   True\n",
       "1  x  x  x  x  o  o  o  x  o   True\n",
       "2  x  x  x  x  o  o  o  o  x   True\n",
       "3  x  x  x  x  o  o  o  b  b   True\n",
       "4  x  x  x  x  o  o  b  o  b   True"
      ]
     },
     "execution_count": 2,
     "metadata": {},
     "output_type": "execute_result"
    }
   ],
   "source": [
    "# import data into dataframe\n",
    "data = pd.read_csv('tic-tac-toe.csv')\n",
    "data.head()"
   ]
  },
  {
   "cell_type": "code",
   "execution_count": 3,
   "metadata": {},
   "outputs": [
    {
     "data": {
      "text/plain": [
       "(958, 10)"
      ]
     },
     "execution_count": 3,
     "metadata": {},
     "output_type": "execute_result"
    }
   ],
   "source": [
    "data.shape"
   ]
  },
  {
   "cell_type": "code",
   "execution_count": 4,
   "metadata": {},
   "outputs": [
    {
     "data": {
      "text/plain": [
       "TL       object\n",
       "TM       object\n",
       "TR       object\n",
       "ML       object\n",
       "MM       object\n",
       "MR       object\n",
       "BL       object\n",
       "BM       object\n",
       "BR       object\n",
       "class      bool\n",
       "dtype: object"
      ]
     },
     "execution_count": 4,
     "metadata": {},
     "output_type": "execute_result"
    }
   ],
   "source": [
    "data.dtypes"
   ]
  },
  {
   "cell_type": "code",
   "execution_count": 5,
   "metadata": {},
   "outputs": [],
   "source": [
    "# converting categorical values to numeric\n",
    "data = data.replace({'o':0,'x':1,'b':2,True:1,False:0})"
   ]
  },
  {
   "cell_type": "code",
   "execution_count": 6,
   "metadata": {},
   "outputs": [],
   "source": [
    "# seperating input (X) and output (y)\n",
    "X = data.drop('class', axis=1)\n",
    "y = data['class']"
   ]
  },
  {
   "cell_type": "code",
   "execution_count": 7,
   "metadata": {},
   "outputs": [],
   "source": [
    "# normalize input\n",
    "from sklearn.preprocessing import normalize\n",
    "\n",
    "X_normalized = normalize(X)"
   ]
  },
  {
   "cell_type": "markdown",
   "metadata": {},
   "source": [
    "## Step 2: Build Neural Network\n",
    "\n",
    "To build the neural network, you can refer to your own codes you wrote while following the [Deep Learning with Python, TensorFlow, and Keras tutorial](https://www.youtube.com/watch?v=wQ8BIBpya2k) in the lesson. It's pretty similar to what you will be doing in this lab.\n",
    "\n",
    "1. Split the training and test data.\n",
    "1. Create a `Sequential` model.\n",
    "1. Add several layers to your model. Make sure you use ReLU as the activation function for the middle layers. Use Softmax for the output layer because each output has a single lable and all the label probabilities add up to 1.\n",
    "1. Compile the model using `adam` as the optimizer and `sparse_categorical_crossentropy` as the loss function. For metrics, use `accuracy` for now.\n",
    "1. Fit the training data.\n",
    "1. Evaluate your neural network model with the test data.\n",
    "1. Save your model as `tic-tac-toe.model`."
   ]
  },
  {
   "cell_type": "code",
   "execution_count": 8,
   "metadata": {},
   "outputs": [],
   "source": [
    "# split data\n",
    "from sklearn.model_selection import train_test_split\n",
    "\n",
    "X_train, X_test, y_train, y_test = train_test_split(X_normalized, y)"
   ]
  },
  {
   "cell_type": "code",
   "execution_count": 9,
   "metadata": {},
   "outputs": [],
   "source": [
    "# create sequential model\n",
    "from tensorflow.keras.models import Sequential\n",
    "from tensorflow.keras.layers import Dense\n",
    "\n",
    "model = Sequential([Dense(64, activation='relu'),\n",
    "                   Dense(64, activation='relu'),\n",
    "                   Dense(10, activation='softmax'),\n",
    "                   ])"
   ]
  },
  {
   "cell_type": "code",
   "execution_count": 10,
   "metadata": {},
   "outputs": [],
   "source": [
    "# compile the model\n",
    "model.compile(optimizer='adam',\n",
    "             loss='sparse_categorical_crossentropy',\n",
    "             metrics=['accuracy']\n",
    "             )"
   ]
  },
  {
   "cell_type": "code",
   "execution_count": 11,
   "metadata": {},
   "outputs": [
    {
     "name": "stdout",
     "output_type": "stream",
     "text": [
      "Epoch 1/3\n",
      "23/23 [==============================] - 0s 1ms/step - loss: 2.0284 - accuracy: 0.3552\n",
      "Epoch 2/3\n",
      "23/23 [==============================] - 0s 2ms/step - loss: 1.2788 - accuracy: 0.4373\n",
      "Epoch 3/3\n",
      "23/23 [==============================] - 0s 2ms/step - loss: 0.7143 - accuracy: 0.6448\n"
     ]
    },
    {
     "data": {
      "text/plain": [
       "<keras.callbacks.History at 0x239482739a0>"
      ]
     },
     "execution_count": 11,
     "metadata": {},
     "output_type": "execute_result"
    }
   ],
   "source": [
    "# fit the model\n",
    "model.fit(X_train, y_train, epochs=3)"
   ]
  },
  {
   "cell_type": "code",
   "execution_count": 12,
   "metadata": {},
   "outputs": [
    {
     "name": "stdout",
     "output_type": "stream",
     "text": [
      "8/8 [==============================] - 0s 1ms/step - loss: 0.6173 - accuracy: 0.6833\n"
     ]
    },
    {
     "data": {
      "text/plain": [
       "[0.6172994375228882, 0.6833333373069763]"
      ]
     },
     "execution_count": 12,
     "metadata": {},
     "output_type": "execute_result"
    }
   ],
   "source": [
    "# evaluate the model with test data\n",
    "model.evaluate(X_test, y_test)"
   ]
  },
  {
   "cell_type": "code",
   "execution_count": 13,
   "metadata": {},
   "outputs": [
    {
     "name": "stdout",
     "output_type": "stream",
     "text": [
      "INFO:tensorflow:Assets written to: tic-tac-toe.model\\assets\n"
     ]
    }
   ],
   "source": [
    "# save model\n",
    "model.save('tic-tac-toe.model')"
   ]
  },
  {
   "cell_type": "markdown",
   "metadata": {},
   "source": [
    "## Step 3: Make Predictions\n",
    "\n",
    "Now load your saved model and use it to make predictions on a few random rows in the test dataset. Check if the predictions are correct."
   ]
  },
  {
   "cell_type": "code",
   "execution_count": 14,
   "metadata": {},
   "outputs": [],
   "source": [
    "from tensorflow import keras\n",
    "\n",
    "# load model\n",
    "model_loaded = keras.models.load_model('tic-tac-toe.model')"
   ]
  },
  {
   "cell_type": "code",
   "execution_count": 15,
   "metadata": {},
   "outputs": [
    {
     "name": "stdout",
     "output_type": "stream",
     "text": [
      "1/1 [==============================] - 0s 75ms/step\n"
     ]
    }
   ],
   "source": [
    "# make predictions\n",
    "x_test_pred = model_loaded.predict([X_test[:9]])"
   ]
  },
  {
   "cell_type": "code",
   "execution_count": 16,
   "metadata": {},
   "outputs": [
    {
     "data": {
      "text/plain": [
       "array([[3.0481657e-01, 6.8227655e-01, 1.8946750e-03, 1.4687580e-03,\n",
       "        1.9445611e-03, 7.1936520e-04, 2.3897009e-03, 1.3729901e-03,\n",
       "        1.3469125e-03, 1.7698375e-03],\n",
       "       [3.4198648e-01, 6.3333666e-01, 3.4214107e-03, 2.9991835e-03,\n",
       "        4.1196952e-03, 1.9599714e-03, 3.8423757e-03, 2.4967180e-03,\n",
       "        2.6829822e-03, 3.1544818e-03],\n",
       "       [3.4023237e-01, 6.3823241e-01, 2.6772274e-03, 2.6815098e-03,\n",
       "        3.7155445e-03, 1.2235400e-03, 3.4945677e-03, 2.3825155e-03,\n",
       "        2.2811492e-03, 3.0791550e-03],\n",
       "       [2.6015458e-01, 7.2526193e-01, 1.9662790e-03, 2.0665072e-03,\n",
       "        2.4744722e-03, 1.0585508e-03, 2.0320076e-03, 1.2964954e-03,\n",
       "        1.6870202e-03, 2.0020416e-03],\n",
       "       [2.3576511e-01, 7.4621505e-01, 2.2277355e-03, 2.7615251e-03,\n",
       "        3.0322161e-03, 1.1868707e-03, 2.4556441e-03, 1.6524673e-03,\n",
       "        2.0314427e-03, 2.6719100e-03],\n",
       "       [3.5051879e-01, 6.2200928e-01, 3.9512678e-03, 3.1909528e-03,\n",
       "        4.0354086e-03, 1.8948585e-03, 4.6481607e-03, 2.9920063e-03,\n",
       "        3.1652858e-03, 3.5939754e-03],\n",
       "       [3.2561523e-01, 6.4098376e-01, 4.8080245e-03, 4.1637630e-03,\n",
       "        4.7764764e-03, 2.1345320e-03, 5.8018500e-03, 2.8345454e-03,\n",
       "        4.2328513e-03, 4.6490375e-03],\n",
       "       [2.6445156e-01, 7.2268271e-01, 1.6807899e-03, 1.7880674e-03,\n",
       "        2.1492925e-03, 7.2136510e-04, 2.1205628e-03, 1.0838343e-03,\n",
       "        1.3204170e-03, 2.0014581e-03],\n",
       "       [2.6929420e-01, 7.1171087e-01, 2.4185500e-03, 2.6882710e-03,\n",
       "        3.0906408e-03, 1.1362217e-03, 2.9197552e-03, 1.8843790e-03,\n",
       "        1.9879572e-03, 2.8690810e-03]], dtype=float32)"
      ]
     },
     "execution_count": 16,
     "metadata": {},
     "output_type": "execute_result"
    }
   ],
   "source": [
    "# check predictions\n",
    "x_test_pred"
   ]
  },
  {
   "cell_type": "code",
   "execution_count": 17,
   "metadata": {},
   "outputs": [
    {
     "data": {
      "text/plain": [
       "array([1, 1, 1, 1, 1, 1, 1, 1, 1], dtype=int64)"
      ]
     },
     "execution_count": 17,
     "metadata": {},
     "output_type": "execute_result"
    }
   ],
   "source": [
    "# predicted outcomes\n",
    "np.argmax(x_test_pred, axis=1)"
   ]
  },
  {
   "cell_type": "code",
   "execution_count": 18,
   "metadata": {},
   "outputs": [
    {
     "data": {
      "text/plain": [
       "292    1\n",
       "943    0\n",
       "628    0\n",
       "520    1\n",
       "300    1\n",
       "861    0\n",
       "848    0\n",
       "457    1\n",
       "335    1\n",
       "Name: class, dtype: int64"
      ]
     },
     "execution_count": 18,
     "metadata": {},
     "output_type": "execute_result"
    }
   ],
   "source": [
    "# actual outcomes\n",
    "y_test.iloc[:9]"
   ]
  },
  {
   "cell_type": "markdown",
   "metadata": {},
   "source": [
    "## Step 4: Improve Your Model\n",
    "\n",
    "Did your model achieve low loss (<0.1) and high accuracy (>0.95)? If not, try to improve your model.\n",
    "\n",
    "But how? There are so many things you can play with in Tensorflow and in the next challenge you'll learn about these things. But in this challenge, let's just do a few things to see if they will help.\n",
    "\n",
    "* Add more layers to your model. If the data are complex you need more layers. But don't use more layers than you need. If adding more layers does not improve the model performance you don't need additional layers.\n",
    "* Adjust the learning rate when you compile the model. This means you will create a custom `tf.keras.optimizers.Adam` instance where you specify the learning rate you want. Then pass the instance to `model.compile` as the optimizer.\n",
    "    * `tf.keras.optimizers.Adam` [reference](https://www.tensorflow.org/api_docs/python/tf/keras/optimizers/Adam).\n",
    "    * Don't worry if you don't understand what the learning rate does. You'll learn about it in the next challenge.\n",
    "* Adjust the number of epochs when you fit the training data to the model. Your model performance continues to improve as you train more epochs. But eventually it will reach the ceiling and the performance will stay the same."
   ]
  },
  {
   "cell_type": "code",
   "execution_count": 19,
   "metadata": {},
   "outputs": [],
   "source": [
    "### adding more layers to the model"
   ]
  },
  {
   "cell_type": "code",
   "execution_count": 20,
   "metadata": {},
   "outputs": [
    {
     "name": "stdout",
     "output_type": "stream",
     "text": [
      "Epoch 1/3\n",
      "23/23 [==============================] - 0s 2ms/step - loss: 1.7928 - accuracy: 0.6421\n",
      "Epoch 2/3\n",
      "23/23 [==============================] - 0s 2ms/step - loss: 0.8106 - accuracy: 0.6435\n",
      "Epoch 3/3\n",
      "23/23 [==============================] - 0s 2ms/step - loss: 0.6432 - accuracy: 0.6435\n",
      "8/8 [==============================] - 0s 1ms/step - loss: 0.6025 - accuracy: 0.6833\n"
     ]
    },
    {
     "data": {
      "text/plain": [
       "[0.6024715304374695, 0.6833333373069763]"
      ]
     },
     "execution_count": 20,
     "metadata": {},
     "output_type": "execute_result"
    }
   ],
   "source": [
    "# adding 2 layers\n",
    "model = Sequential([Dense(64, activation='relu'),\n",
    "                   Dense(64, activation='relu'),\n",
    "                   Dense(64, activation='relu'),\n",
    "                   Dense(64, activation='relu'),\n",
    "                   Dense(10, activation='softmax'),\n",
    "                   ])\n",
    "\n",
    "model.compile(optimizer='adam',\n",
    "             loss='sparse_categorical_crossentropy',\n",
    "             metrics=['accuracy']\n",
    "             )\n",
    "\n",
    "model.fit(X_train, y_train, epochs=3)\n",
    "\n",
    "model.evaluate(X_test, y_test)"
   ]
  },
  {
   "cell_type": "code",
   "execution_count": 21,
   "metadata": {},
   "outputs": [
    {
     "name": "stdout",
     "output_type": "stream",
     "text": [
      "Epoch 1/3\n",
      "23/23 [==============================] - 1s 2ms/step - loss: 1.9433 - accuracy: 0.5014 \n",
      "Epoch 2/3\n",
      "23/23 [==============================] - 0s 2ms/step - loss: 0.7339 - accuracy: 0.6407\n",
      "Epoch 3/3\n",
      "23/23 [==============================] - 0s 2ms/step - loss: 0.6639 - accuracy: 0.6435\n",
      "8/8 [==============================] - 0s 2ms/step - loss: 0.6189 - accuracy: 0.6833\n"
     ]
    },
    {
     "data": {
      "text/plain": [
       "[0.6189424395561218, 0.6833333373069763]"
      ]
     },
     "execution_count": 21,
     "metadata": {},
     "output_type": "execute_result"
    }
   ],
   "source": [
    "# adding 4 layers\n",
    "model = Sequential([Dense(64, activation='relu'),\n",
    "                   Dense(64, activation='relu'),\n",
    "                   Dense(64, activation='relu'),\n",
    "                   Dense(64, activation='relu'),\n",
    "                   Dense(64, activation='relu'),\n",
    "                   Dense(64, activation='relu'),\n",
    "                   Dense(10, activation='softmax'),\n",
    "                   ])\n",
    "\n",
    "model.compile(optimizer='adam',\n",
    "             loss='sparse_categorical_crossentropy',\n",
    "             metrics=['accuracy']\n",
    "             )\n",
    "\n",
    "model.fit(X_train, y_train, epochs=3)\n",
    "\n",
    "model.evaluate(X_test, y_test)"
   ]
  },
  {
   "cell_type": "code",
   "execution_count": 22,
   "metadata": {},
   "outputs": [],
   "source": [
    "### adjusting the learning rate when compiling the model"
   ]
  },
  {
   "cell_type": "code",
   "execution_count": 23,
   "metadata": {},
   "outputs": [
    {
     "name": "stdout",
     "output_type": "stream",
     "text": [
      "Epoch 1/3\n",
      "23/23 [==============================] - 0s 2ms/step - loss: 2.1296 - accuracy: 0.4290\n",
      "Epoch 2/3\n",
      "23/23 [==============================] - 0s 2ms/step - loss: 1.4303 - accuracy: 0.6435\n",
      "Epoch 3/3\n",
      "23/23 [==============================] - 0s 1ms/step - loss: 0.7946 - accuracy: 0.6435\n",
      "8/8 [==============================] - 0s 1ms/step - loss: 0.6421 - accuracy: 0.6833\n"
     ]
    },
    {
     "data": {
      "text/plain": [
       "[0.6420922875404358, 0.6833333373069763]"
      ]
     },
     "execution_count": 23,
     "metadata": {},
     "output_type": "execute_result"
    }
   ],
   "source": [
    "import tensorflow as tf\n",
    "\n",
    "\n",
    "model = Sequential([Dense(64, activation='relu'),\n",
    "                   Dense(64, activation='relu'),\n",
    "                   Dense(10, activation='softmax'),\n",
    "                   ])\n",
    "\n",
    "# adjusting learning rate to 0.001\n",
    "optimizer_adam = tf.keras.optimizers.Adam(learning_rate=0.001)\n",
    "\n",
    "model.compile(optimizer=optimizer_adam,     # adjusted optimizer\n",
    "             loss='sparse_categorical_crossentropy',\n",
    "             metrics=['accuracy']\n",
    "             )\n",
    "\n",
    "model.fit(X_train, y_train, epochs=3)\n",
    "\n",
    "model.evaluate(X_test, y_test)"
   ]
  },
  {
   "cell_type": "code",
   "execution_count": 24,
   "metadata": {},
   "outputs": [
    {
     "name": "stdout",
     "output_type": "stream",
     "text": [
      "Epoch 1/3\n",
      "23/23 [==============================] - 0s 2ms/step - loss: 0.9284 - accuracy: 0.5947\n",
      "Epoch 2/3\n",
      "23/23 [==============================] - 0s 2ms/step - loss: 0.6381 - accuracy: 0.6379\n",
      "Epoch 3/3\n",
      "23/23 [==============================] - 0s 2ms/step - loss: 0.6217 - accuracy: 0.6532\n",
      "8/8 [==============================] - 0s 2ms/step - loss: 0.6278 - accuracy: 0.6500\n"
     ]
    },
    {
     "data": {
      "text/plain": [
       "[0.6278011798858643, 0.6499999761581421]"
      ]
     },
     "execution_count": 24,
     "metadata": {},
     "output_type": "execute_result"
    }
   ],
   "source": [
    "model = Sequential([Dense(64, activation='relu'),\n",
    "                   Dense(64, activation='relu'),\n",
    "                   Dense(10, activation='softmax'),\n",
    "                   ])\n",
    "\n",
    "# adjusting learning rate to 0.01\n",
    "optimizer_adam = tf.keras.optimizers.Adam(learning_rate=0.01)\n",
    "\n",
    "model.compile(optimizer=optimizer_adam,     # adjusted optimizer\n",
    "             loss='sparse_categorical_crossentropy',\n",
    "             metrics=['accuracy']\n",
    "             )\n",
    "\n",
    "model.fit(X_train, y_train, epochs=3)\n",
    "\n",
    "model.evaluate(X_test, y_test)"
   ]
  },
  {
   "cell_type": "code",
   "execution_count": 25,
   "metadata": {},
   "outputs": [
    {
     "name": "stdout",
     "output_type": "stream",
     "text": [
      "Epoch 1/3\n",
      "23/23 [==============================] - 0s 2ms/step - loss: 0.9989 - accuracy: 0.5682\n",
      "Epoch 2/3\n",
      "23/23 [==============================] - 0s 2ms/step - loss: 0.7016 - accuracy: 0.5599\n",
      "Epoch 3/3\n",
      "23/23 [==============================] - 0s 2ms/step - loss: 0.6756 - accuracy: 0.6435\n",
      "8/8 [==============================] - 0s 1ms/step - loss: 0.6261 - accuracy: 0.6833\n"
     ]
    },
    {
     "data": {
      "text/plain": [
       "[0.6261429190635681, 0.6833333373069763]"
      ]
     },
     "execution_count": 25,
     "metadata": {},
     "output_type": "execute_result"
    }
   ],
   "source": [
    "model = Sequential([Dense(64, activation='relu'),\n",
    "                   Dense(64, activation='relu'),\n",
    "                   Dense(10, activation='softmax'),\n",
    "                   ])\n",
    "\n",
    "# adjusting learning rate to 0.1\n",
    "optimizer_adam = tf.keras.optimizers.Adam(learning_rate=0.1)\n",
    "\n",
    "model.compile(optimizer=optimizer_adam,     # adjusted optimizer\n",
    "             loss='sparse_categorical_crossentropy',\n",
    "             metrics=['accuracy']\n",
    "             )\n",
    "\n",
    "model.fit(X_train, y_train, epochs=3)\n",
    "\n",
    "model.evaluate(X_test, y_test)"
   ]
  },
  {
   "cell_type": "code",
   "execution_count": 26,
   "metadata": {},
   "outputs": [],
   "source": [
    "### adjusting the number of epochs when fitting the training data to the model"
   ]
  },
  {
   "cell_type": "code",
   "execution_count": 27,
   "metadata": {},
   "outputs": [
    {
     "name": "stdout",
     "output_type": "stream",
     "text": [
      "Epoch 1/5\n",
      "23/23 [==============================] - 0s 2ms/step - loss: 2.0213 - accuracy: 0.4986\n",
      "Epoch 2/5\n",
      "23/23 [==============================] - 0s 2ms/step - loss: 1.2911 - accuracy: 0.6435\n",
      "Epoch 3/5\n",
      "23/23 [==============================] - 0s 2ms/step - loss: 0.7431 - accuracy: 0.6435\n",
      "Epoch 4/5\n",
      "23/23 [==============================] - 0s 2ms/step - loss: 0.6502 - accuracy: 0.6462\n",
      "Epoch 5/5\n",
      "23/23 [==============================] - 0s 1ms/step - loss: 0.6318 - accuracy: 0.6476\n",
      "8/8 [==============================] - 0s 1ms/step - loss: 0.6075 - accuracy: 0.6917\n"
     ]
    },
    {
     "data": {
      "text/plain": [
       "[0.6074699759483337, 0.6916666626930237]"
      ]
     },
     "execution_count": 27,
     "metadata": {},
     "output_type": "execute_result"
    }
   ],
   "source": [
    "model = Sequential([Dense(64, activation='relu'),\n",
    "                   Dense(64, activation='relu'),\n",
    "                   Dense(10, activation='softmax'),\n",
    "                   ])\n",
    "\n",
    "model.compile(optimizer='adam',\n",
    "             loss='sparse_categorical_crossentropy',\n",
    "             metrics=['accuracy']\n",
    "             )\n",
    "\n",
    "# adjusting number of epochs to 5\n",
    "model.fit(X_train, y_train, epochs=5)\n",
    "\n",
    "model.evaluate(X_test, y_test)"
   ]
  },
  {
   "cell_type": "code",
   "execution_count": 28,
   "metadata": {},
   "outputs": [
    {
     "name": "stdout",
     "output_type": "stream",
     "text": [
      "Epoch 1/7\n",
      "23/23 [==============================] - 0s 2ms/step - loss: 2.0902 - accuracy: 0.4192\n",
      "Epoch 2/7\n",
      "23/23 [==============================] - 0s 2ms/step - loss: 1.3682 - accuracy: 0.6448\n",
      "Epoch 3/7\n",
      "23/23 [==============================] - 0s 1ms/step - loss: 0.7504 - accuracy: 0.6435\n",
      "Epoch 4/7\n",
      "23/23 [==============================] - 0s 2ms/step - loss: 0.6527 - accuracy: 0.6435\n",
      "Epoch 5/7\n",
      "23/23 [==============================] - 0s 2ms/step - loss: 0.6305 - accuracy: 0.6476\n",
      "Epoch 6/7\n",
      "23/23 [==============================] - 0s 1ms/step - loss: 0.6173 - accuracy: 0.6518\n",
      "Epoch 7/7\n",
      "23/23 [==============================] - 0s 1ms/step - loss: 0.6085 - accuracy: 0.6532\n",
      "8/8 [==============================] - 0s 3ms/step - loss: 0.5772 - accuracy: 0.7125\n"
     ]
    },
    {
     "data": {
      "text/plain": [
       "[0.5772088766098022, 0.7124999761581421]"
      ]
     },
     "execution_count": 28,
     "metadata": {},
     "output_type": "execute_result"
    }
   ],
   "source": [
    "model = Sequential([Dense(64, activation='relu'),\n",
    "                   Dense(64, activation='relu'),\n",
    "                   Dense(10, activation='softmax'),\n",
    "                   ])\n",
    "\n",
    "model.compile(optimizer='adam',\n",
    "             loss='sparse_categorical_crossentropy',\n",
    "             metrics=['accuracy']\n",
    "             )\n",
    "\n",
    "# adjusting number of epochs to 7\n",
    "model.fit(X_train, y_train, epochs=7)\n",
    "\n",
    "model.evaluate(X_test, y_test)"
   ]
  },
  {
   "cell_type": "markdown",
   "metadata": {},
   "source": [
    "**Which approach(es) did you find helpful to improve your model performance?**"
   ]
  },
  {
   "cell_type": "code",
   "execution_count": null,
   "metadata": {},
   "outputs": [],
   "source": [
    "# your answer here\n",
    "'''\n",
    "- Adding more layers to the model didn't improve the model's performance.\n",
    "- Increasing the learning rate imporved the model slightly. However, when the learning rate was increased just a bit\n",
    "  the performance of the model dropped.\n",
    "- Increasing the number of epochs improved the model a little.\n",
    "'''"
   ]
  }
 ],
 "metadata": {
  "kernelspec": {
   "display_name": "Python 3 (ipykernel)",
   "language": "python",
   "name": "python3"
  },
  "language_info": {
   "codemirror_mode": {
    "name": "ipython",
    "version": 3
   },
   "file_extension": ".py",
   "mimetype": "text/x-python",
   "name": "python",
   "nbconvert_exporter": "python",
   "pygments_lexer": "ipython3",
   "version": "3.9.7"
  }
 },
 "nbformat": 4,
 "nbformat_minor": 2
}
