{
 "cells": [
  {
   "cell_type": "markdown",
   "metadata": {},
   "source": [
    "# Challenge 1 - Tic Tac Toe\n",
    "\n",
    "In this lab you will perform deep learning analysis on a dataset of playing [Tic Tac Toe](https://en.wikipedia.org/wiki/Tic-tac-toe).\n",
    "\n",
    "There are 9 grids in Tic Tac Toe that are coded as the following picture shows:\n",
    "\n",
    "![Tic Tac Toe Grids](tttboard.jpg)\n",
    "\n",
    "In the first 9 columns of the dataset you can find which marks (`x` or `o`) exist in the grids. If there is no mark in a certain grid, it is labeled as `b`. The last column is `class` which tells you whether Player X (who always moves first in Tic Tac Toe) wins in this configuration. Note that when `class` has the value `False`, it means either Player O wins the game or it ends up as a draw."
   ]
  },
  {
   "cell_type": "markdown",
   "metadata": {},
   "source": [
    "Follow the steps suggested below to conduct a neural network analysis using Tensorflow and Keras. You will build a deep learning model to predict whether Player X wins the game or not.\n",
    "\n",
    "## Step 1: Data Engineering\n",
    "\n",
    "This dataset is almost in the ready-to-use state so you do not need to worry about missing values and so on. Still, some simple data engineering is needed.\n",
    "\n",
    "1. Read `tic-tac-toe.csv` into a dataframe.\n",
    "1. Inspect the dataset. Determine if the dataset is reliable by eyeballing the data.\n",
    "1. Convert the categorical values to numeric in all columns.\n",
    "1. Separate the inputs and output.\n",
    "1. Normalize the input data."
   ]
  },
  {
   "cell_type": "code",
   "execution_count": 1,
   "metadata": {},
   "outputs": [],
   "source": [
    "# pip install tensorflow"
   ]
  },
  {
   "cell_type": "code",
   "execution_count": 2,
   "metadata": {},
   "outputs": [],
   "source": [
    "# your code here\n",
    "import pandas as pd\n",
    "import numpy as np\n",
    "\n",
    "# Keras currently only runs in python 3.6!\n",
    "import tensorflow\n",
    "from tensorflow.keras.models import Sequential\n",
    "from tensorflow.keras.layers import Dense\n",
    "from tensorflow.keras.utils import to_categorical\n",
    "\n",
    "# from Sklearn\n",
    "from sklearn.model_selection import train_test_split"
   ]
  },
  {
   "cell_type": "code",
   "execution_count": 3,
   "metadata": {},
   "outputs": [],
   "source": [
    "# your code here\n",
    "tic_tac_toe = pd.read_csv('tic-tac-toe.csv')\n",
    "tic_tac_toe.replace('x', 0, inplace = True)\n",
    "tic_tac_toe.replace('o', 1, inplace = True)\n",
    "tic_tac_toe.replace('b', -1, inplace = True)"
   ]
  },
  {
   "cell_type": "code",
   "execution_count": 4,
   "metadata": {},
   "outputs": [
    {
     "data": {
      "text/html": [
       "<div>\n",
       "<style scoped>\n",
       "    .dataframe tbody tr th:only-of-type {\n",
       "        vertical-align: middle;\n",
       "    }\n",
       "\n",
       "    .dataframe tbody tr th {\n",
       "        vertical-align: top;\n",
       "    }\n",
       "\n",
       "    .dataframe thead th {\n",
       "        text-align: right;\n",
       "    }\n",
       "</style>\n",
       "<table border=\"1\" class=\"dataframe\">\n",
       "  <thead>\n",
       "    <tr style=\"text-align: right;\">\n",
       "      <th></th>\n",
       "      <th>TL</th>\n",
       "      <th>TM</th>\n",
       "      <th>TR</th>\n",
       "      <th>ML</th>\n",
       "      <th>MM</th>\n",
       "      <th>MR</th>\n",
       "      <th>BL</th>\n",
       "      <th>BM</th>\n",
       "      <th>BR</th>\n",
       "      <th>class</th>\n",
       "    </tr>\n",
       "  </thead>\n",
       "  <tbody>\n",
       "    <tr>\n",
       "      <th>0</th>\n",
       "      <td>0</td>\n",
       "      <td>0</td>\n",
       "      <td>0</td>\n",
       "      <td>0</td>\n",
       "      <td>1</td>\n",
       "      <td>1</td>\n",
       "      <td>0</td>\n",
       "      <td>1</td>\n",
       "      <td>1</td>\n",
       "      <td>True</td>\n",
       "    </tr>\n",
       "    <tr>\n",
       "      <th>1</th>\n",
       "      <td>0</td>\n",
       "      <td>0</td>\n",
       "      <td>0</td>\n",
       "      <td>0</td>\n",
       "      <td>1</td>\n",
       "      <td>1</td>\n",
       "      <td>1</td>\n",
       "      <td>0</td>\n",
       "      <td>1</td>\n",
       "      <td>True</td>\n",
       "    </tr>\n",
       "    <tr>\n",
       "      <th>2</th>\n",
       "      <td>0</td>\n",
       "      <td>0</td>\n",
       "      <td>0</td>\n",
       "      <td>0</td>\n",
       "      <td>1</td>\n",
       "      <td>1</td>\n",
       "      <td>1</td>\n",
       "      <td>1</td>\n",
       "      <td>0</td>\n",
       "      <td>True</td>\n",
       "    </tr>\n",
       "    <tr>\n",
       "      <th>3</th>\n",
       "      <td>0</td>\n",
       "      <td>0</td>\n",
       "      <td>0</td>\n",
       "      <td>0</td>\n",
       "      <td>1</td>\n",
       "      <td>1</td>\n",
       "      <td>1</td>\n",
       "      <td>-1</td>\n",
       "      <td>-1</td>\n",
       "      <td>True</td>\n",
       "    </tr>\n",
       "    <tr>\n",
       "      <th>4</th>\n",
       "      <td>0</td>\n",
       "      <td>0</td>\n",
       "      <td>0</td>\n",
       "      <td>0</td>\n",
       "      <td>1</td>\n",
       "      <td>1</td>\n",
       "      <td>-1</td>\n",
       "      <td>1</td>\n",
       "      <td>-1</td>\n",
       "      <td>True</td>\n",
       "    </tr>\n",
       "  </tbody>\n",
       "</table>\n",
       "</div>"
      ],
      "text/plain": [
       "   TL  TM  TR  ML  MM  MR  BL  BM  BR  class\n",
       "0   0   0   0   0   1   1   0   1   1   True\n",
       "1   0   0   0   0   1   1   1   0   1   True\n",
       "2   0   0   0   0   1   1   1   1   0   True\n",
       "3   0   0   0   0   1   1   1  -1  -1   True\n",
       "4   0   0   0   0   1   1  -1   1  -1   True"
      ]
     },
     "execution_count": 4,
     "metadata": {},
     "output_type": "execute_result"
    }
   ],
   "source": [
    "tic_tac_toe.head()"
   ]
  },
  {
   "cell_type": "code",
   "execution_count": 22,
   "metadata": {},
   "outputs": [
    {
     "data": {
      "text/plain": [
       "9580"
      ]
     },
     "execution_count": 22,
     "metadata": {},
     "output_type": "execute_result"
    }
   ],
   "source": [
    "tic_tac_toe.size"
   ]
  },
  {
   "cell_type": "markdown",
   "metadata": {},
   "source": [
    "## Step 2: Build Neural Network\n",
    "\n",
    "To build the neural network, you can refer to your own codes you wrote while following the [Deep Learning with Python, TensorFlow, and Keras tutorial](https://www.youtube.com/watch?v=wQ8BIBpya2k) in the lesson. It's pretty similar to what you will be doing in this lab.\n",
    "\n",
    "1. Split the training and test data.\n",
    "1. Create a `Sequential` model.\n",
    "1. Add several layers to your model. Make sure you use ReLU as the activation function for the middle layers. Use Softmax for the output layer because each output has a single lable and all the label probabilities add up to 1.\n",
    "1. Compile the model using `adam` as the optimizer and `sparse_categorical_crossentropy` as the loss function. For metrics, use `accuracy` for now.\n",
    "1. Fit the training data.\n",
    "1. Evaluate your neural network model with the test data.\n",
    "1. Save your model as `tic-tac-toe.model`."
   ]
  },
  {
   "cell_type": "code",
   "execution_count": 5,
   "metadata": {},
   "outputs": [
    {
     "data": {
      "text/plain": [
       "Index(['TL', 'TM', 'TR', 'ML', 'MM', 'MR', 'BL', 'BM', 'BR', 'class'], dtype='object')"
      ]
     },
     "execution_count": 5,
     "metadata": {},
     "output_type": "execute_result"
    }
   ],
   "source": [
    "tic_tac_toe.columns"
   ]
  },
  {
   "cell_type": "code",
   "execution_count": 6,
   "metadata": {},
   "outputs": [],
   "source": [
    "X = np.array(tic_tac_toe.drop(labels='class', axis = 1))\n",
    "y = np.array(tic_tac_toe['class'])"
   ]
  },
  {
   "cell_type": "code",
   "execution_count": 28,
   "metadata": {},
   "outputs": [],
   "source": [
    "X_train, X_test, y_train, y_test = train_test_split(X, y, test_size = 0.2, random_state=29)"
   ]
  },
  {
   "cell_type": "code",
   "execution_count": 29,
   "metadata": {},
   "outputs": [
    {
     "data": {
      "text/plain": [
       "array([[ 1,  0,  0, ...,  0, -1,  1],\n",
       "       [ 0,  1,  1, ...,  0,  1, -1],\n",
       "       [ 0,  0,  1, ..., -1,  0,  0],\n",
       "       ...,\n",
       "       [-1,  0,  1, ...,  0,  0,  0],\n",
       "       [ 0, -1,  0, ...,  0,  1,  1],\n",
       "       [ 1,  1,  0, ...,  0,  0,  1]], dtype=int64)"
      ]
     },
     "execution_count": 29,
     "metadata": {},
     "output_type": "execute_result"
    }
   ],
   "source": [
    "X_train"
   ]
  },
  {
   "cell_type": "code",
   "execution_count": 30,
   "metadata": {},
   "outputs": [
    {
     "data": {
      "text/plain": [
       "array([[ 0,  0, -1, ..., -1,  0, -1],\n",
       "       [-1,  1,  0, ...,  0,  1, -1],\n",
       "       [-1,  0,  1, ...,  0,  0,  1],\n",
       "       ...,\n",
       "       [ 1,  0,  1, ...,  1,  0,  0],\n",
       "       [ 1,  1,  1, ...,  0, -1,  0],\n",
       "       [ 0,  1, -1, ...,  0,  1,  1]], dtype=int64)"
      ]
     },
     "execution_count": 30,
     "metadata": {},
     "output_type": "execute_result"
    }
   ],
   "source": [
    "X_test"
   ]
  },
  {
   "cell_type": "code",
   "execution_count": 43,
   "metadata": {},
   "outputs": [
    {
     "name": "stdout",
     "output_type": "stream",
     "text": [
      "Epoch 1/50\n",
      "20/20 [==============================] - 1s 1ms/step - loss: 0.6430 - accuracy: 0.6514\n",
      "Epoch 2/50\n",
      "20/20 [==============================] - 0s 2ms/step - loss: 0.6261 - accuracy: 0.6606\n",
      "Epoch 3/50\n",
      "20/20 [==============================] - 0s 2ms/step - loss: 0.6120 - accuracy: 0.6684\n",
      "Epoch 4/50\n",
      "20/20 [==============================] - 0s 2ms/step - loss: 0.5995 - accuracy: 0.6710\n",
      "Epoch 5/50\n",
      "20/20 [==============================] - 0s 2ms/step - loss: 0.5883 - accuracy: 0.6762\n",
      "Epoch 6/50\n",
      "20/20 [==============================] - 0s 2ms/step - loss: 0.5772 - accuracy: 0.6919\n",
      "Epoch 7/50\n",
      "20/20 [==============================] - 0s 2ms/step - loss: 0.5661 - accuracy: 0.6958\n",
      "Epoch 8/50\n",
      "20/20 [==============================] - 0s 2ms/step - loss: 0.5560 - accuracy: 0.7037\n",
      "Epoch 9/50\n",
      "20/20 [==============================] - 0s 2ms/step - loss: 0.5460 - accuracy: 0.7141\n",
      "Epoch 10/50\n",
      "20/20 [==============================] - 0s 2ms/step - loss: 0.5365 - accuracy: 0.7180\n",
      "Epoch 11/50\n",
      "20/20 [==============================] - 0s 2ms/step - loss: 0.5290 - accuracy: 0.7206\n",
      "Epoch 12/50\n",
      "20/20 [==============================] - 0s 2ms/step - loss: 0.5192 - accuracy: 0.7298\n",
      "Epoch 13/50\n",
      "20/20 [==============================] - 0s 2ms/step - loss: 0.5100 - accuracy: 0.7363\n",
      "Epoch 14/50\n",
      "20/20 [==============================] - 0s 2ms/step - loss: 0.5012 - accuracy: 0.7480\n",
      "Epoch 15/50\n",
      "20/20 [==============================] - 0s 1ms/step - loss: 0.4925 - accuracy: 0.7533\n",
      "Epoch 16/50\n",
      "20/20 [==============================] - 0s 2ms/step - loss: 0.4858 - accuracy: 0.7533\n",
      "Epoch 17/50\n",
      "20/20 [==============================] - 0s 3ms/step - loss: 0.4777 - accuracy: 0.7585\n",
      "Epoch 18/50\n",
      "20/20 [==============================] - 0s 2ms/step - loss: 0.4701 - accuracy: 0.7624\n",
      "Epoch 19/50\n",
      "20/20 [==============================] - 0s 2ms/step - loss: 0.4624 - accuracy: 0.7781\n",
      "Epoch 20/50\n",
      "20/20 [==============================] - 0s 2ms/step - loss: 0.4569 - accuracy: 0.7820\n",
      "Epoch 21/50\n",
      "20/20 [==============================] - 0s 2ms/step - loss: 0.4493 - accuracy: 0.7833\n",
      "Epoch 22/50\n",
      "20/20 [==============================] - 0s 2ms/step - loss: 0.4421 - accuracy: 0.7781\n",
      "Epoch 23/50\n",
      "20/20 [==============================] - 0s 2ms/step - loss: 0.4344 - accuracy: 0.7872\n",
      "Epoch 24/50\n",
      "20/20 [==============================] - 0s 2ms/step - loss: 0.4287 - accuracy: 0.7859\n",
      "Epoch 25/50\n",
      "20/20 [==============================] - 0s 2ms/step - loss: 0.4225 - accuracy: 0.7911\n",
      "Epoch 26/50\n",
      "20/20 [==============================] - 0s 1ms/step - loss: 0.4149 - accuracy: 0.7924\n",
      "Epoch 27/50\n",
      "20/20 [==============================] - 0s 2ms/step - loss: 0.4075 - accuracy: 0.7990\n",
      "Epoch 28/50\n",
      "20/20 [==============================] - 0s 2ms/step - loss: 0.4016 - accuracy: 0.8068\n",
      "Epoch 29/50\n",
      "20/20 [==============================] - 0s 2ms/step - loss: 0.3941 - accuracy: 0.8146\n",
      "Epoch 30/50\n",
      "20/20 [==============================] - 0s 2ms/step - loss: 0.3882 - accuracy: 0.8159\n",
      "Epoch 31/50\n",
      "20/20 [==============================] - 0s 2ms/step - loss: 0.3819 - accuracy: 0.8329\n",
      "Epoch 32/50\n",
      "20/20 [==============================] - 0s 2ms/step - loss: 0.3750 - accuracy: 0.8290\n",
      "Epoch 33/50\n",
      "20/20 [==============================] - 0s 2ms/step - loss: 0.3684 - accuracy: 0.8316\n",
      "Epoch 34/50\n",
      "20/20 [==============================] - 0s 2ms/step - loss: 0.3626 - accuracy: 0.8407\n",
      "Epoch 35/50\n",
      "20/20 [==============================] - 0s 2ms/step - loss: 0.3576 - accuracy: 0.8499\n",
      "Epoch 36/50\n",
      "20/20 [==============================] - 0s 3ms/step - loss: 0.3526 - accuracy: 0.8538\n",
      "Epoch 37/50\n",
      "20/20 [==============================] - 0s 2ms/step - loss: 0.3467 - accuracy: 0.8499\n",
      "Epoch 38/50\n",
      "20/20 [==============================] - 0s 2ms/step - loss: 0.3405 - accuracy: 0.8577\n",
      "Epoch 39/50\n",
      "20/20 [==============================] - 0s 2ms/step - loss: 0.3373 - accuracy: 0.8525\n",
      "Epoch 40/50\n",
      "20/20 [==============================] - 0s 2ms/step - loss: 0.3324 - accuracy: 0.8538\n",
      "Epoch 41/50\n",
      "20/20 [==============================] - 0s 2ms/step - loss: 0.3253 - accuracy: 0.8616\n",
      "Epoch 42/50\n",
      "20/20 [==============================] - 0s 2ms/step - loss: 0.3212 - accuracy: 0.8642\n",
      "Epoch 43/50\n",
      "20/20 [==============================] - 0s 1ms/step - loss: 0.3165 - accuracy: 0.8642\n",
      "Epoch 44/50\n",
      "20/20 [==============================] - 0s 1ms/step - loss: 0.3115 - accuracy: 0.8695\n",
      "Epoch 45/50\n",
      "20/20 [==============================] - 0s 1ms/step - loss: 0.3092 - accuracy: 0.8681\n",
      "Epoch 46/50\n",
      "20/20 [==============================] - 0s 2ms/step - loss: 0.3040 - accuracy: 0.8747\n",
      "Epoch 47/50\n",
      "20/20 [==============================] - 0s 1ms/step - loss: 0.3006 - accuracy: 0.8721\n",
      "Epoch 48/50\n",
      "20/20 [==============================] - 0s 1ms/step - loss: 0.2953 - accuracy: 0.8799\n",
      "Epoch 49/50\n",
      "20/20 [==============================] - 0s 1ms/step - loss: 0.2914 - accuracy: 0.8812\n",
      "Epoch 50/50\n",
      "20/20 [==============================] - 0s 1ms/step - loss: 0.2883 - accuracy: 0.8812\n",
      "6/6 [==============================] - 0s 2ms/step - loss: 0.3660 - accuracy: 0.8177\n"
     ]
    },
    {
     "data": {
      "text/plain": [
       "[0.36603081226348877, 0.8177083134651184]"
      ]
     },
     "execution_count": 43,
     "metadata": {},
     "output_type": "execute_result"
    }
   ],
   "source": [
    "# Build the model\n",
    "model = Sequential([ # as far as we know, all networks are sequential\n",
    "  Dense(18, activation='relu'),\n",
    "  Dense(18, activation='relu'),      # choosing relu instead of sigmoid, this is somewhat common\n",
    "  Dense(2, activation='softmax'),   # the softmax actiavation is the last one to compensate for the high volume additions\n",
    "])\n",
    "\n",
    "# Compile the model\n",
    "model.compile(\n",
    "  optimizer='adam', #here we could use stochastic gradient descent, but adam is a de facto standard\n",
    "  loss='categorical_crossentropy', #this is how we create the original blam to play the blame game\n",
    "  metrics=['accuracy'],\n",
    ")\n",
    "\n",
    "# Train the model\n",
    "history = model.fit(\n",
    "  X_train,\n",
    "  to_categorical(y_train), # just to make sure the outputs are not considered numeric (because, ya know, they are numbers...)\n",
    "  epochs=50, \n",
    "  batch_size=40,\n",
    ")\n",
    "\n",
    "# Evaluate the model\n",
    "model.evaluate(\n",
    "  X_test,\n",
    "  to_categorical(y_test)\n",
    ")"
   ]
  },
  {
   "cell_type": "markdown",
   "metadata": {},
   "source": [
    "## Step 3: Make Predictions\n",
    "\n",
    "Now load your saved model and use it to make predictions on a few random rows in the test dataset. Check if the predictions are correct."
   ]
  },
  {
   "cell_type": "code",
   "execution_count": 38,
   "metadata": {},
   "outputs": [
    {
     "name": "stdout",
     "output_type": "stream",
     "text": [
      "1/1 [==============================] - 0s 54ms/step\n",
      "[0 1 1 1 0]\n"
     ]
    }
   ],
   "source": [
    "# your code here\n",
    "predictions = model.predict(X_test[:5])\n",
    "\n",
    "# Print our model's predictions.\n",
    "print(np.argmax(predictions, axis=1)) "
   ]
  },
  {
   "cell_type": "markdown",
   "metadata": {},
   "source": [
    "## Step 4: Improve Your Model\n",
    "\n",
    "Did your model achieve low loss (<0.1) and high accuracy (>0.95)? If not, try to improve your model.\n",
    "\n",
    "But how? There are so many things you can play with in Tensorflow and in the next challenge you'll learn about these things. But in this challenge, let's just do a few things to see if they will help.\n",
    "\n",
    "* Add more layers to your model. If the data are complex you need more layers. But don't use more layers than you need. If adding more layers does not improve the model performance you don't need additional layers.\n",
    "* Adjust the learning rate when you compile the model. This means you will create a custom `tf.keras.optimizers.Adam` instance where you specify the learning rate you want. Then pass the instance to `model.compile` as the optimizer.\n",
    "    * `tf.keras.optimizers.Adam` [reference](https://www.tensorflow.org/api_docs/python/tf/keras/optimizers/Adam).\n",
    "    * Don't worry if you don't understand what the learning rate does. You'll learn about it in the next challenge.\n",
    "* Adjust the number of epochs when you fit the training data to the model. Your model performance continues to improve as you train more epochs. But eventually it will reach the ceiling and the performance will stay the same."
   ]
  },
  {
   "cell_type": "code",
   "execution_count": 44,
   "metadata": {},
   "outputs": [
    {
     "name": "stdout",
     "output_type": "stream",
     "text": [
      "Epoch 1/70\n",
      "20/20 [==============================] - 1s 2ms/step - loss: 0.6339 - accuracy: 0.6527\n",
      "Epoch 2/70\n",
      "20/20 [==============================] - 0s 1ms/step - loss: 0.6126 - accuracy: 0.6749\n",
      "Epoch 3/70\n",
      "20/20 [==============================] - 0s 2ms/step - loss: 0.5987 - accuracy: 0.6762\n",
      "Epoch 4/70\n",
      "20/20 [==============================] - 0s 2ms/step - loss: 0.5852 - accuracy: 0.6841\n",
      "Epoch 5/70\n",
      "20/20 [==============================] - 0s 1ms/step - loss: 0.5741 - accuracy: 0.6919\n",
      "Epoch 6/70\n",
      "20/20 [==============================] - 0s 2ms/step - loss: 0.5645 - accuracy: 0.6880\n",
      "Epoch 7/70\n",
      "20/20 [==============================] - 0s 2ms/step - loss: 0.5538 - accuracy: 0.7023\n",
      "Epoch 8/70\n",
      "20/20 [==============================] - 0s 2ms/step - loss: 0.5457 - accuracy: 0.7050\n",
      "Epoch 9/70\n",
      "20/20 [==============================] - 0s 2ms/step - loss: 0.5375 - accuracy: 0.7050\n",
      "Epoch 10/70\n",
      "20/20 [==============================] - 0s 2ms/step - loss: 0.5296 - accuracy: 0.7128\n",
      "Epoch 11/70\n",
      "20/20 [==============================] - 0s 2ms/step - loss: 0.5230 - accuracy: 0.7154\n",
      "Epoch 12/70\n",
      "20/20 [==============================] - 0s 2ms/step - loss: 0.5154 - accuracy: 0.7232\n",
      "Epoch 13/70\n",
      "20/20 [==============================] - 0s 2ms/step - loss: 0.5081 - accuracy: 0.7311\n",
      "Epoch 14/70\n",
      "20/20 [==============================] - 0s 2ms/step - loss: 0.5002 - accuracy: 0.7441\n",
      "Epoch 15/70\n",
      "20/20 [==============================] - 0s 2ms/step - loss: 0.4930 - accuracy: 0.7467\n",
      "Epoch 16/70\n",
      "20/20 [==============================] - 0s 2ms/step - loss: 0.4856 - accuracy: 0.7493\n",
      "Epoch 17/70\n",
      "20/20 [==============================] - 0s 2ms/step - loss: 0.4785 - accuracy: 0.7493\n",
      "Epoch 18/70\n",
      "20/20 [==============================] - 0s 1ms/step - loss: 0.4712 - accuracy: 0.7572\n",
      "Epoch 19/70\n",
      "20/20 [==============================] - 0s 1ms/step - loss: 0.4644 - accuracy: 0.7715\n",
      "Epoch 20/70\n",
      "20/20 [==============================] - 0s 1ms/step - loss: 0.4579 - accuracy: 0.7676\n",
      "Epoch 21/70\n",
      "20/20 [==============================] - 0s 2ms/step - loss: 0.4513 - accuracy: 0.7637\n",
      "Epoch 22/70\n",
      "20/20 [==============================] - 0s 1ms/step - loss: 0.4442 - accuracy: 0.7702\n",
      "Epoch 23/70\n",
      "20/20 [==============================] - 0s 1ms/step - loss: 0.4391 - accuracy: 0.7781\n",
      "Epoch 24/70\n",
      "20/20 [==============================] - 0s 1ms/step - loss: 0.4318 - accuracy: 0.7755\n",
      "Epoch 25/70\n",
      "20/20 [==============================] - 0s 2ms/step - loss: 0.4261 - accuracy: 0.7742\n",
      "Epoch 26/70\n",
      "20/20 [==============================] - 0s 1ms/step - loss: 0.4208 - accuracy: 0.7898\n",
      "Epoch 27/70\n",
      "20/20 [==============================] - 0s 2ms/step - loss: 0.4149 - accuracy: 0.7924\n",
      "Epoch 28/70\n",
      "20/20 [==============================] - 0s 1ms/step - loss: 0.4105 - accuracy: 0.7885\n",
      "Epoch 29/70\n",
      "20/20 [==============================] - 0s 1ms/step - loss: 0.4058 - accuracy: 0.8094\n",
      "Epoch 30/70\n",
      "20/20 [==============================] - 0s 2ms/step - loss: 0.4017 - accuracy: 0.8042\n",
      "Epoch 31/70\n",
      "20/20 [==============================] - 0s 2ms/step - loss: 0.3962 - accuracy: 0.8107\n",
      "Epoch 32/70\n",
      "20/20 [==============================] - 0s 1ms/step - loss: 0.3924 - accuracy: 0.8211\n",
      "Epoch 33/70\n",
      "20/20 [==============================] - 0s 1ms/step - loss: 0.3882 - accuracy: 0.8251\n",
      "Epoch 34/70\n",
      "20/20 [==============================] - 0s 1ms/step - loss: 0.3838 - accuracy: 0.8251\n",
      "Epoch 35/70\n",
      "20/20 [==============================] - 0s 1ms/step - loss: 0.3823 - accuracy: 0.8159\n",
      "Epoch 36/70\n",
      "20/20 [==============================] - 0s 1ms/step - loss: 0.3762 - accuracy: 0.8251\n",
      "Epoch 37/70\n",
      "20/20 [==============================] - 0s 2ms/step - loss: 0.3725 - accuracy: 0.8251\n",
      "Epoch 38/70\n",
      "20/20 [==============================] - 0s 2ms/step - loss: 0.3686 - accuracy: 0.8264\n",
      "Epoch 39/70\n",
      "20/20 [==============================] - 0s 2ms/step - loss: 0.3655 - accuracy: 0.8277\n",
      "Epoch 40/70\n",
      "20/20 [==============================] - 0s 2ms/step - loss: 0.3616 - accuracy: 0.8342\n",
      "Epoch 41/70\n",
      "20/20 [==============================] - 0s 2ms/step - loss: 0.3572 - accuracy: 0.8290\n",
      "Epoch 42/70\n",
      "20/20 [==============================] - 0s 2ms/step - loss: 0.3530 - accuracy: 0.8303\n",
      "Epoch 43/70\n",
      "20/20 [==============================] - 0s 1ms/step - loss: 0.3501 - accuracy: 0.8264\n",
      "Epoch 44/70\n",
      "20/20 [==============================] - 0s 1ms/step - loss: 0.3455 - accuracy: 0.8433\n",
      "Epoch 45/70\n",
      "20/20 [==============================] - 0s 1ms/step - loss: 0.3419 - accuracy: 0.8420\n",
      "Epoch 46/70\n",
      "20/20 [==============================] - 0s 1ms/step - loss: 0.3375 - accuracy: 0.8446\n",
      "Epoch 47/70\n",
      "20/20 [==============================] - 0s 2ms/step - loss: 0.3354 - accuracy: 0.8486\n",
      "Epoch 48/70\n",
      "20/20 [==============================] - 0s 1ms/step - loss: 0.3343 - accuracy: 0.8538\n",
      "Epoch 49/70\n",
      "20/20 [==============================] - 0s 1ms/step - loss: 0.3282 - accuracy: 0.8486\n",
      "Epoch 50/70\n",
      "20/20 [==============================] - 0s 1ms/step - loss: 0.3260 - accuracy: 0.8433\n",
      "Epoch 51/70\n",
      "20/20 [==============================] - 0s 1ms/step - loss: 0.3211 - accuracy: 0.8407\n",
      "Epoch 52/70\n",
      "20/20 [==============================] - 0s 1ms/step - loss: 0.3180 - accuracy: 0.8590\n",
      "Epoch 53/70\n",
      "20/20 [==============================] - 0s 2ms/step - loss: 0.3147 - accuracy: 0.8603\n",
      "Epoch 54/70\n",
      "20/20 [==============================] - 0s 1ms/step - loss: 0.3120 - accuracy: 0.8564\n",
      "Epoch 55/70\n",
      "20/20 [==============================] - 0s 1ms/step - loss: 0.3094 - accuracy: 0.8590\n",
      "Epoch 56/70\n",
      "20/20 [==============================] - 0s 1ms/step - loss: 0.3054 - accuracy: 0.8668\n",
      "Epoch 57/70\n",
      "20/20 [==============================] - 0s 2ms/step - loss: 0.3033 - accuracy: 0.8642\n",
      "Epoch 58/70\n",
      "20/20 [==============================] - 0s 2ms/step - loss: 0.2999 - accuracy: 0.8603\n",
      "Epoch 59/70\n",
      "20/20 [==============================] - 0s 2ms/step - loss: 0.2987 - accuracy: 0.8629\n",
      "Epoch 60/70\n",
      "20/20 [==============================] - 0s 2ms/step - loss: 0.2937 - accuracy: 0.8695\n",
      "Epoch 61/70\n",
      "20/20 [==============================] - 0s 2ms/step - loss: 0.2911 - accuracy: 0.8695\n",
      "Epoch 62/70\n",
      "20/20 [==============================] - 0s 1ms/step - loss: 0.2874 - accuracy: 0.8708\n",
      "Epoch 63/70\n",
      "20/20 [==============================] - 0s 2ms/step - loss: 0.2851 - accuracy: 0.8695\n",
      "Epoch 64/70\n",
      "20/20 [==============================] - 0s 2ms/step - loss: 0.2820 - accuracy: 0.8695\n",
      "Epoch 65/70\n",
      "20/20 [==============================] - 0s 1ms/step - loss: 0.2784 - accuracy: 0.8747\n",
      "Epoch 66/70\n",
      "20/20 [==============================] - 0s 1ms/step - loss: 0.2767 - accuracy: 0.8786\n",
      "Epoch 67/70\n",
      "20/20 [==============================] - 0s 2ms/step - loss: 0.2731 - accuracy: 0.8825\n",
      "Epoch 68/70\n",
      "20/20 [==============================] - 0s 2ms/step - loss: 0.2691 - accuracy: 0.8812\n",
      "Epoch 69/70\n",
      "20/20 [==============================] - 0s 2ms/step - loss: 0.2683 - accuracy: 0.8734\n",
      "Epoch 70/70\n",
      "20/20 [==============================] - 0s 2ms/step - loss: 0.2648 - accuracy: 0.8930\n",
      "6/6 [==============================] - 0s 2ms/step - loss: 0.4172 - accuracy: 0.7760\n"
     ]
    },
    {
     "data": {
      "text/plain": [
       "[0.4171563684940338, 0.7760416865348816]"
      ]
     },
     "execution_count": 44,
     "metadata": {},
     "output_type": "execute_result"
    }
   ],
   "source": [
    "# Yes. It had High loss and low accuracy...\n",
    "\n",
    "# Build the model\n",
    "model = Sequential([ # as far as we know, all networks are sequential\n",
    "  Dense(18, activation='relu'),\n",
    "  Dense(18, activation='relu'),      # choosing relu instead of sigmoid, this is somewhat common\n",
    "  Dense(2, activation='softmax'),   # the softmax actiavation is the last one to compensate for the high volume additions\n",
    "])\n",
    "\n",
    "# Compile the model\n",
    "model.compile(\n",
    "  optimizer='adam', #here we could use stochastic gradient descent, but adam is a de facto standard\n",
    "  loss='categorical_crossentropy', #this is how we create the original blam to play the blame game\n",
    "  metrics=['accuracy'],\n",
    ")\n",
    "\n",
    "# Train the model  --  ADD MORE LAYERS\n",
    "history = model.fit(\n",
    "  X_train,\n",
    "  to_categorical(y_train), # just to make sure the outputs are not considered numeric (because, ya know, they are numbers...)\n",
    "  epochs=70, \n",
    "  batch_size=40,\n",
    ")\n",
    "\n",
    "# Evaluate the model\n",
    "model.evaluate(\n",
    "  X_test,\n",
    "  to_categorical(y_test)\n",
    ")"
   ]
  },
  {
   "cell_type": "code",
   "execution_count": null,
   "metadata": {},
   "outputs": [],
   "source": [
    "#It improves but not that much ... how could I fix it?"
   ]
  },
  {
   "cell_type": "markdown",
   "metadata": {},
   "source": [
    "**Which approach(es) did you find helpful to improve your model performance?**"
   ]
  },
  {
   "cell_type": "code",
   "execution_count": 9,
   "metadata": {},
   "outputs": [],
   "source": [
    "# your answer here"
   ]
  }
 ],
 "metadata": {
  "kernelspec": {
   "display_name": "Python 3 (ipykernel)",
   "language": "python",
   "name": "python3"
  },
  "language_info": {
   "codemirror_mode": {
    "name": "ipython",
    "version": 3
   },
   "file_extension": ".py",
   "mimetype": "text/x-python",
   "name": "python",
   "nbconvert_exporter": "python",
   "pygments_lexer": "ipython3",
   "version": "3.9.12"
  }
 },
 "nbformat": 4,
 "nbformat_minor": 2
}
