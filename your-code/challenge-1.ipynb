{
 "cells": [
  {
   "cell_type": "markdown",
   "metadata": {},
   "source": [
    "# Challenge 1 - Tic Tac Toe\n",
    "\n",
    "In this lab you will perform deep learning analysis on a dataset of playing [Tic Tac Toe](https://en.wikipedia.org/wiki/Tic-tac-toe).\n",
    "\n",
    "There are 9 grids in Tic Tac Toe that are coded as the following picture shows:\n",
    "\n",
    "![Tic Tac Toe Grids](tttboard.jpg)\n",
    "\n",
    "In the first 9 columns of the dataset you can find which marks (`x` or `o`) exist in the grids. If there is no mark in a certain grid, it is labeled as `b`. The last column is `class` which tells you whether Player X (who always moves first in Tic Tac Toe) wins in this configuration. Note that when `class` has the value `False`, it means either Player O wins the game or it ends up as a draw."
   ]
  },
  {
   "cell_type": "markdown",
   "metadata": {},
   "source": [
    "Follow the steps suggested below to conduct a neural network analysis using Tensorflow and Keras. You will build a deep learning model to predict whether Player X wins the game or not.\n",
    "\n",
    "## Step 1: Data Engineering\n",
    "\n",
    "This dataset is almost in the ready-to-use state so you do not need to worry about missing values and so on. Still, some simple data engineering is needed.\n",
    "\n",
    "1. Read `tic-tac-toe.csv` into a dataframe.\n",
    "1. Inspect the dataset. Determine if the dataset is reliable by eyeballing the data.\n",
    "1. Convert the categorical values to numeric in all columns.\n",
    "1. Separate the inputs and output.\n",
    "1. Normalize the input data."
   ]
  },
  {
   "cell_type": "code",
   "execution_count": 3,
   "metadata": {},
   "outputs": [
    {
     "data": {
      "text/html": [
       "<div>\n",
       "<style scoped>\n",
       "    .dataframe tbody tr th:only-of-type {\n",
       "        vertical-align: middle;\n",
       "    }\n",
       "\n",
       "    .dataframe tbody tr th {\n",
       "        vertical-align: top;\n",
       "    }\n",
       "\n",
       "    .dataframe thead th {\n",
       "        text-align: right;\n",
       "    }\n",
       "</style>\n",
       "<table border=\"1\" class=\"dataframe\">\n",
       "  <thead>\n",
       "    <tr style=\"text-align: right;\">\n",
       "      <th></th>\n",
       "      <th>TL</th>\n",
       "      <th>TM</th>\n",
       "      <th>TR</th>\n",
       "      <th>ML</th>\n",
       "      <th>MM</th>\n",
       "      <th>MR</th>\n",
       "      <th>BL</th>\n",
       "      <th>BM</th>\n",
       "      <th>BR</th>\n",
       "      <th>class</th>\n",
       "    </tr>\n",
       "  </thead>\n",
       "  <tbody>\n",
       "    <tr>\n",
       "      <th>0</th>\n",
       "      <td>x</td>\n",
       "      <td>x</td>\n",
       "      <td>x</td>\n",
       "      <td>x</td>\n",
       "      <td>o</td>\n",
       "      <td>o</td>\n",
       "      <td>x</td>\n",
       "      <td>o</td>\n",
       "      <td>o</td>\n",
       "      <td>True</td>\n",
       "    </tr>\n",
       "    <tr>\n",
       "      <th>1</th>\n",
       "      <td>x</td>\n",
       "      <td>x</td>\n",
       "      <td>x</td>\n",
       "      <td>x</td>\n",
       "      <td>o</td>\n",
       "      <td>o</td>\n",
       "      <td>o</td>\n",
       "      <td>x</td>\n",
       "      <td>o</td>\n",
       "      <td>True</td>\n",
       "    </tr>\n",
       "    <tr>\n",
       "      <th>2</th>\n",
       "      <td>x</td>\n",
       "      <td>x</td>\n",
       "      <td>x</td>\n",
       "      <td>x</td>\n",
       "      <td>o</td>\n",
       "      <td>o</td>\n",
       "      <td>o</td>\n",
       "      <td>o</td>\n",
       "      <td>x</td>\n",
       "      <td>True</td>\n",
       "    </tr>\n",
       "    <tr>\n",
       "      <th>3</th>\n",
       "      <td>x</td>\n",
       "      <td>x</td>\n",
       "      <td>x</td>\n",
       "      <td>x</td>\n",
       "      <td>o</td>\n",
       "      <td>o</td>\n",
       "      <td>o</td>\n",
       "      <td>b</td>\n",
       "      <td>b</td>\n",
       "      <td>True</td>\n",
       "    </tr>\n",
       "    <tr>\n",
       "      <th>4</th>\n",
       "      <td>x</td>\n",
       "      <td>x</td>\n",
       "      <td>x</td>\n",
       "      <td>x</td>\n",
       "      <td>o</td>\n",
       "      <td>o</td>\n",
       "      <td>b</td>\n",
       "      <td>o</td>\n",
       "      <td>b</td>\n",
       "      <td>True</td>\n",
       "    </tr>\n",
       "  </tbody>\n",
       "</table>\n",
       "</div>"
      ],
      "text/plain": [
       "  TL TM TR ML MM MR BL BM BR  class\n",
       "0  x  x  x  x  o  o  x  o  o   True\n",
       "1  x  x  x  x  o  o  o  x  o   True\n",
       "2  x  x  x  x  o  o  o  o  x   True\n",
       "3  x  x  x  x  o  o  o  b  b   True\n",
       "4  x  x  x  x  o  o  b  o  b   True"
      ]
     },
     "execution_count": 3,
     "metadata": {},
     "output_type": "execute_result"
    }
   ],
   "source": [
    "import pandas as pd \n",
    "import numpy as np\n",
    "\n",
    "df = pd.read_csv(\"C:\\\\Users\\\\David Santos\\\\Desktop\\\\Labs longos\\\\lab-deep-learning\\\\your-code\\\\tic-tac-toe.csv\")\n",
    "\n",
    "df.head()"
   ]
  },
  {
   "cell_type": "code",
   "execution_count": 4,
   "metadata": {},
   "outputs": [
    {
     "data": {
      "text/plain": [
       "TL       0\n",
       "TM       0\n",
       "TR       0\n",
       "ML       0\n",
       "MM       0\n",
       "MR       0\n",
       "BL       0\n",
       "BM       0\n",
       "BR       0\n",
       "class    0\n",
       "dtype: int64"
      ]
     },
     "execution_count": 4,
     "metadata": {},
     "output_type": "execute_result"
    }
   ],
   "source": [
    "df.isnull().sum()"
   ]
  },
  {
   "cell_type": "code",
   "execution_count": 5,
   "metadata": {},
   "outputs": [
    {
     "data": {
      "text/html": [
       "<div>\n",
       "<style scoped>\n",
       "    .dataframe tbody tr th:only-of-type {\n",
       "        vertical-align: middle;\n",
       "    }\n",
       "\n",
       "    .dataframe tbody tr th {\n",
       "        vertical-align: top;\n",
       "    }\n",
       "\n",
       "    .dataframe thead th {\n",
       "        text-align: right;\n",
       "    }\n",
       "</style>\n",
       "<table border=\"1\" class=\"dataframe\">\n",
       "  <thead>\n",
       "    <tr style=\"text-align: right;\">\n",
       "      <th></th>\n",
       "      <th>TL</th>\n",
       "      <th>TM</th>\n",
       "      <th>TR</th>\n",
       "      <th>ML</th>\n",
       "      <th>MM</th>\n",
       "      <th>MR</th>\n",
       "      <th>BL</th>\n",
       "      <th>BM</th>\n",
       "      <th>BR</th>\n",
       "      <th>class</th>\n",
       "    </tr>\n",
       "  </thead>\n",
       "  <tbody>\n",
       "    <tr>\n",
       "      <th>count</th>\n",
       "      <td>958</td>\n",
       "      <td>958</td>\n",
       "      <td>958</td>\n",
       "      <td>958</td>\n",
       "      <td>958</td>\n",
       "      <td>958</td>\n",
       "      <td>958</td>\n",
       "      <td>958</td>\n",
       "      <td>958</td>\n",
       "      <td>958</td>\n",
       "    </tr>\n",
       "    <tr>\n",
       "      <th>unique</th>\n",
       "      <td>3</td>\n",
       "      <td>3</td>\n",
       "      <td>3</td>\n",
       "      <td>3</td>\n",
       "      <td>3</td>\n",
       "      <td>3</td>\n",
       "      <td>3</td>\n",
       "      <td>3</td>\n",
       "      <td>3</td>\n",
       "      <td>2</td>\n",
       "    </tr>\n",
       "    <tr>\n",
       "      <th>top</th>\n",
       "      <td>x</td>\n",
       "      <td>x</td>\n",
       "      <td>x</td>\n",
       "      <td>x</td>\n",
       "      <td>x</td>\n",
       "      <td>x</td>\n",
       "      <td>x</td>\n",
       "      <td>x</td>\n",
       "      <td>x</td>\n",
       "      <td>True</td>\n",
       "    </tr>\n",
       "    <tr>\n",
       "      <th>freq</th>\n",
       "      <td>418</td>\n",
       "      <td>378</td>\n",
       "      <td>418</td>\n",
       "      <td>378</td>\n",
       "      <td>458</td>\n",
       "      <td>378</td>\n",
       "      <td>418</td>\n",
       "      <td>378</td>\n",
       "      <td>418</td>\n",
       "      <td>626</td>\n",
       "    </tr>\n",
       "  </tbody>\n",
       "</table>\n",
       "</div>"
      ],
      "text/plain": [
       "         TL   TM   TR   ML   MM   MR   BL   BM   BR class\n",
       "count   958  958  958  958  958  958  958  958  958   958\n",
       "unique    3    3    3    3    3    3    3    3    3     2\n",
       "top       x    x    x    x    x    x    x    x    x  True\n",
       "freq    418  378  418  378  458  378  418  378  418   626"
      ]
     },
     "execution_count": 5,
     "metadata": {},
     "output_type": "execute_result"
    }
   ],
   "source": [
    "df.describe()"
   ]
  },
  {
   "cell_type": "code",
   "execution_count": 23,
   "metadata": {},
   "outputs": [
    {
     "name": "stdout",
     "output_type": "stream",
     "text": [
      "TL       object\n",
      "TM       object\n",
      "TR       object\n",
      "ML       object\n",
      "MM       object\n",
      "MR       object\n",
      "BL       object\n",
      "BM       object\n",
      "BR       object\n",
      "class      bool\n",
      "dtype: object\n"
     ]
    }
   ],
   "source": [
    "data_types = df.dtypes\n",
    "print(data_types)"
   ]
  },
  {
   "cell_type": "markdown",
   "metadata": {},
   "source": [
    "## Step 2: Build Neural Network\n",
    "\n",
    "To build the neural network, you can refer to your own codes you wrote while following the [Deep Learning with Python, TensorFlow, and Keras tutorial](https://www.youtube.com/watch?v=wQ8BIBpya2k) in the lesson. It's pretty similar to what you will be doing in this lab.\n",
    "\n",
    "1. Split the training and test data.\n",
    "1. Create a `Sequential` model.\n",
    "1. Add several layers to your model. Make sure you use ReLU as the activation function for the middle layers. Use Softmax for the output layer because each output has a single lable and all the label probabilities add up to 1.\n",
    "1. Compile the model using `adam` as the optimizer and `sparse_categorical_crossentropy` as the loss function. For metrics, use `accuracy` for now.\n",
    "1. Fit the training data.\n",
    "1. Evaluate your neural network model with the test data.\n",
    "1. Save your model as `tic-tac-toe.model`."
   ]
  },
  {
   "cell_type": "code",
   "execution_count": 33,
   "metadata": {},
   "outputs": [],
   "source": [
    "import tensorflow as tf \n",
    "from tensorflow import keras \n",
    "from sklearn.model_selection import train_test_split\n",
    "from sklearn.preprocessing import StandardScaler"
   ]
  },
  {
   "cell_type": "code",
   "execution_count": 7,
   "metadata": {},
   "outputs": [
    {
     "name": "stdout",
     "output_type": "stream",
     "text": [
      "Collecting tensorflow\n",
      "  Downloading tensorflow-2.13.0-cp310-cp310-win_amd64.whl (1.9 kB)\n",
      "Collecting tensorflow-intel==2.13.0\n",
      "  Downloading tensorflow_intel-2.13.0-cp310-cp310-win_amd64.whl (276.5 MB)\n",
      "     -------------------------------------- 276.5/276.5 MB 3.8 MB/s eta 0:00:00\n",
      "Collecting grpcio<2.0,>=1.24.3\n",
      "  Downloading grpcio-1.58.0-cp310-cp310-win_amd64.whl (4.3 MB)\n",
      "     ---------------------------------------- 4.3/4.3 MB 19.5 MB/s eta 0:00:00\n",
      "Requirement already satisfied: six>=1.12.0 in c:\\users\\david santos\\anaconda3\\lib\\site-packages (from tensorflow-intel==2.13.0->tensorflow) (1.16.0)\n",
      "Requirement already satisfied: h5py>=2.9.0 in c:\\users\\david santos\\anaconda3\\lib\\site-packages (from tensorflow-intel==2.13.0->tensorflow) (3.7.0)\n",
      "Collecting astunparse>=1.6.0\n",
      "  Downloading astunparse-1.6.3-py2.py3-none-any.whl (12 kB)\n",
      "Collecting google-pasta>=0.1.1\n",
      "  Downloading google_pasta-0.2.0-py3-none-any.whl (57 kB)\n",
      "     ---------------------------------------- 57.5/57.5 kB 3.0 MB/s eta 0:00:00\n",
      "Requirement already satisfied: wrapt>=1.11.0 in c:\\users\\david santos\\anaconda3\\lib\\site-packages (from tensorflow-intel==2.13.0->tensorflow) (1.14.1)\n",
      "Collecting tensorflow-estimator<2.14,>=2.13.0\n",
      "  Downloading tensorflow_estimator-2.13.0-py2.py3-none-any.whl (440 kB)\n",
      "     -------------------------------------- 440.8/440.8 kB 5.5 MB/s eta 0:00:00\n",
      "Requirement already satisfied: setuptools in c:\\users\\david santos\\anaconda3\\lib\\site-packages (from tensorflow-intel==2.13.0->tensorflow) (65.6.3)\n",
      "Collecting flatbuffers>=23.1.21\n",
      "  Downloading flatbuffers-23.5.26-py2.py3-none-any.whl (26 kB)\n",
      "Collecting termcolor>=1.1.0\n",
      "  Downloading termcolor-2.3.0-py3-none-any.whl (6.9 kB)\n",
      "Requirement already satisfied: packaging in c:\\users\\david santos\\anaconda3\\lib\\site-packages (from tensorflow-intel==2.13.0->tensorflow) (22.0)\n",
      "Collecting opt-einsum>=2.3.2\n",
      "  Downloading opt_einsum-3.3.0-py3-none-any.whl (65 kB)\n",
      "     ---------------------------------------- 65.5/65.5 kB 1.8 MB/s eta 0:00:00\n",
      "Collecting keras<2.14,>=2.13.1\n",
      "  Downloading keras-2.13.1-py3-none-any.whl (1.7 MB)\n",
      "     ---------------------------------------- 1.7/1.7 MB 9.8 MB/s eta 0:00:00\n",
      "Collecting libclang>=13.0.0\n",
      "  Downloading libclang-16.0.6-py2.py3-none-win_amd64.whl (24.4 MB)\n",
      "     --------------------------------------- 24.4/24.4 MB 19.8 MB/s eta 0:00:00\n",
      "Collecting tensorboard<2.14,>=2.13\n",
      "  Downloading tensorboard-2.13.0-py3-none-any.whl (5.6 MB)\n",
      "     ---------------------------------------- 5.6/5.6 MB 19.7 MB/s eta 0:00:00\n",
      "Collecting absl-py>=1.0.0\n",
      "  Downloading absl_py-1.4.0-py3-none-any.whl (126 kB)\n",
      "     -------------------------------------- 126.5/126.5 kB 7.8 MB/s eta 0:00:00\n",
      "Requirement already satisfied: numpy<=1.24.3,>=1.22 in c:\\users\\david santos\\anaconda3\\lib\\site-packages (from tensorflow-intel==2.13.0->tensorflow) (1.23.5)\n",
      "Collecting tensorflow-io-gcs-filesystem>=0.23.1\n",
      "  Downloading tensorflow_io_gcs_filesystem-0.31.0-cp310-cp310-win_amd64.whl (1.5 MB)\n",
      "     ---------------------------------------- 1.5/1.5 MB 18.9 MB/s eta 0:00:00\n",
      "Requirement already satisfied: typing-extensions<4.6.0,>=3.6.6 in c:\\users\\david santos\\anaconda3\\lib\\site-packages (from tensorflow-intel==2.13.0->tensorflow) (4.4.0)\n",
      "Collecting gast<=0.4.0,>=0.2.1\n",
      "  Downloading gast-0.4.0-py3-none-any.whl (9.8 kB)\n",
      "Requirement already satisfied: protobuf!=4.21.0,!=4.21.1,!=4.21.2,!=4.21.3,!=4.21.4,!=4.21.5,<5.0.0dev,>=3.20.3 in c:\\users\\david santos\\anaconda3\\lib\\site-packages (from tensorflow-intel==2.13.0->tensorflow) (3.20.3)\n",
      "Requirement already satisfied: wheel<1.0,>=0.23.0 in c:\\users\\david santos\\anaconda3\\lib\\site-packages (from astunparse>=1.6.0->tensorflow-intel==2.13.0->tensorflow) (0.38.4)\n",
      "Requirement already satisfied: requests<3,>=2.21.0 in c:\\users\\david santos\\anaconda3\\lib\\site-packages (from tensorboard<2.14,>=2.13->tensorflow-intel==2.13.0->tensorflow) (2.28.1)\n",
      "Collecting google-auth-oauthlib<1.1,>=0.5\n",
      "  Downloading google_auth_oauthlib-1.0.0-py2.py3-none-any.whl (18 kB)\n",
      "Collecting tensorboard-data-server<0.8.0,>=0.7.0\n",
      "  Downloading tensorboard_data_server-0.7.1-py3-none-any.whl (2.4 kB)\n",
      "Requirement already satisfied: markdown>=2.6.8 in c:\\users\\david santos\\anaconda3\\lib\\site-packages (from tensorboard<2.14,>=2.13->tensorflow-intel==2.13.0->tensorflow) (3.4.1)\n",
      "Collecting google-auth<3,>=1.6.3\n",
      "  Downloading google_auth-2.23.0-py2.py3-none-any.whl (181 kB)\n",
      "     -------------------------------------- 181.4/181.4 kB 1.4 MB/s eta 0:00:00\n",
      "Requirement already satisfied: werkzeug>=1.0.1 in c:\\users\\david santos\\anaconda3\\lib\\site-packages (from tensorboard<2.14,>=2.13->tensorflow-intel==2.13.0->tensorflow) (2.2.2)\n",
      "Collecting rsa<5,>=3.1.4\n",
      "  Downloading rsa-4.9-py3-none-any.whl (34 kB)\n",
      "Requirement already satisfied: pyasn1-modules>=0.2.1 in c:\\users\\david santos\\anaconda3\\lib\\site-packages (from google-auth<3,>=1.6.3->tensorboard<2.14,>=2.13->tensorflow-intel==2.13.0->tensorflow) (0.2.8)\n",
      "Requirement already satisfied: cachetools<6.0,>=2.0.0 in c:\\users\\david santos\\anaconda3\\lib\\site-packages (from google-auth<3,>=1.6.3->tensorboard<2.14,>=2.13->tensorflow-intel==2.13.0->tensorflow) (5.3.1)\n",
      "Requirement already satisfied: urllib3<2.0 in c:\\users\\david santos\\anaconda3\\lib\\site-packages (from google-auth<3,>=1.6.3->tensorboard<2.14,>=2.13->tensorflow-intel==2.13.0->tensorflow) (1.26.14)\n",
      "Collecting requests-oauthlib>=0.7.0\n",
      "  Downloading requests_oauthlib-1.3.1-py2.py3-none-any.whl (23 kB)\n",
      "Requirement already satisfied: idna<4,>=2.5 in c:\\users\\david santos\\anaconda3\\lib\\site-packages (from requests<3,>=2.21.0->tensorboard<2.14,>=2.13->tensorflow-intel==2.13.0->tensorflow) (3.4)\n",
      "Requirement already satisfied: charset-normalizer<3,>=2 in c:\\users\\david santos\\anaconda3\\lib\\site-packages (from requests<3,>=2.21.0->tensorboard<2.14,>=2.13->tensorflow-intel==2.13.0->tensorflow) (2.0.4)\n",
      "Requirement already satisfied: certifi>=2017.4.17 in c:\\users\\david santos\\anaconda3\\lib\\site-packages (from requests<3,>=2.21.0->tensorboard<2.14,>=2.13->tensorflow-intel==2.13.0->tensorflow) (2022.12.7)\n",
      "Requirement already satisfied: MarkupSafe>=2.1.1 in c:\\users\\david santos\\anaconda3\\lib\\site-packages (from werkzeug>=1.0.1->tensorboard<2.14,>=2.13->tensorflow-intel==2.13.0->tensorflow) (2.1.1)\n",
      "Requirement already satisfied: pyasn1<0.5.0,>=0.4.6 in c:\\users\\david santos\\anaconda3\\lib\\site-packages (from pyasn1-modules>=0.2.1->google-auth<3,>=1.6.3->tensorboard<2.14,>=2.13->tensorflow-intel==2.13.0->tensorflow) (0.4.8)\n",
      "Collecting oauthlib>=3.0.0\n",
      "  Downloading oauthlib-3.2.2-py3-none-any.whl (151 kB)\n",
      "     ---------------------------------------- 151.7/151.7 kB ? eta 0:00:00\n",
      "Installing collected packages: libclang, flatbuffers, termcolor, tensorflow-io-gcs-filesystem, tensorflow-estimator, tensorboard-data-server, rsa, opt-einsum, oauthlib, keras, grpcio, google-pasta, gast, astunparse, absl-py, requests-oauthlib, google-auth, google-auth-oauthlib, tensorboard, tensorflow-intel, tensorflow\n",
      "Successfully installed absl-py-1.4.0 astunparse-1.6.3 flatbuffers-23.5.26 gast-0.4.0 google-auth-2.23.0 google-auth-oauthlib-1.0.0 google-pasta-0.2.0 grpcio-1.58.0 keras-2.13.1 libclang-16.0.6 oauthlib-3.2.2 opt-einsum-3.3.0 requests-oauthlib-1.3.1 rsa-4.9 tensorboard-2.13.0 tensorboard-data-server-0.7.1 tensorflow-2.13.0 tensorflow-estimator-2.13.0 tensorflow-intel-2.13.0 tensorflow-io-gcs-filesystem-0.31.0 termcolor-2.3.0\n",
      "Note: you may need to restart the kernel to use updated packages.\n"
     ]
    },
    {
     "name": "stderr",
     "output_type": "stream",
     "text": [
      "WARNING: Ignoring invalid distribution -ysql-connector-python (c:\\users\\david santos\\anaconda3\\lib\\site-packages)\n",
      "WARNING: Ignoring invalid distribution -ysql-connector-python (c:\\users\\david santos\\anaconda3\\lib\\site-packages)\n",
      "WARNING: Ignoring invalid distribution -ysql-connector-python (c:\\users\\david santos\\anaconda3\\lib\\site-packages)\n",
      "WARNING: Ignoring invalid distribution -ysql-connector-python (c:\\users\\david santos\\anaconda3\\lib\\site-packages)\n",
      "WARNING: Ignoring invalid distribution -ysql-connector-python (c:\\users\\david santos\\anaconda3\\lib\\site-packages)\n",
      "WARNING: Ignoring invalid distribution -ysql-connector-python (c:\\users\\david santos\\anaconda3\\lib\\site-packages)\n",
      "WARNING: Ignoring invalid distribution -ysql-connector-python (c:\\users\\david santos\\anaconda3\\lib\\site-packages)\n",
      "WARNING: Ignoring invalid distribution -ysql-connector-python (c:\\users\\david santos\\anaconda3\\lib\\site-packages)\n",
      "WARNING: Ignoring invalid distribution -ysql-connector-python (c:\\users\\david santos\\anaconda3\\lib\\site-packages)\n",
      "WARNING: Ignoring invalid distribution -ysql-connector-python (c:\\users\\david santos\\anaconda3\\lib\\site-packages)\n",
      "WARNING: Ignoring invalid distribution -ysql-connector-python (c:\\users\\david santos\\anaconda3\\lib\\site-packages)\n",
      "WARNING: Ignoring invalid distribution -ysql-connector-python (c:\\users\\david santos\\anaconda3\\lib\\site-packages)\n",
      "WARNING: Ignoring invalid distribution -ysql-connector-python (c:\\users\\david santos\\anaconda3\\lib\\site-packages)\n",
      "WARNING: Ignoring invalid distribution -ysql-connector-python (c:\\users\\david santos\\anaconda3\\lib\\site-packages)\n",
      "WARNING: Ignoring invalid distribution -ysql-connector-python (c:\\users\\david santos\\anaconda3\\lib\\site-packages)\n",
      "WARNING: Ignoring invalid distribution -ysql-connector-python (c:\\users\\david santos\\anaconda3\\lib\\site-packages)\n",
      "WARNING: Ignoring invalid distribution -ysql-connector-python (c:\\users\\david santos\\anaconda3\\lib\\site-packages)\n",
      "WARNING: Ignoring invalid distribution -ysql-connector-python (c:\\users\\david santos\\anaconda3\\lib\\site-packages)\n",
      "WARNING: Ignoring invalid distribution -ysql-connector-python (c:\\users\\david santos\\anaconda3\\lib\\site-packages)\n",
      "WARNING: Ignoring invalid distribution -ysql-connector-python (c:\\users\\david santos\\anaconda3\\lib\\site-packages)\n",
      "WARNING: Ignoring invalid distribution -ysql-connector-python (c:\\users\\david santos\\anaconda3\\lib\\site-packages)\n",
      "WARNING: Ignoring invalid distribution -ysql-connector-python (c:\\users\\david santos\\anaconda3\\lib\\site-packages)\n",
      "WARNING: Ignoring invalid distribution -ysql-connector-python (c:\\users\\david santos\\anaconda3\\lib\\site-packages)\n",
      "WARNING: Ignoring invalid distribution -ysql-connector-python (c:\\users\\david santos\\anaconda3\\lib\\site-packages)\n",
      "WARNING: Ignoring invalid distribution -ysql-connector-python (c:\\users\\david santos\\anaconda3\\lib\\site-packages)\n",
      "WARNING: Ignoring invalid distribution -ysql-connector-python (c:\\users\\david santos\\anaconda3\\lib\\site-packages)\n",
      "WARNING: Ignoring invalid distribution -ysql-connector-python (c:\\users\\david santos\\anaconda3\\lib\\site-packages)\n"
     ]
    }
   ],
   "source": [
    "pip install tensorflow"
   ]
  },
  {
   "cell_type": "code",
   "execution_count": 17,
   "metadata": {},
   "outputs": [],
   "source": [
    "# Convert categorical columns to one-hot encoded form\n",
    "X_train_encoded = pd.get_dummies(X_train, columns=['TL', 'TM', 'TR', 'ML', 'MM', 'MR', 'BL', 'BM', 'BR'])\n",
    "X_test_encoded = pd.get_dummies(X_test, columns=['TL', 'TM', 'TR', 'ML', 'MM', 'MR', 'BL', 'BM', 'BR'])\n",
    "\n",
    "# Now you can proceed with StandardScaler\n",
    "scaler = StandardScaler()\n",
    "X_train_scaled = scaler.fit_transform(X_train_encoded)\n",
    "X_test_scaled = scaler.transform(X_test_encoded)"
   ]
  },
  {
   "cell_type": "code",
   "execution_count": 20,
   "metadata": {},
   "outputs": [
    {
     "name": "stdout",
     "output_type": "stream",
     "text": [
      "Empty DataFrame\n",
      "Columns: []\n",
      "Index: [302, 467, 294, 548, 465, 109, 77, 754, 259, 82, 495, 314, 328, 362, 483, 408, 2, 101, 351, 436, 247, 208, 5, 54, 694, 835, 613, 868, 97, 628, 204, 333, 692, 918, 507, 468, 832, 25, 84, 10, 377, 318, 527, 497, 519, 453, 118, 346, 357, 29, 55, 481, 331, 778, 829, 196, 422, 81, 299, 933, 593, 309, 841, 239, 884, 211, 687, 684, 780, 227, 820, 307, 846, 456, 874, 327, 424, 937, 332, 7, 155, 516, 644, 611, 388, 745, 541, 767, 551, 893, 668, 501, 796, 634, 405, 741, 228, 319, 715, 212, ...]\n",
      "\n",
      "[766 rows x 0 columns]\n"
     ]
    }
   ],
   "source": [
    "non_numeric_cols_train = X_train_encoded.select_dtypes(exclude=[np.number])\n",
    "non_numeric_cols_test = X_test_encoded.select_dtypes(exclude=[np.number])\n"
   ]
  },
  {
   "cell_type": "code",
   "execution_count": 27,
   "metadata": {},
   "outputs": [],
   "source": [
    "df['class'] = df['class'].astype(int)\n",
    "\n",
    "# Separate the inputs and output\n",
    "X = df[['TL', 'TM', 'TR', 'ML', 'MM', 'MR', 'BL', 'BM', 'BR']]\n",
    "y = df['class']\n",
    "\n",
    "# Split the training and test data\n",
    "X_train, X_test, y_train, y_test = train_test_split(X, y, test_size=0.2, random_state=42)\n",
    "\n",
    "# Convert categorical columns to one-hot encoded form\n",
    "X_train_encoded = pd.get_dummies(X_train, columns=['TL', 'TM', 'TR', 'ML', 'MM', 'MR', 'BL', 'BM', 'BR'])\n",
    "X_test_encoded = pd.get_dummies(X_test, columns=['TL', 'TM', 'TR', 'ML', 'MM', 'MR', 'BL', 'BM', 'BR'])\n",
    "\n",
    "# Normalize the input data\n",
    "scaler = StandardScaler()\n",
    "X_train_scaled = scaler.fit_transform(X_train_encoded)\n",
    "X_test_scaled = scaler.transform(X_test_encoded)"
   ]
  },
  {
   "cell_type": "code",
   "execution_count": 30,
   "metadata": {},
   "outputs": [],
   "source": [
    "X_train_encoded = pd.get_dummies(X_train, columns=['TL', 'TM', 'TR', 'ML', 'MM', 'MR', 'BL', 'BM', 'BR'])\n",
    "X_test_encoded = pd.get_dummies(X_test, columns=['TL', 'TM', 'TR', 'ML', 'MM', 'MR', 'BL', 'BM', 'BR'])"
   ]
  },
  {
   "cell_type": "code",
   "execution_count": 34,
   "metadata": {},
   "outputs": [
    {
     "name": "stdout",
     "output_type": "stream",
     "text": [
      "Epoch 1/10\n",
      "20/20 [==============================] - 1s 9ms/step - loss: 0.7738 - accuracy: 0.5114 - val_loss: 0.6017 - val_accuracy: 0.6883\n",
      "Epoch 2/10\n",
      "20/20 [==============================] - 0s 2ms/step - loss: 0.6027 - accuracy: 0.6797 - val_loss: 0.5605 - val_accuracy: 0.7208\n",
      "Epoch 3/10\n",
      "20/20 [==============================] - 0s 2ms/step - loss: 0.5578 - accuracy: 0.7157 - val_loss: 0.5358 - val_accuracy: 0.7662\n",
      "Epoch 4/10\n",
      "20/20 [==============================] - 0s 2ms/step - loss: 0.5137 - accuracy: 0.7516 - val_loss: 0.5126 - val_accuracy: 0.7597\n",
      "Epoch 5/10\n",
      "20/20 [==============================] - 0s 2ms/step - loss: 0.4742 - accuracy: 0.7876 - val_loss: 0.4907 - val_accuracy: 0.7792\n",
      "Epoch 6/10\n",
      "20/20 [==============================] - 0s 3ms/step - loss: 0.4397 - accuracy: 0.8121 - val_loss: 0.4700 - val_accuracy: 0.7857\n",
      "Epoch 7/10\n",
      "20/20 [==============================] - 0s 2ms/step - loss: 0.4042 - accuracy: 0.8235 - val_loss: 0.4458 - val_accuracy: 0.8052\n",
      "Epoch 8/10\n",
      "20/20 [==============================] - 0s 2ms/step - loss: 0.3684 - accuracy: 0.8448 - val_loss: 0.4151 - val_accuracy: 0.8312\n",
      "Epoch 9/10\n",
      "20/20 [==============================] - 0s 2ms/step - loss: 0.3361 - accuracy: 0.8595 - val_loss: 0.3850 - val_accuracy: 0.8506\n",
      "Epoch 10/10\n",
      "20/20 [==============================] - 0s 2ms/step - loss: 0.3014 - accuracy: 0.8791 - val_loss: 0.3629 - val_accuracy: 0.8506\n",
      "6/6 [==============================] - 0s 1ms/step - loss: 0.3949 - accuracy: 0.8177\n",
      "Test Loss: 0.39493656158447266\n",
      "Test Accuracy: 0.8177083134651184\n",
      "INFO:tensorflow:Assets written to: tic-tac-toe.model\\assets\n"
     ]
    },
    {
     "name": "stderr",
     "output_type": "stream",
     "text": [
      "INFO:tensorflow:Assets written to: tic-tac-toe.model\\assets\n"
     ]
    }
   ],
   "source": [
    "# Convert 'class' column to integer values (0 and 1)\n",
    "df['class'] = df['class'].astype(int)\n",
    "\n",
    "# Separate the inputs and output\n",
    "X = df[['TL', 'TM', 'TR', 'ML', 'MM', 'MR', 'BL', 'BM', 'BR']]\n",
    "y = df['class']\n",
    "\n",
    "# Split the training and test data\n",
    "X_train, X_test, y_train, y_test = train_test_split(X, y, test_size=0.2, random_state=42)\n",
    "\n",
    "# Convert categorical columns to one-hot encoded form\n",
    "X_train_encoded = pd.get_dummies(X_train, columns=['TL', 'TM', 'TR', 'ML', 'MM', 'MR', 'BL', 'BM', 'BR'])\n",
    "X_test_encoded = pd.get_dummies(X_test, columns=['TL', 'TM', 'TR', 'ML', 'MM', 'MR', 'BL', 'BM', 'BR'])\n",
    "\n",
    "# Normalize the input data\n",
    "scaler = StandardScaler()\n",
    "X_train_scaled = scaler.fit_transform(X_train_encoded)\n",
    "X_test_scaled = scaler.transform(X_test_encoded)\n",
    "\n",
    "# Create a Sequential model using TensorFlow's integrated Keras\n",
    "model = tf.keras.Sequential()\n",
    "\n",
    "# Add layers to your model\n",
    "model.add(tf.keras.layers.Input(shape=(X_train_scaled.shape[1],)))\n",
    "model.add(tf.keras.layers.Dense(64, activation='relu'))\n",
    "model.add(tf.keras.layers.Dense(32, activation='relu'))\n",
    "model.add(tf.keras.layers.Dense(2, activation='softmax'))  # Assuming 2 classes, adjust as needed\n",
    "\n",
    "# Compile the model\n",
    "model.compile(optimizer='adam', loss='sparse_categorical_crossentropy', metrics=['accuracy'])\n",
    "\n",
    "# Fit the training data\n",
    "model.fit(X_train_scaled, y_train, epochs=10, batch_size=32, validation_split=0.2)\n",
    "\n",
    "# Evaluate your neural network model with the test data\n",
    "test_loss, test_accuracy = model.evaluate(X_test_scaled, y_test)\n",
    "print(f\"Test Loss: {test_loss}\")\n",
    "print(f\"Test Accuracy: {test_accuracy}\")\n",
    "\n",
    "# Save your model\n",
    "model.save('tic-tac-toe.model')"
   ]
  },
  {
   "cell_type": "code",
   "execution_count": 29,
   "metadata": {},
   "outputs": [
    {
     "name": "stdout",
     "output_type": "stream",
     "text": [
      "Column: TL, Unique Values: ['o' 'x' 'b']\n",
      "Column: TM, Unique Values: ['x' 'b' 'o']\n",
      "Column: TR, Unique Values: ['x' 'o' 'b']\n",
      "Column: ML, Unique Values: ['o' 'b' 'x']\n",
      "Column: MM, Unique Values: ['x' 'b' 'o']\n",
      "Column: MR, Unique Values: ['o' 'b' 'x']\n",
      "Column: BL, Unique Values: ['b' 'x' 'o']\n",
      "Column: BM, Unique Values: ['x' 'o' 'b']\n",
      "Column: BR, Unique Values: ['b' 'x' 'o']\n"
     ]
    }
   ],
   "source": [
    "for column in X_train.columns:\n",
    "    unique_values = X_train[column].unique()\n",
    "    print(f\"Column: {column}, Unique Values: {unique_values}\")"
   ]
  },
  {
   "cell_type": "markdown",
   "metadata": {},
   "source": [
    "## Step 3: Make Predictions\n",
    "\n",
    "Now load your saved model and use it to make predictions on a few random rows in the test dataset. Check if the predictions are correct."
   ]
  },
  {
   "cell_type": "code",
   "execution_count": 36,
   "metadata": {},
   "outputs": [],
   "source": [
    "model = tf.keras.models.load_model('tic-tac-toe.model')"
   ]
  },
  {
   "cell_type": "code",
   "execution_count": 37,
   "metadata": {},
   "outputs": [],
   "source": [
    "num_samples = 5  \n",
    "random_indices = np.random.choice(X_test_scaled.shape[0], num_samples, replace=False)\n",
    "random_test_data = X_test_scaled[random_indices]"
   ]
  },
  {
   "cell_type": "code",
   "execution_count": 38,
   "metadata": {},
   "outputs": [
    {
     "name": "stdout",
     "output_type": "stream",
     "text": [
      "1/1 [==============================] - 0s 74ms/step\n"
     ]
    }
   ],
   "source": [
    "predictions = model.predict(random_test_data)"
   ]
  },
  {
   "cell_type": "code",
   "execution_count": 39,
   "metadata": {},
   "outputs": [],
   "source": [
    "predicted_labels = (predictions[:, 1] > 0.5).astype(int)"
   ]
  },
  {
   "cell_type": "code",
   "execution_count": 40,
   "metadata": {},
   "outputs": [
    {
     "name": "stdout",
     "output_type": "stream",
     "text": [
      "Sample 1:\n",
      "Test Data (Scaled): [-0.49755101  1.32118118 -0.88162474  1.72904116 -0.75051003 -0.7979675\n",
      " -0.513835   -0.74202917  1.13728324 -0.57232537  1.36708224 -0.82451474\n",
      " -0.45420173  1.35925849 -0.95655632 -0.59644967 -0.70849191  1.2161268\n",
      " -0.53205458 -0.7293833   1.14638536  1.71119991 -0.71891007 -0.82451474\n",
      " -0.52599113 -0.73358886  1.14334112]\n",
      "True Label: 1\n",
      "Predicted Label: 1\n",
      "\n",
      "Sample 2:\n",
      "Test Data (Scaled): [ 2.00984419 -0.75689846 -0.88162474 -0.57835523 -0.75051003  1.25318386\n",
      " -0.513835    1.34765592 -0.87928843  1.74725787 -0.73148489 -0.82451474\n",
      " -0.45420173 -0.73569524  1.04541675  1.67658739 -0.70849191 -0.82228267\n",
      "  1.87950642 -0.7293833  -0.87230702 -0.58438526 -0.71891007  1.21283459\n",
      " -0.52599113  1.36316138 -0.87462961]\n",
      "True Label: 1\n",
      "Predicted Label: 1\n",
      "\n",
      "Sample 3:\n",
      "Test Data (Scaled): [ 2.00984419 -0.75689846 -0.88162474 -0.57835523  1.33242723 -0.7979675\n",
      " -0.513835    1.34765592 -0.87928843 -0.57232537 -0.73148489  1.21283459\n",
      " -0.45420173 -0.73569524  1.04541675 -0.59644967 -0.70849191  1.2161268\n",
      "  1.87950642 -0.7293833  -0.87230702 -0.58438526  1.39099457 -0.82451474\n",
      " -0.52599113 -0.73358886  1.14334112]\n",
      "True Label: 1\n",
      "Predicted Label: 1\n",
      "\n",
      "Sample 4:\n",
      "Test Data (Scaled): [ 2.00984419 -0.75689846 -0.88162474 -0.57835523 -0.75051003  1.25318386\n",
      " -0.513835   -0.74202917  1.13728324  1.74725787 -0.73148489 -0.82451474\n",
      " -0.45420173 -0.73569524  1.04541675 -0.59644967  1.41144872 -0.82228267\n",
      " -0.53205458 -0.7293833   1.14638536 -0.58438526  1.39099457 -0.82451474\n",
      " -0.52599113  1.36316138 -0.87462961]\n",
      "True Label: 1\n",
      "Predicted Label: 1\n",
      "\n",
      "Sample 5:\n",
      "Test Data (Scaled): [-0.49755101 -0.75689846  1.13426944  1.72904116 -0.75051003 -0.7979675\n",
      " -0.513835   -0.74202917  1.13728324 -0.57232537  1.36708224 -0.82451474\n",
      " -0.45420173  1.35925849 -0.95655632 -0.59644967  1.41144872 -0.82228267\n",
      "  1.87950642 -0.7293833  -0.87230702  1.71119991 -0.71891007 -0.82451474\n",
      " -0.52599113 -0.73358886  1.14334112]\n",
      "True Label: 0\n",
      "Predicted Label: 1\n",
      "\n"
     ]
    }
   ],
   "source": [
    "for i in range(num_samples):\n",
    "    print(f\"Sample {i + 1}:\")\n",
    "    print(f\"Test Data (Scaled): {random_test_data[i]}\")\n",
    "    print(f\"True Label: {y_test.iloc[random_indices[i]]}\")\n",
    "    print(f\"Predicted Label: {predicted_labels[i]}\")\n",
    "    print()"
   ]
  },
  {
   "cell_type": "markdown",
   "metadata": {},
   "source": [
    "## Step 4: Improve Your Model\n",
    "\n",
    "Did your model achieve low loss (<0.1) and high accuracy (>0.95)? If not, try to improve your model.\n",
    "\n",
    "But how? There are so many things you can play with in Tensorflow and in the next challenge you'll learn about these things. But in this challenge, let's just do a few things to see if they will help.\n",
    "\n",
    "* Add more layers to your model. If the data are complex you need more layers. But don't use more layers than you need. If adding more layers does not improve the model performance you don't need additional layers.\n",
    "* Adjust the learning rate when you compile the model. This means you will create a custom `tf.keras.optimizers.Adam` instance where you specify the learning rate you want. Then pass the instance to `model.compile` as the optimizer.\n",
    "    * `tf.keras.optimizers.Adam` [reference](https://www.tensorflow.org/api_docs/python/tf/keras/optimizers/Adam).\n",
    "    * Don't worry if you don't understand what the learning rate does. You'll learn about it in the next challenge.\n",
    "* Adjust the number of epochs when you fit the training data to the model. Your model performance continues to improve as you train more epochs. But eventually it will reach the ceiling and the performance will stay the same."
   ]
  },
  {
   "cell_type": "code",
   "execution_count": 41,
   "metadata": {},
   "outputs": [],
   "source": [
    "model = tf.keras.Sequential()\n",
    "model.add(tf.keras.layers.Input(shape=(X_train_scaled.shape[1],)))\n",
    "model.add(tf.keras.layers.Dense(64, activation='relu'))\n",
    "model.add(tf.keras.layers.Dense(32, activation='relu'))\n",
    "model.add(tf.keras.layers.Dense(32, activation='relu'))  \n",
    "model.add(tf.keras.layers.Dense(2, activation='softmax'))"
   ]
  },
  {
   "cell_type": "code",
   "execution_count": 44,
   "metadata": {},
   "outputs": [
    {
     "name": "stdout",
     "output_type": "stream",
     "text": [
      "Epoch 1/20\n",
      "20/20 [==============================] - 1s 7ms/step - loss: 0.6703 - accuracy: 0.5817 - val_loss: 0.6044 - val_accuracy: 0.7013\n",
      "Epoch 2/20\n",
      "20/20 [==============================] - 0s 2ms/step - loss: 0.5862 - accuracy: 0.6863 - val_loss: 0.5747 - val_accuracy: 0.7403\n",
      "Epoch 3/20\n",
      "20/20 [==============================] - 0s 2ms/step - loss: 0.5387 - accuracy: 0.7141 - val_loss: 0.5511 - val_accuracy: 0.7273\n",
      "Epoch 4/20\n",
      "20/20 [==============================] - 0s 2ms/step - loss: 0.4871 - accuracy: 0.7794 - val_loss: 0.5285 - val_accuracy: 0.7208\n",
      "Epoch 5/20\n",
      "20/20 [==============================] - 0s 2ms/step - loss: 0.4344 - accuracy: 0.8154 - val_loss: 0.5003 - val_accuracy: 0.7403\n",
      "Epoch 6/20\n",
      "20/20 [==============================] - 0s 2ms/step - loss: 0.3767 - accuracy: 0.8464 - val_loss: 0.4748 - val_accuracy: 0.7403\n",
      "Epoch 7/20\n",
      "20/20 [==============================] - 0s 2ms/step - loss: 0.3205 - accuracy: 0.8758 - val_loss: 0.4372 - val_accuracy: 0.7468\n",
      "Epoch 8/20\n",
      "20/20 [==============================] - 0s 2ms/step - loss: 0.2752 - accuracy: 0.8938 - val_loss: 0.4078 - val_accuracy: 0.7857\n",
      "Epoch 9/20\n",
      "20/20 [==============================] - 0s 2ms/step - loss: 0.2224 - accuracy: 0.9363 - val_loss: 0.3742 - val_accuracy: 0.8312\n",
      "Epoch 10/20\n",
      "20/20 [==============================] - 0s 2ms/step - loss: 0.1807 - accuracy: 0.9493 - val_loss: 0.3520 - val_accuracy: 0.8442\n",
      "Epoch 11/20\n",
      "20/20 [==============================] - 0s 2ms/step - loss: 0.1472 - accuracy: 0.9657 - val_loss: 0.3066 - val_accuracy: 0.8766\n",
      "Epoch 12/20\n",
      "20/20 [==============================] - 0s 2ms/step - loss: 0.1141 - accuracy: 0.9722 - val_loss: 0.2821 - val_accuracy: 0.8831\n",
      "Epoch 13/20\n",
      "20/20 [==============================] - 0s 2ms/step - loss: 0.0877 - accuracy: 0.9837 - val_loss: 0.2595 - val_accuracy: 0.8831\n",
      "Epoch 14/20\n",
      "20/20 [==============================] - 0s 2ms/step - loss: 0.0667 - accuracy: 0.9918 - val_loss: 0.2365 - val_accuracy: 0.9091\n",
      "Epoch 15/20\n",
      "20/20 [==============================] - 0s 2ms/step - loss: 0.0523 - accuracy: 0.9935 - val_loss: 0.2235 - val_accuracy: 0.9091\n",
      "Epoch 16/20\n",
      "20/20 [==============================] - 0s 2ms/step - loss: 0.0403 - accuracy: 0.9951 - val_loss: 0.2058 - val_accuracy: 0.9221\n",
      "Epoch 17/20\n",
      "20/20 [==============================] - 0s 2ms/step - loss: 0.0299 - accuracy: 0.9967 - val_loss: 0.1915 - val_accuracy: 0.9221\n",
      "Epoch 18/20\n",
      "20/20 [==============================] - 0s 3ms/step - loss: 0.0234 - accuracy: 1.0000 - val_loss: 0.1832 - val_accuracy: 0.9351\n",
      "Epoch 19/20\n",
      "20/20 [==============================] - 0s 2ms/step - loss: 0.0184 - accuracy: 1.0000 - val_loss: 0.1740 - val_accuracy: 0.9286\n",
      "Epoch 20/20\n",
      "20/20 [==============================] - 0s 2ms/step - loss: 0.0146 - accuracy: 1.0000 - val_loss: 0.1632 - val_accuracy: 0.9221\n"
     ]
    }
   ],
   "source": [
    "custom_optimizer = tf.keras.optimizers.Adam(learning_rate=0.001)  # Adjust the learning rate as needed\n",
    "model.compile(optimizer=custom_optimizer, loss='sparse_categorical_crossentropy', metrics=['accuracy'])\n",
    "history = model.fit(X_train_scaled, y_train, epochs=20, batch_size=32, validation_split=0.2)  # Adjust the number of epochs"
   ]
  },
  {
   "cell_type": "markdown",
   "metadata": {},
   "source": [
    "**Which approach(es) did you find helpful to improve your model performance?**"
   ]
  },
  {
   "cell_type": "code",
   "execution_count": null,
   "metadata": {},
   "outputs": [],
   "source": [
    "# adjusting the number of epochs."
   ]
  }
 ],
 "metadata": {
  "kernelspec": {
   "display_name": "Python 3",
   "language": "python",
   "name": "python3"
  },
  "language_info": {
   "codemirror_mode": {
    "name": "ipython",
    "version": 3
   },
   "file_extension": ".py",
   "mimetype": "text/x-python",
   "name": "python",
   "nbconvert_exporter": "python",
   "pygments_lexer": "ipython3",
   "version": "3.10.9"
  }
 },
 "nbformat": 4,
 "nbformat_minor": 2
}
