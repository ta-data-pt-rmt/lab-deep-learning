{
 "cells": [
  {
   "cell_type": "markdown",
   "metadata": {},
   "source": [
    "# Challenge 1 - Tic Tac Toe\n",
    "\n",
    "In this lab you will perform deep learning analysis on a dataset of playing [Tic Tac Toe](https://en.wikipedia.org/wiki/Tic-tac-toe).\n",
    "\n",
    "There are 9 grids in Tic Tac Toe that are coded as the following picture shows:\n",
    "\n",
    "![Tic Tac Toe Grids](tttboard.jpg)\n",
    "\n",
    "In the first 9 columns of the dataset you can find which marks (`x` or `o`) exist in the grids. If there is no mark in a certain grid, it is labeled as `b`. The last column is `class` which tells you whether Player X (who always moves first in Tic Tac Toe) wins in this configuration. Note that when `class` has the value `False`, it means either Player O wins the game or it ends up as a draw."
   ]
  },
  {
   "cell_type": "markdown",
   "metadata": {},
   "source": [
    "Follow the steps suggested below to conduct a neural network analysis using Tensorflow and Keras. You will build a deep learning model to predict whether Player X wins the game or not.\n",
    "\n",
    "## Step 1: Data Engineering\n",
    "\n",
    "This dataset is almost in the ready-to-use state so you do not need to worry about missing values and so on. Still, some simple data engineering is needed.\n",
    "\n",
    "1. Read `tic-tac-toe.csv` into a dataframe.\n",
    "1. Inspect the dataset. Determine if the dataset is reliable by eyeballing the data.\n",
    "1. Convert the categorical values to numeric in all columns.\n",
    "1. Separate the inputs and output.\n",
    "1. Normalize the input data."
   ]
  },
  {
   "cell_type": "code",
   "execution_count": 1,
   "metadata": {},
   "outputs": [
    {
     "name": "stderr",
     "output_type": "stream",
     "text": [
      "c:\\Users\\ruoxi\\anaconda3\\Lib\\site-packages\\pandas\\core\\arrays\\masked.py:60: UserWarning: Pandas requires version '1.3.6' or newer of 'bottleneck' (version '1.3.5' currently installed).\n",
      "  from pandas.core import (\n"
     ]
    }
   ],
   "source": [
    "# your code here\n",
    "import pandas as pd\n"
   ]
  },
  {
   "cell_type": "code",
   "execution_count": 2,
   "metadata": {},
   "outputs": [
    {
     "data": {
      "text/html": [
       "<div>\n",
       "<style scoped>\n",
       "    .dataframe tbody tr th:only-of-type {\n",
       "        vertical-align: middle;\n",
       "    }\n",
       "\n",
       "    .dataframe tbody tr th {\n",
       "        vertical-align: top;\n",
       "    }\n",
       "\n",
       "    .dataframe thead th {\n",
       "        text-align: right;\n",
       "    }\n",
       "</style>\n",
       "<table border=\"1\" class=\"dataframe\">\n",
       "  <thead>\n",
       "    <tr style=\"text-align: right;\">\n",
       "      <th></th>\n",
       "      <th>TL</th>\n",
       "      <th>TM</th>\n",
       "      <th>TR</th>\n",
       "      <th>ML</th>\n",
       "      <th>MM</th>\n",
       "      <th>MR</th>\n",
       "      <th>BL</th>\n",
       "      <th>BM</th>\n",
       "      <th>BR</th>\n",
       "      <th>class</th>\n",
       "    </tr>\n",
       "  </thead>\n",
       "  <tbody>\n",
       "    <tr>\n",
       "      <th>0</th>\n",
       "      <td>x</td>\n",
       "      <td>x</td>\n",
       "      <td>x</td>\n",
       "      <td>x</td>\n",
       "      <td>o</td>\n",
       "      <td>o</td>\n",
       "      <td>x</td>\n",
       "      <td>o</td>\n",
       "      <td>o</td>\n",
       "      <td>True</td>\n",
       "    </tr>\n",
       "    <tr>\n",
       "      <th>1</th>\n",
       "      <td>x</td>\n",
       "      <td>x</td>\n",
       "      <td>x</td>\n",
       "      <td>x</td>\n",
       "      <td>o</td>\n",
       "      <td>o</td>\n",
       "      <td>o</td>\n",
       "      <td>x</td>\n",
       "      <td>o</td>\n",
       "      <td>True</td>\n",
       "    </tr>\n",
       "    <tr>\n",
       "      <th>2</th>\n",
       "      <td>x</td>\n",
       "      <td>x</td>\n",
       "      <td>x</td>\n",
       "      <td>x</td>\n",
       "      <td>o</td>\n",
       "      <td>o</td>\n",
       "      <td>o</td>\n",
       "      <td>o</td>\n",
       "      <td>x</td>\n",
       "      <td>True</td>\n",
       "    </tr>\n",
       "    <tr>\n",
       "      <th>3</th>\n",
       "      <td>x</td>\n",
       "      <td>x</td>\n",
       "      <td>x</td>\n",
       "      <td>x</td>\n",
       "      <td>o</td>\n",
       "      <td>o</td>\n",
       "      <td>o</td>\n",
       "      <td>b</td>\n",
       "      <td>b</td>\n",
       "      <td>True</td>\n",
       "    </tr>\n",
       "    <tr>\n",
       "      <th>4</th>\n",
       "      <td>x</td>\n",
       "      <td>x</td>\n",
       "      <td>x</td>\n",
       "      <td>x</td>\n",
       "      <td>o</td>\n",
       "      <td>o</td>\n",
       "      <td>b</td>\n",
       "      <td>o</td>\n",
       "      <td>b</td>\n",
       "      <td>True</td>\n",
       "    </tr>\n",
       "  </tbody>\n",
       "</table>\n",
       "</div>"
      ],
      "text/plain": [
       "  TL TM TR ML MM MR BL BM BR  class\n",
       "0  x  x  x  x  o  o  x  o  o   True\n",
       "1  x  x  x  x  o  o  o  x  o   True\n",
       "2  x  x  x  x  o  o  o  o  x   True\n",
       "3  x  x  x  x  o  o  o  b  b   True\n",
       "4  x  x  x  x  o  o  b  o  b   True"
      ]
     },
     "metadata": {},
     "output_type": "display_data"
    },
    {
     "data": {
      "text/plain": [
       "(958, 10)"
      ]
     },
     "execution_count": 2,
     "metadata": {},
     "output_type": "execute_result"
    }
   ],
   "source": [
    "df = pd.read_csv('tic-tac-toe.csv')\n",
    "display(df.head())\n",
    "df.shape"
   ]
  },
  {
   "cell_type": "code",
   "execution_count": 3,
   "metadata": {},
   "outputs": [
    {
     "data": {
      "text/plain": [
       "TL       0\n",
       "TM       0\n",
       "TR       0\n",
       "ML       0\n",
       "MM       0\n",
       "MR       0\n",
       "BL       0\n",
       "BM       0\n",
       "BR       0\n",
       "class    0\n",
       "dtype: int64"
      ]
     },
     "execution_count": 3,
     "metadata": {},
     "output_type": "execute_result"
    }
   ],
   "source": [
    "df.isna().sum()"
   ]
  },
  {
   "cell_type": "code",
   "execution_count": 4,
   "metadata": {},
   "outputs": [
    {
     "name": "stdout",
     "output_type": "stream",
     "text": [
      "<class 'pandas.core.frame.DataFrame'>\n",
      "RangeIndex: 958 entries, 0 to 957\n",
      "Data columns (total 10 columns):\n",
      " #   Column  Non-Null Count  Dtype \n",
      "---  ------  --------------  ----- \n",
      " 0   TL      958 non-null    object\n",
      " 1   TM      958 non-null    object\n",
      " 2   TR      958 non-null    object\n",
      " 3   ML      958 non-null    object\n",
      " 4   MM      958 non-null    object\n",
      " 5   MR      958 non-null    object\n",
      " 6   BL      958 non-null    object\n",
      " 7   BM      958 non-null    object\n",
      " 8   BR      958 non-null    object\n",
      " 9   class   958 non-null    bool  \n",
      "dtypes: bool(1), object(9)\n",
      "memory usage: 68.4+ KB\n"
     ]
    }
   ],
   "source": [
    "df.info()"
   ]
  },
  {
   "cell_type": "code",
   "execution_count": 6,
   "metadata": {},
   "outputs": [
    {
     "data": {
      "text/html": [
       "<div>\n",
       "<style scoped>\n",
       "    .dataframe tbody tr th:only-of-type {\n",
       "        vertical-align: middle;\n",
       "    }\n",
       "\n",
       "    .dataframe tbody tr th {\n",
       "        vertical-align: top;\n",
       "    }\n",
       "\n",
       "    .dataframe thead th {\n",
       "        text-align: right;\n",
       "    }\n",
       "</style>\n",
       "<table border=\"1\" class=\"dataframe\">\n",
       "  <thead>\n",
       "    <tr style=\"text-align: right;\">\n",
       "      <th></th>\n",
       "      <th>class</th>\n",
       "      <th>TL_o</th>\n",
       "      <th>TL_x</th>\n",
       "      <th>TM_o</th>\n",
       "      <th>TM_x</th>\n",
       "      <th>TR_o</th>\n",
       "      <th>TR_x</th>\n",
       "      <th>ML_o</th>\n",
       "      <th>ML_x</th>\n",
       "      <th>MM_o</th>\n",
       "      <th>MM_x</th>\n",
       "      <th>MR_o</th>\n",
       "      <th>MR_x</th>\n",
       "      <th>BL_o</th>\n",
       "      <th>BL_x</th>\n",
       "      <th>BM_o</th>\n",
       "      <th>BM_x</th>\n",
       "      <th>BR_o</th>\n",
       "      <th>BR_x</th>\n",
       "    </tr>\n",
       "  </thead>\n",
       "  <tbody>\n",
       "    <tr>\n",
       "      <th>0</th>\n",
       "      <td>True</td>\n",
       "      <td>False</td>\n",
       "      <td>True</td>\n",
       "      <td>False</td>\n",
       "      <td>True</td>\n",
       "      <td>False</td>\n",
       "      <td>True</td>\n",
       "      <td>False</td>\n",
       "      <td>True</td>\n",
       "      <td>True</td>\n",
       "      <td>False</td>\n",
       "      <td>True</td>\n",
       "      <td>False</td>\n",
       "      <td>False</td>\n",
       "      <td>True</td>\n",
       "      <td>True</td>\n",
       "      <td>False</td>\n",
       "      <td>True</td>\n",
       "      <td>False</td>\n",
       "    </tr>\n",
       "    <tr>\n",
       "      <th>1</th>\n",
       "      <td>True</td>\n",
       "      <td>False</td>\n",
       "      <td>True</td>\n",
       "      <td>False</td>\n",
       "      <td>True</td>\n",
       "      <td>False</td>\n",
       "      <td>True</td>\n",
       "      <td>False</td>\n",
       "      <td>True</td>\n",
       "      <td>True</td>\n",
       "      <td>False</td>\n",
       "      <td>True</td>\n",
       "      <td>False</td>\n",
       "      <td>True</td>\n",
       "      <td>False</td>\n",
       "      <td>False</td>\n",
       "      <td>True</td>\n",
       "      <td>True</td>\n",
       "      <td>False</td>\n",
       "    </tr>\n",
       "    <tr>\n",
       "      <th>2</th>\n",
       "      <td>True</td>\n",
       "      <td>False</td>\n",
       "      <td>True</td>\n",
       "      <td>False</td>\n",
       "      <td>True</td>\n",
       "      <td>False</td>\n",
       "      <td>True</td>\n",
       "      <td>False</td>\n",
       "      <td>True</td>\n",
       "      <td>True</td>\n",
       "      <td>False</td>\n",
       "      <td>True</td>\n",
       "      <td>False</td>\n",
       "      <td>True</td>\n",
       "      <td>False</td>\n",
       "      <td>True</td>\n",
       "      <td>False</td>\n",
       "      <td>False</td>\n",
       "      <td>True</td>\n",
       "    </tr>\n",
       "    <tr>\n",
       "      <th>3</th>\n",
       "      <td>True</td>\n",
       "      <td>False</td>\n",
       "      <td>True</td>\n",
       "      <td>False</td>\n",
       "      <td>True</td>\n",
       "      <td>False</td>\n",
       "      <td>True</td>\n",
       "      <td>False</td>\n",
       "      <td>True</td>\n",
       "      <td>True</td>\n",
       "      <td>False</td>\n",
       "      <td>True</td>\n",
       "      <td>False</td>\n",
       "      <td>True</td>\n",
       "      <td>False</td>\n",
       "      <td>False</td>\n",
       "      <td>False</td>\n",
       "      <td>False</td>\n",
       "      <td>False</td>\n",
       "    </tr>\n",
       "    <tr>\n",
       "      <th>4</th>\n",
       "      <td>True</td>\n",
       "      <td>False</td>\n",
       "      <td>True</td>\n",
       "      <td>False</td>\n",
       "      <td>True</td>\n",
       "      <td>False</td>\n",
       "      <td>True</td>\n",
       "      <td>False</td>\n",
       "      <td>True</td>\n",
       "      <td>True</td>\n",
       "      <td>False</td>\n",
       "      <td>True</td>\n",
       "      <td>False</td>\n",
       "      <td>False</td>\n",
       "      <td>False</td>\n",
       "      <td>True</td>\n",
       "      <td>False</td>\n",
       "      <td>False</td>\n",
       "      <td>False</td>\n",
       "    </tr>\n",
       "  </tbody>\n",
       "</table>\n",
       "</div>"
      ],
      "text/plain": [
       "   class   TL_o  TL_x   TM_o  TM_x   TR_o  TR_x   ML_o  ML_x  MM_o   MM_x  \\\n",
       "0   True  False  True  False  True  False  True  False  True  True  False   \n",
       "1   True  False  True  False  True  False  True  False  True  True  False   \n",
       "2   True  False  True  False  True  False  True  False  True  True  False   \n",
       "3   True  False  True  False  True  False  True  False  True  True  False   \n",
       "4   True  False  True  False  True  False  True  False  True  True  False   \n",
       "\n",
       "   MR_o   MR_x   BL_o   BL_x   BM_o   BM_x   BR_o   BR_x  \n",
       "0  True  False  False   True   True  False   True  False  \n",
       "1  True  False   True  False  False   True   True  False  \n",
       "2  True  False   True  False   True  False  False   True  \n",
       "3  True  False   True  False  False  False  False  False  \n",
       "4  True  False  False  False   True  False  False  False  "
      ]
     },
     "execution_count": 6,
     "metadata": {},
     "output_type": "execute_result"
    }
   ],
   "source": [
    "df_encoded = pd.get_dummies(df, columns=df.columns[df.columns != 'class'], drop_first= True)\n",
    "df_encoded.head()"
   ]
  },
  {
   "cell_type": "markdown",
   "metadata": {},
   "source": [
    "## Step 2: Build Neural Network\n",
    "\n",
    "To build the neural network, you can refer to your own codes you wrote while following the [Deep Learning with Python, TensorFlow, and Keras tutorial](https://www.youtube.com/watch?v=wQ8BIBpya2k) in the lesson. It's pretty similar to what you will be doing in this lab.\n",
    "\n",
    "1. Split the training and test data.\n",
    "1. Create a `Sequential` model.\n",
    "1. Add several layers to your model. Make sure you use ReLU as the activation function for the middle layers. Use Softmax for the output layer because each output has a single lable and all the label probabilities add up to 1.\n",
    "1. Compile the model using `adam` as the optimizer and `sparse_categorical_crossentropy` as the loss function. For metrics, use `accuracy` for now.\n",
    "1. Fit the training data.\n",
    "1. Evaluate your neural network model with the test data.\n",
    "1. Save your model as `tic-tac-toe.model`."
   ]
  },
  {
   "cell_type": "code",
   "execution_count": 16,
   "metadata": {},
   "outputs": [],
   "source": [
    "# your code here\n",
    "from sklearn.model_selection import train_test_split\n",
    "X_train, X_test, y_train, y_test= train_test_split(df_encoded[df_encoded.columns[df_encoded.columns!='class']], df_encoded['class'], test_size=0.25, random_state=10)"
   ]
  },
  {
   "cell_type": "code",
   "execution_count": 17,
   "metadata": {},
   "outputs": [
    {
     "data": {
      "text/plain": [
       "(718, 18)"
      ]
     },
     "execution_count": 17,
     "metadata": {},
     "output_type": "execute_result"
    }
   ],
   "source": [
    "X_train.shape"
   ]
  },
  {
   "cell_type": "code",
   "execution_count": 19,
   "metadata": {},
   "outputs": [
    {
     "data": {
      "text/plain": [
       "array([ True, False])"
      ]
     },
     "execution_count": 19,
     "metadata": {},
     "output_type": "execute_result"
    }
   ],
   "source": [
    "y_train.unique()"
   ]
  },
  {
   "cell_type": "code",
   "execution_count": 21,
   "metadata": {},
   "outputs": [
    {
     "name": "stdout",
     "output_type": "stream",
     "text": [
      "Collecting tensorflow\n",
      "  Obtaining dependency information for tensorflow from https://files.pythonhosted.org/packages/93/21/9b035a4f823d6aee2917c75415be9a95861ff3d73a0a65e48edbf210cec1/tensorflow-2.15.0-cp311-cp311-win_amd64.whl.metadata\n",
      "  Downloading tensorflow-2.15.0-cp311-cp311-win_amd64.whl.metadata (3.6 kB)\n",
      "Collecting tensorflow-intel==2.15.0 (from tensorflow)\n",
      "  Obtaining dependency information for tensorflow-intel==2.15.0 from https://files.pythonhosted.org/packages/4c/48/1a5a15517f18eaa4ff8d598b1c000300b20c1bb0e624539d702117a0c369/tensorflow_intel-2.15.0-cp311-cp311-win_amd64.whl.metadata\n",
      "  Downloading tensorflow_intel-2.15.0-cp311-cp311-win_amd64.whl.metadata (5.1 kB)\n",
      "Collecting absl-py>=1.0.0 (from tensorflow-intel==2.15.0->tensorflow)\n",
      "  Obtaining dependency information for absl-py>=1.0.0 from https://files.pythonhosted.org/packages/a2/ad/e0d3c824784ff121c03cc031f944bc7e139a8f1870ffd2845cc2dd76f6c4/absl_py-2.1.0-py3-none-any.whl.metadata\n",
      "  Downloading absl_py-2.1.0-py3-none-any.whl.metadata (2.3 kB)\n",
      "Collecting astunparse>=1.6.0 (from tensorflow-intel==2.15.0->tensorflow)\n",
      "  Downloading astunparse-1.6.3-py2.py3-none-any.whl (12 kB)\n",
      "Collecting flatbuffers>=23.5.26 (from tensorflow-intel==2.15.0->tensorflow)\n",
      "  Obtaining dependency information for flatbuffers>=23.5.26 from https://files.pythonhosted.org/packages/6f/12/d5c79ee252793ffe845d58a913197bfa02ae9a0b5c9bc3dc4b58d477b9e7/flatbuffers-23.5.26-py2.py3-none-any.whl.metadata\n",
      "  Downloading flatbuffers-23.5.26-py2.py3-none-any.whl.metadata (850 bytes)\n",
      "Collecting gast!=0.5.0,!=0.5.1,!=0.5.2,>=0.2.1 (from tensorflow-intel==2.15.0->tensorflow)\n",
      "  Obtaining dependency information for gast!=0.5.0,!=0.5.1,!=0.5.2,>=0.2.1 from https://files.pythonhosted.org/packages/fa/39/5aae571e5a5f4de9c3445dae08a530498e5c53b0e74410eeeb0991c79047/gast-0.5.4-py3-none-any.whl.metadata\n",
      "  Downloading gast-0.5.4-py3-none-any.whl.metadata (1.3 kB)\n",
      "Collecting google-pasta>=0.1.1 (from tensorflow-intel==2.15.0->tensorflow)\n",
      "  Downloading google_pasta-0.2.0-py3-none-any.whl (57 kB)\n",
      "     ---------------------------------------- 0.0/57.5 kB ? eta -:--:--\n",
      "     ---------------------------------------- 57.5/57.5 kB 1.5 MB/s eta 0:00:00\n",
      "Requirement already satisfied: h5py>=2.9.0 in c:\\users\\ruoxi\\anaconda3\\lib\\site-packages (from tensorflow-intel==2.15.0->tensorflow) (3.7.0)\n",
      "Collecting libclang>=13.0.0 (from tensorflow-intel==2.15.0->tensorflow)\n",
      "  Obtaining dependency information for libclang>=13.0.0 from https://files.pythonhosted.org/packages/02/8c/dc970bc00867fe290e8c8a7befa1635af716a9ebdfe3fb9dce0ca4b522ce/libclang-16.0.6-py2.py3-none-win_amd64.whl.metadata\n",
      "  Downloading libclang-16.0.6-py2.py3-none-win_amd64.whl.metadata (5.3 kB)\n",
      "Collecting ml-dtypes~=0.2.0 (from tensorflow-intel==2.15.0->tensorflow)\n",
      "  Obtaining dependency information for ml-dtypes~=0.2.0 from https://files.pythonhosted.org/packages/08/89/c727fde1a3d12586e0b8c01abf53754707d76beaa9987640e70807d4545f/ml_dtypes-0.2.0-cp311-cp311-win_amd64.whl.metadata\n",
      "  Downloading ml_dtypes-0.2.0-cp311-cp311-win_amd64.whl.metadata (20 kB)\n",
      "Requirement already satisfied: numpy<2.0.0,>=1.23.5 in c:\\users\\ruoxi\\anaconda3\\lib\\site-packages (from tensorflow-intel==2.15.0->tensorflow) (1.24.3)\n",
      "Collecting opt-einsum>=2.3.2 (from tensorflow-intel==2.15.0->tensorflow)\n",
      "  Downloading opt_einsum-3.3.0-py3-none-any.whl (65 kB)\n",
      "     ---------------------------------------- 0.0/65.5 kB ? eta -:--:--\n",
      "     ---------------------------------------- 65.5/65.5 kB 3.7 MB/s eta 0:00:00\n",
      "Requirement already satisfied: packaging in c:\\users\\ruoxi\\anaconda3\\lib\\site-packages (from tensorflow-intel==2.15.0->tensorflow) (23.0)\n",
      "Requirement already satisfied: protobuf!=4.21.0,!=4.21.1,!=4.21.2,!=4.21.3,!=4.21.4,!=4.21.5,<5.0.0dev,>=3.20.3 in c:\\users\\ruoxi\\anaconda3\\lib\\site-packages (from tensorflow-intel==2.15.0->tensorflow) (3.20.3)\n",
      "Requirement already satisfied: setuptools in c:\\users\\ruoxi\\anaconda3\\lib\\site-packages (from tensorflow-intel==2.15.0->tensorflow) (68.0.0)\n",
      "Requirement already satisfied: six>=1.12.0 in c:\\users\\ruoxi\\anaconda3\\lib\\site-packages (from tensorflow-intel==2.15.0->tensorflow) (1.16.0)\n",
      "Collecting termcolor>=1.1.0 (from tensorflow-intel==2.15.0->tensorflow)\n",
      "  Obtaining dependency information for termcolor>=1.1.0 from https://files.pythonhosted.org/packages/d9/5f/8c716e47b3a50cbd7c146f45881e11d9414def768b7cd9c5e6650ec2a80a/termcolor-2.4.0-py3-none-any.whl.metadata\n",
      "  Downloading termcolor-2.4.0-py3-none-any.whl.metadata (6.1 kB)\n",
      "Requirement already satisfied: typing-extensions>=3.6.6 in c:\\users\\ruoxi\\anaconda3\\lib\\site-packages (from tensorflow-intel==2.15.0->tensorflow) (4.7.1)\n",
      "Requirement already satisfied: wrapt<1.15,>=1.11.0 in c:\\users\\ruoxi\\anaconda3\\lib\\site-packages (from tensorflow-intel==2.15.0->tensorflow) (1.14.1)\n",
      "Collecting tensorflow-io-gcs-filesystem>=0.23.1 (from tensorflow-intel==2.15.0->tensorflow)\n",
      "  Obtaining dependency information for tensorflow-io-gcs-filesystem>=0.23.1 from https://files.pythonhosted.org/packages/ac/4e/9566a313927be582ca99455a9523a097c7888fc819695bdc08415432b202/tensorflow_io_gcs_filesystem-0.31.0-cp311-cp311-win_amd64.whl.metadata\n",
      "  Downloading tensorflow_io_gcs_filesystem-0.31.0-cp311-cp311-win_amd64.whl.metadata (14 kB)\n",
      "Collecting grpcio<2.0,>=1.24.3 (from tensorflow-intel==2.15.0->tensorflow)\n",
      "  Obtaining dependency information for grpcio<2.0,>=1.24.3 from https://files.pythonhosted.org/packages/02/2b/f1a3b06576a33f3a5b7b2f53cafaf3c2f11a1886c1ae7056ae17e82e4573/grpcio-1.62.0-cp311-cp311-win_amd64.whl.metadata\n",
      "  Downloading grpcio-1.62.0-cp311-cp311-win_amd64.whl.metadata (4.2 kB)\n",
      "Collecting tensorboard<2.16,>=2.15 (from tensorflow-intel==2.15.0->tensorflow)\n",
      "  Obtaining dependency information for tensorboard<2.16,>=2.15 from https://files.pythonhosted.org/packages/37/12/f6e9b9dcc310263cbd3948274e286538bd6800fd0c268850788f14a0c6d0/tensorboard-2.15.2-py3-none-any.whl.metadata\n",
      "  Downloading tensorboard-2.15.2-py3-none-any.whl.metadata (1.7 kB)\n",
      "Collecting tensorflow-estimator<2.16,>=2.15.0 (from tensorflow-intel==2.15.0->tensorflow)\n",
      "  Obtaining dependency information for tensorflow-estimator<2.16,>=2.15.0 from https://files.pythonhosted.org/packages/b6/c8/2f823c8958d5342eafc6dd3e922f0cc4fcf8c2e0460284cc462dae3b60a0/tensorflow_estimator-2.15.0-py2.py3-none-any.whl.metadata\n",
      "  Downloading tensorflow_estimator-2.15.0-py2.py3-none-any.whl.metadata (1.3 kB)\n",
      "Collecting keras<2.16,>=2.15.0 (from tensorflow-intel==2.15.0->tensorflow)\n",
      "  Obtaining dependency information for keras<2.16,>=2.15.0 from https://files.pythonhosted.org/packages/fc/a7/0d4490de967a67f68a538cc9cdb259bff971c4b5787f7765dc7c8f118f71/keras-2.15.0-py3-none-any.whl.metadata\n",
      "  Downloading keras-2.15.0-py3-none-any.whl.metadata (2.4 kB)\n",
      "Requirement already satisfied: wheel<1.0,>=0.23.0 in c:\\users\\ruoxi\\anaconda3\\lib\\site-packages (from astunparse>=1.6.0->tensorflow-intel==2.15.0->tensorflow) (0.38.4)\n",
      "Requirement already satisfied: google-auth<3,>=1.6.3 in c:\\users\\ruoxi\\anaconda3\\lib\\site-packages (from tensorboard<2.16,>=2.15->tensorflow-intel==2.15.0->tensorflow) (2.23.4)\n",
      "Requirement already satisfied: google-auth-oauthlib<2,>=0.5 in c:\\users\\ruoxi\\anaconda3\\lib\\site-packages (from tensorboard<2.16,>=2.15->tensorflow-intel==2.15.0->tensorflow) (1.1.0)\n",
      "Requirement already satisfied: markdown>=2.6.8 in c:\\users\\ruoxi\\anaconda3\\lib\\site-packages (from tensorboard<2.16,>=2.15->tensorflow-intel==2.15.0->tensorflow) (3.4.1)\n",
      "Requirement already satisfied: requests<3,>=2.21.0 in c:\\users\\ruoxi\\anaconda3\\lib\\site-packages (from tensorboard<2.16,>=2.15->tensorflow-intel==2.15.0->tensorflow) (2.31.0)\n",
      "Collecting tensorboard-data-server<0.8.0,>=0.7.0 (from tensorboard<2.16,>=2.15->tensorflow-intel==2.15.0->tensorflow)\n",
      "  Obtaining dependency information for tensorboard-data-server<0.8.0,>=0.7.0 from https://files.pythonhosted.org/packages/7a/13/e503968fefabd4c6b2650af21e110aa8466fe21432cd7c43a84577a89438/tensorboard_data_server-0.7.2-py3-none-any.whl.metadata\n",
      "  Downloading tensorboard_data_server-0.7.2-py3-none-any.whl.metadata (1.1 kB)\n",
      "Requirement already satisfied: werkzeug>=1.0.1 in c:\\users\\ruoxi\\anaconda3\\lib\\site-packages (from tensorboard<2.16,>=2.15->tensorflow-intel==2.15.0->tensorflow) (2.2.3)\n",
      "Requirement already satisfied: cachetools<6.0,>=2.0.0 in c:\\users\\ruoxi\\anaconda3\\lib\\site-packages (from google-auth<3,>=1.6.3->tensorboard<2.16,>=2.15->tensorflow-intel==2.15.0->tensorflow) (5.3.2)\n",
      "Requirement already satisfied: pyasn1-modules>=0.2.1 in c:\\users\\ruoxi\\anaconda3\\lib\\site-packages (from google-auth<3,>=1.6.3->tensorboard<2.16,>=2.15->tensorflow-intel==2.15.0->tensorflow) (0.2.8)\n",
      "Requirement already satisfied: rsa<5,>=3.1.4 in c:\\users\\ruoxi\\anaconda3\\lib\\site-packages (from google-auth<3,>=1.6.3->tensorboard<2.16,>=2.15->tensorflow-intel==2.15.0->tensorflow) (4.9)\n",
      "Requirement already satisfied: requests-oauthlib>=0.7.0 in c:\\users\\ruoxi\\anaconda3\\lib\\site-packages (from google-auth-oauthlib<2,>=0.5->tensorboard<2.16,>=2.15->tensorflow-intel==2.15.0->tensorflow) (1.3.1)\n",
      "Requirement already satisfied: charset-normalizer<4,>=2 in c:\\users\\ruoxi\\anaconda3\\lib\\site-packages (from requests<3,>=2.21.0->tensorboard<2.16,>=2.15->tensorflow-intel==2.15.0->tensorflow) (2.0.4)\n",
      "Requirement already satisfied: idna<4,>=2.5 in c:\\users\\ruoxi\\anaconda3\\lib\\site-packages (from requests<3,>=2.21.0->tensorboard<2.16,>=2.15->tensorflow-intel==2.15.0->tensorflow) (3.4)\n",
      "Requirement already satisfied: urllib3<3,>=1.21.1 in c:\\users\\ruoxi\\anaconda3\\lib\\site-packages (from requests<3,>=2.21.0->tensorboard<2.16,>=2.15->tensorflow-intel==2.15.0->tensorflow) (1.26.16)\n",
      "Requirement already satisfied: certifi>=2017.4.17 in c:\\users\\ruoxi\\anaconda3\\lib\\site-packages (from requests<3,>=2.21.0->tensorboard<2.16,>=2.15->tensorflow-intel==2.15.0->tensorflow) (2023.7.22)\n",
      "Requirement already satisfied: MarkupSafe>=2.1.1 in c:\\users\\ruoxi\\anaconda3\\lib\\site-packages (from werkzeug>=1.0.1->tensorboard<2.16,>=2.15->tensorflow-intel==2.15.0->tensorflow) (2.1.1)\n",
      "Requirement already satisfied: pyasn1<0.5.0,>=0.4.6 in c:\\users\\ruoxi\\anaconda3\\lib\\site-packages (from pyasn1-modules>=0.2.1->google-auth<3,>=1.6.3->tensorboard<2.16,>=2.15->tensorflow-intel==2.15.0->tensorflow) (0.4.8)\n",
      "Requirement already satisfied: oauthlib>=3.0.0 in c:\\users\\ruoxi\\anaconda3\\lib\\site-packages (from requests-oauthlib>=0.7.0->google-auth-oauthlib<2,>=0.5->tensorboard<2.16,>=2.15->tensorflow-intel==2.15.0->tensorflow) (3.2.2)\n",
      "Downloading tensorflow-2.15.0-cp311-cp311-win_amd64.whl (2.1 kB)\n",
      "Downloading tensorflow_intel-2.15.0-cp311-cp311-win_amd64.whl (300.9 MB)\n",
      "   ---------------------------------------- 0.0/300.9 MB ? eta -:--:--\n",
      "   ---------------------------------------- 0.6/300.9 MB 19.5 MB/s eta 0:00:16\n",
      "   ---------------------------------------- 1.1/300.9 MB 18.0 MB/s eta 0:00:17\n",
      "   ---------------------------------------- 2.3/300.9 MB 20.6 MB/s eta 0:00:15\n",
      "   ---------------------------------------- 3.6/300.9 MB 23.1 MB/s eta 0:00:13\n",
      "    --------------------------------------- 4.5/300.9 MB 20.3 MB/s eta 0:00:15\n",
      "    --------------------------------------- 5.8/300.9 MB 23.3 MB/s eta 0:00:13\n",
      "    --------------------------------------- 7.4/300.9 MB 23.6 MB/s eta 0:00:13\n",
      "   - -------------------------------------- 8.8/300.9 MB 23.5 MB/s eta 0:00:13\n",
      "   - -------------------------------------- 10.3/300.9 MB 25.1 MB/s eta 0:00:12\n",
      "   - -------------------------------------- 11.2/300.9 MB 24.2 MB/s eta 0:00:12\n",
      "   - -------------------------------------- 12.8/300.9 MB 26.2 MB/s eta 0:00:12\n",
      "   - -------------------------------------- 14.8/300.9 MB 29.7 MB/s eta 0:00:10\n",
      "   -- ------------------------------------- 15.7/300.9 MB 28.4 MB/s eta 0:00:11\n",
      "   -- ------------------------------------- 17.2/300.9 MB 31.2 MB/s eta 0:00:10\n",
      "   -- ------------------------------------- 18.4/300.9 MB 29.7 MB/s eta 0:00:10\n",
      "   -- ------------------------------------- 19.9/300.9 MB 29.8 MB/s eta 0:00:10\n",
      "   -- ------------------------------------- 21.6/300.9 MB 31.2 MB/s eta 0:00:09\n",
      "   -- ------------------------------------- 21.7/300.9 MB 29.7 MB/s eta 0:00:10\n",
      "   --- ------------------------------------ 22.6/300.9 MB 27.3 MB/s eta 0:00:11\n",
      "   --- ------------------------------------ 23.6/300.9 MB 26.2 MB/s eta 0:00:11\n",
      "   --- ------------------------------------ 23.8/300.9 MB 23.4 MB/s eta 0:00:12\n",
      "   --- ------------------------------------ 25.7/300.9 MB 24.2 MB/s eta 0:00:12\n",
      "   --- ------------------------------------ 25.9/300.9 MB 24.2 MB/s eta 0:00:12\n",
      "   --- ------------------------------------ 27.0/300.9 MB 21.8 MB/s eta 0:00:13\n",
      "   --- ------------------------------------ 27.7/300.9 MB 20.5 MB/s eta 0:00:14\n",
      "   --- ------------------------------------ 28.9/300.9 MB 20.5 MB/s eta 0:00:14\n",
      "   ---- ----------------------------------- 30.3/300.9 MB 20.5 MB/s eta 0:00:14\n",
      "   ---- ----------------------------------- 31.5/300.9 MB 19.8 MB/s eta 0:00:14\n",
      "   ---- ----------------------------------- 32.8/300.9 MB 21.1 MB/s eta 0:00:13\n",
      "   ---- ----------------------------------- 34.1/300.9 MB 23.4 MB/s eta 0:00:12\n",
      "   ---- ----------------------------------- 35.4/300.9 MB 22.5 MB/s eta 0:00:12\n",
      "   ---- ----------------------------------- 37.2/300.9 MB 26.2 MB/s eta 0:00:11\n",
      "   ----- ---------------------------------- 38.5/300.9 MB 28.5 MB/s eta 0:00:10\n",
      "   ----- ---------------------------------- 39.6/300.9 MB 29.7 MB/s eta 0:00:09\n",
      "   ----- ---------------------------------- 41.3/300.9 MB 29.7 MB/s eta 0:00:09\n",
      "   ----- ---------------------------------- 43.2/300.9 MB 31.1 MB/s eta 0:00:09\n",
      "   ----- ---------------------------------- 44.6/300.9 MB 32.8 MB/s eta 0:00:08\n",
      "   ------ --------------------------------- 46.0/300.9 MB 31.2 MB/s eta 0:00:09\n",
      "   ------ --------------------------------- 47.3/300.9 MB 29.7 MB/s eta 0:00:09\n",
      "   ------ --------------------------------- 48.5/300.9 MB 31.2 MB/s eta 0:00:09\n",
      "   ------ --------------------------------- 49.6/300.9 MB 31.2 MB/s eta 0:00:09\n",
      "   ------ --------------------------------- 51.1/300.9 MB 29.7 MB/s eta 0:00:09\n",
      "   ------ --------------------------------- 52.3/300.9 MB 28.4 MB/s eta 0:00:09\n",
      "   ------- -------------------------------- 53.9/300.9 MB 28.4 MB/s eta 0:00:09\n",
      "   ------- -------------------------------- 55.2/300.9 MB 29.8 MB/s eta 0:00:09\n",
      "   ------- -------------------------------- 56.8/300.9 MB 27.3 MB/s eta 0:00:09\n",
      "   ------- -------------------------------- 58.0/300.9 MB 28.4 MB/s eta 0:00:09\n",
      "   ------- -------------------------------- 59.1/300.9 MB 27.3 MB/s eta 0:00:09\n",
      "   -------- ------------------------------- 60.3/300.9 MB 28.4 MB/s eta 0:00:09\n",
      "   -------- ------------------------------- 62.2/300.9 MB 27.3 MB/s eta 0:00:09\n",
      "   -------- ------------------------------- 62.8/300.9 MB 29.7 MB/s eta 0:00:09\n",
      "   -------- ------------------------------- 64.8/300.9 MB 29.7 MB/s eta 0:00:08\n",
      "   -------- ------------------------------- 66.2/300.9 MB 31.2 MB/s eta 0:00:08\n",
      "   --------- ------------------------------ 68.4/300.9 MB 29.7 MB/s eta 0:00:08\n",
      "   --------- ------------------------------ 69.5/300.9 MB 31.2 MB/s eta 0:00:08\n",
      "   --------- ------------------------------ 71.1/300.9 MB 31.2 MB/s eta 0:00:08\n",
      "   --------- ------------------------------ 72.9/300.9 MB 32.7 MB/s eta 0:00:07\n",
      "   --------- ------------------------------ 73.7/300.9 MB 31.2 MB/s eta 0:00:08\n",
      "   ---------- ----------------------------- 76.3/300.9 MB 32.7 MB/s eta 0:00:07\n",
      "   ---------- ----------------------------- 76.8/300.9 MB 32.8 MB/s eta 0:00:07\n",
      "   ---------- ----------------------------- 78.2/300.9 MB 29.7 MB/s eta 0:00:08\n",
      "   ---------- ----------------------------- 78.5/300.9 MB 25.2 MB/s eta 0:00:09\n",
      "   ---------- ----------------------------- 80.3/300.9 MB 26.2 MB/s eta 0:00:09\n",
      "   ---------- ----------------------------- 81.7/300.9 MB 27.3 MB/s eta 0:00:09\n",
      "   ---------- ----------------------------- 82.7/300.9 MB 26.2 MB/s eta 0:00:09\n",
      "   ----------- ---------------------------- 84.3/300.9 MB 28.5 MB/s eta 0:00:08\n",
      "   ----------- ---------------------------- 85.1/300.9 MB 24.2 MB/s eta 0:00:09\n",
      "   ----------- ---------------------------- 85.8/300.9 MB 23.4 MB/s eta 0:00:10\n",
      "   ----------- ---------------------------- 87.4/300.9 MB 23.4 MB/s eta 0:00:10\n",
      "   ----------- ---------------------------- 88.9/300.9 MB 27.3 MB/s eta 0:00:08\n",
      "   ----------- ---------------------------- 89.5/300.9 MB 25.2 MB/s eta 0:00:09\n",
      "   ------------ --------------------------- 91.3/300.9 MB 26.2 MB/s eta 0:00:09\n",
      "   ------------ --------------------------- 92.8/300.9 MB 27.3 MB/s eta 0:00:08\n",
      "   ------------ --------------------------- 93.7/300.9 MB 25.2 MB/s eta 0:00:09\n",
      "   ------------ --------------------------- 95.5/300.9 MB 27.3 MB/s eta 0:00:08\n",
      "   ------------ --------------------------- 97.1/300.9 MB 29.7 MB/s eta 0:00:07\n",
      "   ------------- -------------------------- 98.7/300.9 MB 28.5 MB/s eta 0:00:08\n",
      "   ------------- ------------------------- 101.0/300.9 MB 32.7 MB/s eta 0:00:07\n",
      "   ------------- ------------------------- 102.3/300.9 MB 29.8 MB/s eta 0:00:07\n",
      "   ------------- ------------------------- 103.9/300.9 MB 32.7 MB/s eta 0:00:07\n",
      "   ------------- ------------------------- 105.3/300.9 MB 34.4 MB/s eta 0:00:06\n",
      "   ------------- ------------------------- 106.2/300.9 MB 36.4 MB/s eta 0:00:06\n",
      "   -------------- ------------------------ 109.2/300.9 MB 36.4 MB/s eta 0:00:06\n",
      "   -------------- ------------------------ 110.4/300.9 MB 36.4 MB/s eta 0:00:06\n",
      "   -------------- ------------------------ 111.7/300.9 MB 36.4 MB/s eta 0:00:06\n",
      "   -------------- ------------------------ 113.6/300.9 MB 32.8 MB/s eta 0:00:06\n",
      "   -------------- ------------------------ 114.8/300.9 MB 32.7 MB/s eta 0:00:06\n",
      "   --------------- ----------------------- 116.2/300.9 MB 31.2 MB/s eta 0:00:06\n",
      "   --------------- ----------------------- 117.4/300.9 MB 32.8 MB/s eta 0:00:06\n",
      "   --------------- ----------------------- 118.8/300.9 MB 29.8 MB/s eta 0:00:07\n",
      "   --------------- ----------------------- 120.5/300.9 MB 29.7 MB/s eta 0:00:07\n",
      "   --------------- ----------------------- 122.1/300.9 MB 34.4 MB/s eta 0:00:06\n",
      "   ---------------- ---------------------- 123.9/300.9 MB 32.7 MB/s eta 0:00:06\n",
      "   ---------------- ---------------------- 125.5/300.9 MB 34.6 MB/s eta 0:00:06\n",
      "   ---------------- ---------------------- 127.4/300.9 MB 34.4 MB/s eta 0:00:06\n",
      "   ---------------- ---------------------- 129.1/300.9 MB 38.6 MB/s eta 0:00:05\n",
      "   ---------------- ---------------------- 130.2/300.9 MB 32.7 MB/s eta 0:00:06\n",
      "   ----------------- --------------------- 132.6/300.9 MB 38.5 MB/s eta 0:00:05\n",
      "   ----------------- --------------------- 134.4/300.9 MB 34.6 MB/s eta 0:00:05\n",
      "   ----------------- --------------------- 135.6/300.9 MB 34.4 MB/s eta 0:00:05\n",
      "   ----------------- --------------------- 136.6/300.9 MB 32.8 MB/s eta 0:00:06\n",
      "   ----------------- --------------------- 138.0/300.9 MB 32.8 MB/s eta 0:00:05\n",
      "   ------------------ -------------------- 139.7/300.9 MB 32.8 MB/s eta 0:00:05\n",
      "   ------------------ -------------------- 140.1/300.9 MB 32.7 MB/s eta 0:00:05\n",
      "   ------------------ -------------------- 141.4/300.9 MB 28.4 MB/s eta 0:00:06\n",
      "   ------------------ -------------------- 142.2/300.9 MB 28.5 MB/s eta 0:00:06\n",
      "   ------------------ -------------------- 143.5/300.9 MB 24.2 MB/s eta 0:00:07\n",
      "   ------------------ -------------------- 144.3/300.9 MB 23.4 MB/s eta 0:00:07\n",
      "   ------------------ -------------------- 144.6/300.9 MB 21.8 MB/s eta 0:00:08\n",
      "   ------------------ -------------------- 145.3/300.9 MB 21.1 MB/s eta 0:00:08\n",
      "   ------------------- ------------------- 146.6/300.9 MB 21.8 MB/s eta 0:00:08\n",
      "   ------------------- ------------------- 147.0/300.9 MB 20.5 MB/s eta 0:00:08\n",
      "   ------------------- ------------------- 149.2/300.9 MB 20.5 MB/s eta 0:00:08\n",
      "   ------------------- ------------------- 150.8/300.9 MB 24.2 MB/s eta 0:00:07\n",
      "   ------------------- ------------------- 152.4/300.9 MB 26.2 MB/s eta 0:00:06\n",
      "   ------------------- ------------------- 153.8/300.9 MB 25.2 MB/s eta 0:00:06\n",
      "   -------------------- ------------------ 155.6/300.9 MB 31.2 MB/s eta 0:00:05\n",
      "   -------------------- ------------------ 156.6/300.9 MB 31.2 MB/s eta 0:00:05\n",
      "   -------------------- ------------------ 157.8/300.9 MB 29.7 MB/s eta 0:00:05\n",
      "   -------------------- ------------------ 158.9/300.9 MB 29.7 MB/s eta 0:00:05\n",
      "   -------------------- ------------------ 160.7/300.9 MB 28.5 MB/s eta 0:00:05\n",
      "   -------------------- ------------------ 160.7/300.9 MB 28.5 MB/s eta 0:00:05\n",
      "   -------------------- ------------------ 160.7/300.9 MB 28.5 MB/s eta 0:00:05\n",
      "   -------------------- ------------------ 161.0/300.9 MB 21.9 MB/s eta 0:00:07\n",
      "   -------------------- ------------------ 161.7/300.9 MB 20.5 MB/s eta 0:00:07\n",
      "   --------------------- ----------------- 162.8/300.9 MB 19.8 MB/s eta 0:00:07\n",
      "   --------------------- ----------------- 163.5/300.9 MB 18.2 MB/s eta 0:00:08\n",
      "   --------------------- ----------------- 164.0/300.9 MB 17.2 MB/s eta 0:00:08\n",
      "   --------------------- ----------------- 164.5/300.9 MB 16.8 MB/s eta 0:00:09\n",
      "   --------------------- ----------------- 164.7/300.9 MB 16.0 MB/s eta 0:00:09\n",
      "   --------------------- ----------------- 166.0/300.9 MB 16.0 MB/s eta 0:00:09\n",
      "   --------------------- ----------------- 168.2/300.9 MB 16.8 MB/s eta 0:00:08\n",
      "   --------------------- ----------------- 168.3/300.9 MB 16.8 MB/s eta 0:00:08\n",
      "   --------------------- ----------------- 168.9/300.9 MB 15.6 MB/s eta 0:00:09\n",
      "   ---------------------- ---------------- 170.8/300.9 MB 16.0 MB/s eta 0:00:09\n",
      "   ---------------------- ---------------- 171.2/300.9 MB 17.7 MB/s eta 0:00:08\n",
      "   ---------------------- ---------------- 173.0/300.9 MB 20.5 MB/s eta 0:00:07\n",
      "   ---------------------- ---------------- 174.1/300.9 MB 22.5 MB/s eta 0:00:06\n",
      "   ---------------------- ---------------- 175.5/300.9 MB 27.3 MB/s eta 0:00:05\n",
      "   ---------------------- ---------------- 175.5/300.9 MB 27.3 MB/s eta 0:00:05\n",
      "   ----------------------- --------------- 177.6/300.9 MB 23.4 MB/s eta 0:00:06\n",
      "   ----------------------- --------------- 178.4/300.9 MB 23.4 MB/s eta 0:00:06\n",
      "   ----------------------- --------------- 180.8/300.9 MB 25.1 MB/s eta 0:00:05\n",
      "   ----------------------- --------------- 181.3/300.9 MB 27.3 MB/s eta 0:00:05\n",
      "   ----------------------- --------------- 181.9/300.9 MB 25.2 MB/s eta 0:00:05\n",
      "   ----------------------- --------------- 183.1/300.9 MB 23.4 MB/s eta 0:00:06\n",
      "   ----------------------- --------------- 183.8/300.9 MB 21.1 MB/s eta 0:00:06\n",
      "   ------------------------ -------------- 185.5/300.9 MB 21.8 MB/s eta 0:00:06\n",
      "   ------------------------ -------------- 186.4/300.9 MB 25.2 MB/s eta 0:00:05\n",
      "   ------------------------ -------------- 187.7/300.9 MB 23.4 MB/s eta 0:00:05\n",
      "   ------------------------ -------------- 188.5/300.9 MB 22.5 MB/s eta 0:00:05\n",
      "   ------------------------ -------------- 189.3/300.9 MB 23.4 MB/s eta 0:00:05\n",
      "   ------------------------ -------------- 189.9/300.9 MB 21.1 MB/s eta 0:00:06\n",
      "   ------------------------ -------------- 191.4/300.9 MB 21.1 MB/s eta 0:00:06\n",
      "   ------------------------ -------------- 192.7/300.9 MB 22.6 MB/s eta 0:00:05\n",
      "   ------------------------- ------------- 194.9/300.9 MB 26.2 MB/s eta 0:00:05\n",
      "   ------------------------- ------------- 195.8/300.9 MB 24.2 MB/s eta 0:00:05\n",
      "   ------------------------- ------------- 196.9/300.9 MB 24.2 MB/s eta 0:00:05\n",
      "   ------------------------- ------------- 199.0/300.9 MB 28.5 MB/s eta 0:00:04\n",
      "   ------------------------- ------------- 200.0/300.9 MB 31.2 MB/s eta 0:00:04\n",
      "   -------------------------- ------------ 201.8/300.9 MB 31.1 MB/s eta 0:00:04\n",
      "   -------------------------- ------------ 202.9/300.9 MB 31.2 MB/s eta 0:00:04\n",
      "   -------------------------- ------------ 203.8/300.9 MB 29.8 MB/s eta 0:00:04\n",
      "   -------------------------- ------------ 206.0/300.9 MB 31.2 MB/s eta 0:00:04\n",
      "   -------------------------- ------------ 207.3/300.9 MB 34.6 MB/s eta 0:00:03\n",
      "   --------------------------- ----------- 208.7/300.9 MB 32.8 MB/s eta 0:00:03\n",
      "   --------------------------- ----------- 210.9/300.9 MB 32.7 MB/s eta 0:00:03\n",
      "   --------------------------- ----------- 212.0/300.9 MB 29.8 MB/s eta 0:00:03\n",
      "   --------------------------- ----------- 213.6/300.9 MB 31.1 MB/s eta 0:00:03\n",
      "   --------------------------- ----------- 215.2/300.9 MB 29.7 MB/s eta 0:00:03\n",
      "   --------------------------- ----------- 215.7/300.9 MB 28.5 MB/s eta 0:00:03\n",
      "   ---------------------------- ---------- 217.0/300.9 MB 29.7 MB/s eta 0:00:03\n",
      "   ---------------------------- ---------- 218.9/300.9 MB 29.7 MB/s eta 0:00:03\n",
      "   ---------------------------- ---------- 220.5/300.9 MB 29.7 MB/s eta 0:00:03\n",
      "   ---------------------------- ---------- 221.8/300.9 MB 31.2 MB/s eta 0:00:03\n",
      "   ---------------------------- ---------- 223.4/300.9 MB 29.7 MB/s eta 0:00:03\n",
      "   ----------------------------- --------- 224.9/300.9 MB 32.7 MB/s eta 0:00:03\n",
      "   ----------------------------- --------- 225.8/300.9 MB 32.7 MB/s eta 0:00:03\n",
      "   ----------------------------- --------- 228.1/300.9 MB 32.8 MB/s eta 0:00:03\n",
      "   ----------------------------- --------- 229.5/300.9 MB 32.8 MB/s eta 0:00:03\n",
      "   ----------------------------- --------- 230.3/300.9 MB 29.7 MB/s eta 0:00:03\n",
      "   ------------------------------ -------- 232.3/300.9 MB 32.7 MB/s eta 0:00:03\n",
      "   ------------------------------ -------- 232.9/300.9 MB 29.7 MB/s eta 0:00:03\n",
      "   ------------------------------ -------- 234.2/300.9 MB 28.4 MB/s eta 0:00:03\n",
      "   ------------------------------ -------- 235.4/300.9 MB 29.7 MB/s eta 0:00:03\n",
      "   ------------------------------ -------- 237.5/300.9 MB 28.5 MB/s eta 0:00:03\n",
      "   ------------------------------ -------- 237.9/300.9 MB 27.3 MB/s eta 0:00:03\n",
      "   ------------------------------- ------- 240.0/300.9 MB 27.3 MB/s eta 0:00:03\n",
      "   ------------------------------- ------- 241.9/300.9 MB 27.3 MB/s eta 0:00:03\n",
      "   ------------------------------- ------- 243.5/300.9 MB 31.1 MB/s eta 0:00:02\n",
      "   ------------------------------- ------- 245.1/300.9 MB 34.6 MB/s eta 0:00:02\n",
      "   ------------------------------- ------- 246.0/300.9 MB 29.7 MB/s eta 0:00:02\n",
      "   ------------------------------- ------- 246.5/300.9 MB 27.3 MB/s eta 0:00:02\n",
      "   -------------------------------- ------ 247.3/300.9 MB 25.1 MB/s eta 0:00:03\n",
      "   -------------------------------- ------ 248.5/300.9 MB 26.2 MB/s eta 0:00:03\n",
      "   -------------------------------- ------ 250.1/300.9 MB 25.2 MB/s eta 0:00:03\n",
      "   -------------------------------- ------ 251.7/300.9 MB 26.2 MB/s eta 0:00:02\n",
      "   -------------------------------- ------ 253.2/300.9 MB 26.2 MB/s eta 0:00:02\n",
      "   -------------------------------- ------ 254.5/300.9 MB 26.2 MB/s eta 0:00:02\n",
      "   --------------------------------- ----- 256.5/300.9 MB 29.7 MB/s eta 0:00:02\n",
      "   --------------------------------- ----- 257.9/300.9 MB 34.4 MB/s eta 0:00:02\n",
      "   --------------------------------- ----- 259.0/300.9 MB 31.2 MB/s eta 0:00:02\n",
      "   --------------------------------- ----- 260.7/300.9 MB 32.7 MB/s eta 0:00:02\n",
      "   --------------------------------- ----- 261.6/300.9 MB 32.7 MB/s eta 0:00:02\n",
      "   ---------------------------------- ---- 263.4/300.9 MB 32.7 MB/s eta 0:00:02\n",
      "   ---------------------------------- ---- 264.8/300.9 MB 34.4 MB/s eta 0:00:02\n",
      "   ---------------------------------- ---- 266.5/300.9 MB 31.2 MB/s eta 0:00:02\n",
      "   ---------------------------------- ---- 267.4/300.9 MB 31.2 MB/s eta 0:00:02\n",
      "   ---------------------------------- ---- 268.9/300.9 MB 34.4 MB/s eta 0:00:01\n",
      "   ----------------------------------- --- 271.3/300.9 MB 34.4 MB/s eta 0:00:01\n",
      "   ----------------------------------- --- 272.3/300.9 MB 32.7 MB/s eta 0:00:01\n",
      "   ----------------------------------- --- 273.9/300.9 MB 32.7 MB/s eta 0:00:01\n",
      "   ----------------------------------- --- 275.3/300.9 MB 34.4 MB/s eta 0:00:01\n",
      "   ----------------------------------- --- 276.5/300.9 MB 32.7 MB/s eta 0:00:01\n",
      "   ------------------------------------ -- 278.3/300.9 MB 32.8 MB/s eta 0:00:01\n",
      "   ------------------------------------ -- 279.7/300.9 MB 32.8 MB/s eta 0:00:01\n",
      "   ------------------------------------ -- 281.3/300.9 MB 32.7 MB/s eta 0:00:01\n",
      "   ------------------------------------ -- 283.0/300.9 MB 32.8 MB/s eta 0:00:01\n",
      "   ------------------------------------ -- 284.5/300.9 MB 34.4 MB/s eta 0:00:01\n",
      "   ------------------------------------- - 286.5/300.9 MB 32.7 MB/s eta 0:00:01\n",
      "   ------------------------------------- - 287.8/300.9 MB 36.3 MB/s eta 0:00:01\n",
      "   ------------------------------------- - 288.8/300.9 MB 34.4 MB/s eta 0:00:01\n",
      "   ------------------------------------- - 289.7/300.9 MB 32.7 MB/s eta 0:00:01\n",
      "   ------------------------------------- - 291.0/300.9 MB 31.2 MB/s eta 0:00:01\n",
      "   --------------------------------------  293.4/300.9 MB 34.4 MB/s eta 0:00:01\n",
      "   --------------------------------------  294.6/300.9 MB 34.4 MB/s eta 0:00:01\n",
      "   --------------------------------------  296.1/300.9 MB 29.7 MB/s eta 0:00:01\n",
      "   --------------------------------------  296.8/300.9 MB 29.7 MB/s eta 0:00:01\n",
      "   --------------------------------------  297.2/300.9 MB 28.5 MB/s eta 0:00:01\n",
      "   --------------------------------------  297.2/300.9 MB 28.5 MB/s eta 0:00:01\n",
      "   --------------------------------------  298.6/300.9 MB 22.6 MB/s eta 0:00:01\n",
      "   --------------------------------------  299.5/300.9 MB 22.6 MB/s eta 0:00:01\n",
      "   --------------------------------------  300.2/300.9 MB 21.8 MB/s eta 0:00:01\n",
      "   --------------------------------------  300.9/300.9 MB 21.1 MB/s eta 0:00:01\n",
      "   --------------------------------------  300.9/300.9 MB 21.1 MB/s eta 0:00:01\n",
      "   --------------------------------------  300.9/300.9 MB 21.1 MB/s eta 0:00:01\n",
      "   --------------------------------------  300.9/300.9 MB 21.1 MB/s eta 0:00:01\n",
      "   --------------------------------------  300.9/300.9 MB 21.1 MB/s eta 0:00:01\n",
      "   --------------------------------------  300.9/300.9 MB 21.1 MB/s eta 0:00:01\n",
      "   --------------------------------------  300.9/300.9 MB 21.1 MB/s eta 0:00:01\n",
      "   --------------------------------------  300.9/300.9 MB 21.1 MB/s eta 0:00:01\n",
      "   --------------------------------------  300.9/300.9 MB 21.1 MB/s eta 0:00:01\n",
      "   --------------------------------------  300.9/300.9 MB 21.1 MB/s eta 0:00:01\n",
      "   --------------------------------------  300.9/300.9 MB 21.1 MB/s eta 0:00:01\n",
      "   --------------------------------------  300.9/300.9 MB 21.1 MB/s eta 0:00:01\n",
      "   --------------------------------------  300.9/300.9 MB 21.1 MB/s eta 0:00:01\n",
      "   --------------------------------------  300.9/300.9 MB 21.1 MB/s eta 0:00:01\n",
      "   --------------------------------------  300.9/300.9 MB 21.1 MB/s eta 0:00:01\n",
      "   --------------------------------------  300.9/300.9 MB 21.1 MB/s eta 0:00:01\n",
      "   --------------------------------------  300.9/300.9 MB 21.1 MB/s eta 0:00:01\n",
      "   --------------------------------------  300.9/300.9 MB 21.1 MB/s eta 0:00:01\n",
      "   --------------------------------------  300.9/300.9 MB 21.1 MB/s eta 0:00:01\n",
      "   --------------------------------------  300.9/300.9 MB 21.1 MB/s eta 0:00:01\n",
      "   --------------------------------------  300.9/300.9 MB 21.1 MB/s eta 0:00:01\n",
      "   --------------------------------------  300.9/300.9 MB 21.1 MB/s eta 0:00:01\n",
      "   --------------------------------------  300.9/300.9 MB 21.1 MB/s eta 0:00:01\n",
      "   --------------------------------------  300.9/300.9 MB 21.1 MB/s eta 0:00:01\n",
      "   --------------------------------------  300.9/300.9 MB 21.1 MB/s eta 0:00:01\n",
      "   --------------------------------------  300.9/300.9 MB 21.1 MB/s eta 0:00:01\n",
      "   --------------------------------------  300.9/300.9 MB 21.1 MB/s eta 0:00:01\n",
      "   --------------------------------------  300.9/300.9 MB 21.1 MB/s eta 0:00:01\n",
      "   --------------------------------------  300.9/300.9 MB 21.1 MB/s eta 0:00:01\n",
      "   --------------------------------------  300.9/300.9 MB 21.1 MB/s eta 0:00:01\n",
      "   --------------------------------------  300.9/300.9 MB 21.1 MB/s eta 0:00:01\n",
      "   --------------------------------------  300.9/300.9 MB 21.1 MB/s eta 0:00:01\n",
      "   --------------------------------------  300.9/300.9 MB 21.1 MB/s eta 0:00:01\n",
      "   --------------------------------------  300.9/300.9 MB 21.1 MB/s eta 0:00:01\n",
      "   --------------------------------------  300.9/300.9 MB 21.1 MB/s eta 0:00:01\n",
      "   --------------------------------------  300.9/300.9 MB 21.1 MB/s eta 0:00:01\n",
      "   --------------------------------------  300.9/300.9 MB 21.1 MB/s eta 0:00:01\n",
      "   --------------------------------------  300.9/300.9 MB 21.1 MB/s eta 0:00:01\n",
      "   --------------------------------------  300.9/300.9 MB 21.1 MB/s eta 0:00:01\n",
      "   --------------------------------------  300.9/300.9 MB 21.1 MB/s eta 0:00:01\n",
      "   --------------------------------------  300.9/300.9 MB 21.1 MB/s eta 0:00:01\n",
      "   ---------------------------------------- 300.9/300.9 MB 3.9 MB/s eta 0:00:00\n",
      "Downloading absl_py-2.1.0-py3-none-any.whl (133 kB)\n",
      "   ---------------------------------------- 0.0/133.7 kB ? eta -:--:--\n",
      "   ---------------------------------------- 133.7/133.7 kB 7.7 MB/s eta 0:00:00\n",
      "Downloading flatbuffers-23.5.26-py2.py3-none-any.whl (26 kB)\n",
      "Downloading gast-0.5.4-py3-none-any.whl (19 kB)\n",
      "Downloading grpcio-1.62.0-cp311-cp311-win_amd64.whl (3.8 MB)\n",
      "   ---------------------------------------- 0.0/3.8 MB ? eta -:--:--\n",
      "   ----------- ---------------------------- 1.1/3.8 MB 23.3 MB/s eta 0:00:01\n",
      "   ------------------ --------------------- 1.8/3.8 MB 22.8 MB/s eta 0:00:01\n",
      "   ------------------ --------------------- 1.8/3.8 MB 22.8 MB/s eta 0:00:01\n",
      "   --------------------- ------------------ 2.1/3.8 MB 10.9 MB/s eta 0:00:01\n",
      "   ---------------------------- ----------- 2.7/3.8 MB 10.6 MB/s eta 0:00:01\n",
      "   -------------------------------- ------- 3.1/3.8 MB 10.4 MB/s eta 0:00:01\n",
      "   ------------------------------------ --- 3.5/3.8 MB 10.1 MB/s eta 0:00:01\n",
      "   ---------------------------------------  3.8/3.8 MB 8.9 MB/s eta 0:00:01\n",
      "   ---------------------------------------- 3.8/3.8 MB 8.3 MB/s eta 0:00:00\n",
      "Downloading keras-2.15.0-py3-none-any.whl (1.7 MB)\n",
      "   ---------------------------------------- 0.0/1.7 MB ? eta -:--:--\n",
      "   ---------------------- ----------------- 1.0/1.7 MB 20.9 MB/s eta 0:00:01\n",
      "   ---------------------------------------  1.7/1.7 MB 18.3 MB/s eta 0:00:01\n",
      "   ---------------------------------------- 1.7/1.7 MB 18.3 MB/s eta 0:00:00\n",
      "Downloading libclang-16.0.6-py2.py3-none-win_amd64.whl (24.4 MB)\n",
      "   ---------------------------------------- 0.0/24.4 MB ? eta -:--:--\n",
      "   - -------------------------------------- 1.2/24.4 MB 25.4 MB/s eta 0:00:01\n",
      "   ---- ----------------------------------- 2.5/24.4 MB 32.4 MB/s eta 0:00:01\n",
      "   ------ --------------------------------- 3.9/24.4 MB 27.9 MB/s eta 0:00:01\n",
      "   ------- -------------------------------- 4.4/24.4 MB 25.5 MB/s eta 0:00:01\n",
      "   ---------- ----------------------------- 6.2/24.4 MB 28.3 MB/s eta 0:00:01\n",
      "   ---------- ----------------------------- 6.6/24.4 MB 24.7 MB/s eta 0:00:01\n",
      "   -------------- ------------------------- 8.7/24.4 MB 27.7 MB/s eta 0:00:01\n",
      "   --------------- ------------------------ 9.6/24.4 MB 26.7 MB/s eta 0:00:01\n",
      "   ----------------- ---------------------- 10.9/24.4 MB 27.3 MB/s eta 0:00:01\n",
      "   -------------------- ------------------- 12.3/24.4 MB 25.2 MB/s eta 0:00:01\n",
      "   --------------------- ------------------ 12.9/24.4 MB 24.2 MB/s eta 0:00:01\n",
      "   ---------------------- ----------------- 13.5/24.4 MB 23.4 MB/s eta 0:00:01\n",
      "   ----------------------- ---------------- 14.5/24.4 MB 23.4 MB/s eta 0:00:01\n",
      "   ------------------------- -------------- 15.6/24.4 MB 21.8 MB/s eta 0:00:01\n",
      "   --------------------------- ------------ 16.7/24.4 MB 21.8 MB/s eta 0:00:01\n",
      "   ---------------------------- ----------- 17.3/24.4 MB 22.6 MB/s eta 0:00:01\n",
      "   ------------------------------ --------- 18.6/24.4 MB 21.1 MB/s eta 0:00:01\n",
      "   -------------------------------- ------- 19.6/24.4 MB 21.1 MB/s eta 0:00:01\n",
      "   ---------------------------------- ----- 21.0/24.4 MB 20.5 MB/s eta 0:00:01\n",
      "   ----------------------------------- ---- 21.7/24.4 MB 20.5 MB/s eta 0:00:01\n",
      "   ------------------------------------- -- 22.8/24.4 MB 21.1 MB/s eta 0:00:01\n",
      "   -------------------------------------- - 23.6/24.4 MB 21.1 MB/s eta 0:00:01\n",
      "   ---------------------------------------  24.4/24.4 MB 21.1 MB/s eta 0:00:01\n",
      "   ---------------------------------------  24.4/24.4 MB 21.1 MB/s eta 0:00:01\n",
      "   ---------------------------------------- 24.4/24.4 MB 18.2 MB/s eta 0:00:00\n",
      "Downloading ml_dtypes-0.2.0-cp311-cp311-win_amd64.whl (938 kB)\n",
      "   ---------------------------------------- 0.0/938.7 kB ? eta -:--:--\n",
      "   --------------------------------------- 938.7/938.7 kB 30.0 MB/s eta 0:00:00\n",
      "Downloading tensorboard-2.15.2-py3-none-any.whl (5.5 MB)\n",
      "   ---------------------------------------- 0.0/5.5 MB ? eta -:--:--\n",
      "   ------ --------------------------------- 0.9/5.5 MB 18.7 MB/s eta 0:00:01\n",
      "   ----------------- ---------------------- 2.4/5.5 MB 25.2 MB/s eta 0:00:01\n",
      "   ------------------------ --------------- 3.5/5.5 MB 24.6 MB/s eta 0:00:01\n",
      "   ------------------------------------ --- 5.0/5.5 MB 26.9 MB/s eta 0:00:01\n",
      "   ---------------------------------------- 5.5/5.5 MB 23.6 MB/s eta 0:00:00\n",
      "Downloading tensorflow_estimator-2.15.0-py2.py3-none-any.whl (441 kB)\n",
      "   ---------------------------------------- 0.0/442.0 kB ? eta -:--:--\n",
      "   --------------------------------------- 442.0/442.0 kB 27.0 MB/s eta 0:00:00\n",
      "Downloading tensorflow_io_gcs_filesystem-0.31.0-cp311-cp311-win_amd64.whl (1.5 MB)\n",
      "   ---------------------------------------- 0.0/1.5 MB ? eta -:--:--\n",
      "   ---------------- ----------------------- 0.6/1.5 MB 12.9 MB/s eta 0:00:01\n",
      "   ---------------------------------------- 1.5/1.5 MB 23.4 MB/s eta 0:00:00\n",
      "Downloading termcolor-2.4.0-py3-none-any.whl (7.7 kB)\n",
      "Downloading tensorboard_data_server-0.7.2-py3-none-any.whl (2.4 kB)\n",
      "Installing collected packages: libclang, flatbuffers, termcolor, tensorflow-io-gcs-filesystem, tensorflow-estimator, tensorboard-data-server, opt-einsum, ml-dtypes, keras, grpcio, google-pasta, gast, astunparse, absl-py, tensorboard, tensorflow-intel, tensorflow\n",
      "Successfully installed absl-py-2.1.0 astunparse-1.6.3 flatbuffers-23.5.26 gast-0.5.4 google-pasta-0.2.0 grpcio-1.62.0 keras-2.15.0 libclang-16.0.6 ml-dtypes-0.2.0 opt-einsum-3.3.0 tensorboard-2.15.2 tensorboard-data-server-0.7.2 tensorflow-2.15.0 tensorflow-estimator-2.15.0 tensorflow-intel-2.15.0 tensorflow-io-gcs-filesystem-0.31.0 termcolor-2.4.0\n",
      "WARNING:tensorflow:From c:\\Users\\ruoxi\\anaconda3\\Lib\\site-packages\\keras\\src\\losses.py:2976: The name tf.losses.sparse_softmax_cross_entropy is deprecated. Please use tf.compat.v1.losses.sparse_softmax_cross_entropy instead.\n",
      "\n",
      "WARNING:tensorflow:From c:\\Users\\ruoxi\\anaconda3\\Lib\\site-packages\\keras\\src\\backend.py:873: The name tf.get_default_graph is deprecated. Please use tf.compat.v1.get_default_graph instead.\n",
      "\n",
      "WARNING:tensorflow:From c:\\Users\\ruoxi\\anaconda3\\Lib\\site-packages\\keras\\src\\optimizers\\__init__.py:309: The name tf.train.Optimizer is deprecated. Please use tf.compat.v1.train.Optimizer instead.\n",
      "\n"
     ]
    }
   ],
   "source": [
    "!pip install tensorflow\n",
    "from tensorflow.keras.models import Sequential\n",
    "from tensorflow.keras.layers import Dense\n",
    "\n"
   ]
  },
  {
   "cell_type": "code",
   "execution_count": 25,
   "metadata": {},
   "outputs": [],
   "source": [
    "model = Sequential([\n",
    "  Dense(64, activation='relu', input_shape=(X_train.shape[1],)), \n",
    "  Dense(32, activation='relu'),\n",
    "  Dense(16, activation='relu'),\n",
    "  Dense(2, activation='softmax'),   \n",
    "])\n",
    "\n",
    "# Compile the model.\n",
    "model.compile(\n",
    "  optimizer='adam',\n",
    "  loss='sparse_categorical_crossentropy', \n",
    "  metrics=['accuracy'],\n",
    ")"
   ]
  },
  {
   "cell_type": "code",
   "execution_count": 26,
   "metadata": {},
   "outputs": [
    {
     "name": "stdout",
     "output_type": "stream",
     "text": [
      "Epoch 1/10\n",
      "23/23 [==============================] - 1s 2ms/step - loss: 0.6302 - accuracy: 0.6379\n",
      "Epoch 2/10\n",
      "23/23 [==============================] - 0s 2ms/step - loss: 0.5706 - accuracy: 0.6783\n",
      "Epoch 3/10\n",
      "23/23 [==============================] - 0s 3ms/step - loss: 0.5317 - accuracy: 0.7549\n",
      "Epoch 4/10\n",
      "23/23 [==============================] - 0s 2ms/step - loss: 0.4882 - accuracy: 0.8008\n",
      "Epoch 5/10\n",
      "23/23 [==============================] - 0s 2ms/step - loss: 0.4351 - accuracy: 0.8384\n",
      "Epoch 6/10\n",
      "23/23 [==============================] - 0s 2ms/step - loss: 0.3712 - accuracy: 0.8663\n",
      "Epoch 7/10\n",
      "23/23 [==============================] - 0s 3ms/step - loss: 0.2982 - accuracy: 0.9053\n",
      "Epoch 8/10\n",
      "23/23 [==============================] - 0s 2ms/step - loss: 0.2329 - accuracy: 0.9401\n",
      "Epoch 9/10\n",
      "23/23 [==============================] - 0s 2ms/step - loss: 0.1701 - accuracy: 0.9666\n",
      "Epoch 10/10\n",
      "23/23 [==============================] - 0s 2ms/step - loss: 0.1174 - accuracy: 0.9819\n"
     ]
    },
    {
     "data": {
      "text/plain": [
       "<keras.src.callbacks.History at 0x1c2a74dfd10>"
      ]
     },
     "execution_count": 26,
     "metadata": {},
     "output_type": "execute_result"
    }
   ],
   "source": [
    "model.fit(X_train, y_train, epochs=10, batch_size=32)\n"
   ]
  },
  {
   "cell_type": "code",
   "execution_count": 27,
   "metadata": {},
   "outputs": [
    {
     "name": "stdout",
     "output_type": "stream",
     "text": [
      "8/8 [==============================] - 0s 2ms/step - loss: 0.1225 - accuracy: 0.9792\n"
     ]
    },
    {
     "data": {
      "text/plain": [
       "[0.1225058063864708, 0.9791666865348816]"
      ]
     },
     "execution_count": 27,
     "metadata": {},
     "output_type": "execute_result"
    }
   ],
   "source": [
    "# Evaluate the model.\n",
    "model.evaluate(\n",
    "  X_test,\n",
    "  y_test)"
   ]
  },
  {
   "cell_type": "code",
   "execution_count": 28,
   "metadata": {},
   "outputs": [
    {
     "name": "stdout",
     "output_type": "stream",
     "text": [
      "INFO:tensorflow:Assets written to: tic-tac-toe.model\\assets\n"
     ]
    },
    {
     "name": "stderr",
     "output_type": "stream",
     "text": [
      "INFO:tensorflow:Assets written to: tic-tac-toe.model\\assets\n"
     ]
    }
   ],
   "source": [
    "# Save the model\n",
    "model.save(\"tic-tac-toe.model\")"
   ]
  },
  {
   "cell_type": "markdown",
   "metadata": {},
   "source": [
    "## Step 3: Make Predictions\n",
    "\n",
    "Now load your saved model and use it to make predictions on a few random rows in the test dataset. Check if the predictions are correct."
   ]
  },
  {
   "cell_type": "code",
   "execution_count": 29,
   "metadata": {},
   "outputs": [
    {
     "name": "stdout",
     "output_type": "stream",
     "text": [
      "WARNING:tensorflow:From c:\\Users\\ruoxi\\anaconda3\\Lib\\site-packages\\keras\\src\\saving\\legacy\\saved_model\\load.py:107: The name tf.gfile.Exists is deprecated. Please use tf.io.gfile.exists instead.\n",
      "\n"
     ]
    },
    {
     "name": "stderr",
     "output_type": "stream",
     "text": [
      "WARNING:tensorflow:From c:\\Users\\ruoxi\\anaconda3\\Lib\\site-packages\\keras\\src\\saving\\legacy\\saved_model\\load.py:107: The name tf.gfile.Exists is deprecated. Please use tf.io.gfile.exists instead.\n",
      "\n"
     ]
    }
   ],
   "source": [
    "# your code here\n",
    "from tensorflow import keras\n",
    "import numpy as np\n",
    "\n",
    "# Load the saved model\n",
    "loaded_model = keras.models.load_model('tic-tac-toe.model')\n"
   ]
  },
  {
   "cell_type": "code",
   "execution_count": 30,
   "metadata": {},
   "outputs": [
    {
     "name": "stdout",
     "output_type": "stream",
     "text": [
      "1/1 [==============================] - 0s 187ms/step\n"
     ]
    },
    {
     "data": {
      "text/plain": [
       "array([[0.1423056 , 0.8576944 ],\n",
       "       [0.65556335, 0.34443673],\n",
       "       [0.9748847 , 0.02511531],\n",
       "       [0.8996028 , 0.10039718],\n",
       "       [0.01662913, 0.9833709 ]], dtype=float32)"
      ]
     },
     "execution_count": 30,
     "metadata": {},
     "output_type": "execute_result"
    }
   ],
   "source": [
    "# Predict on the first 5 test images.\n",
    "predictions = loaded_model.predict(X_test[:5])\n",
    "predictions"
   ]
  },
  {
   "cell_type": "code",
   "execution_count": 32,
   "metadata": {},
   "outputs": [
    {
     "data": {
      "text/plain": [
       "array([1, 0, 0, 0, 1], dtype=int64)"
      ]
     },
     "execution_count": 32,
     "metadata": {},
     "output_type": "execute_result"
    }
   ],
   "source": [
    "# Convert predictions to binary based on the highest probability\n",
    "predicted_labels = np.argmax(predictions, axis=1)\n",
    "predicted_labels"
   ]
  },
  {
   "cell_type": "code",
   "execution_count": 33,
   "metadata": {},
   "outputs": [
    {
     "data": {
      "text/plain": [
       "array(['True', 'False', 'False', 'False', 'True'], dtype='<U5')"
      ]
     },
     "execution_count": 33,
     "metadata": {},
     "output_type": "execute_result"
    }
   ],
   "source": [
    "# Convert numeric labels to strings\n",
    "predicted_labels_str = np.where(predicted_labels == 1, \"True\", \"False\")\n",
    "predicted_labels_str"
   ]
  },
  {
   "cell_type": "code",
   "execution_count": 35,
   "metadata": {},
   "outputs": [
    {
     "data": {
      "text/plain": [
       "27      True\n",
       "649    False\n",
       "778    False\n",
       "820    False\n",
       "194     True\n",
       "Name: class, dtype: bool"
      ]
     },
     "execution_count": 35,
     "metadata": {},
     "output_type": "execute_result"
    }
   ],
   "source": [
    "y_test[:5]"
   ]
  },
  {
   "cell_type": "markdown",
   "metadata": {},
   "source": [
    "## Step 4: Improve Your Model\n",
    "\n",
    "Did your model achieve low loss (<0.1) and high accuracy (>0.95)? If not, try to improve your model.\n",
    "\n",
    "But how? There are so many things you can play with in Tensorflow and in the next challenge you'll learn about these things. But in this challenge, let's just do a few things to see if they will help.\n",
    "\n",
    "* Add more layers to your model. If the data are complex you need more layers. But don't use more layers than you need. If adding more layers does not improve the model performance you don't need additional layers.\n",
    "* Adjust the learning rate when you compile the model. This means you will create a custom `tf.keras.optimizers.Adam` instance where you specify the learning rate you want. Then pass the instance to `model.compile` as the optimizer.\n",
    "    * `tf.keras.optimizers.Adam` [reference](https://www.tensorflow.org/api_docs/python/tf/keras/optimizers/Adam).\n",
    "    * Don't worry if you don't understand what the learning rate does. You'll learn about it in the next challenge.\n",
    "* Adjust the number of epochs when you fit the training data to the model. Your model performance continues to improve as you train more epochs. But eventually it will reach the ceiling and the performance will stay the same."
   ]
  },
  {
   "cell_type": "code",
   "execution_count": null,
   "metadata": {},
   "outputs": [],
   "source": [
    "# your code here\n",
    "# The model built above is having low loss around 0.1 and high accuracy above 0.95"
   ]
  },
  {
   "cell_type": "markdown",
   "metadata": {},
   "source": [
    "**Which approach(es) did you find helpful to improve your model performance?**"
   ]
  },
  {
   "cell_type": "code",
   "execution_count": null,
   "metadata": {},
   "outputs": [],
   "source": [
    "# your answer here"
   ]
  }
 ],
 "metadata": {
  "kernelspec": {
   "display_name": "Python 3",
   "language": "python",
   "name": "python3"
  },
  "language_info": {
   "codemirror_mode": {
    "name": "ipython",
    "version": 3
   },
   "file_extension": ".py",
   "mimetype": "text/x-python",
   "name": "python",
   "nbconvert_exporter": "python",
   "pygments_lexer": "ipython3",
   "version": "3.11.4"
  }
 },
 "nbformat": 4,
 "nbformat_minor": 2
}
